{
 "cells": [
  {
   "cell_type": "code",
   "execution_count": 1,
   "metadata": {
    "colab": {
     "base_uri": "https://localhost:8080/",
     "height": 372
    },
    "colab_type": "code",
    "id": "0qPzQCcv42le",
    "outputId": "16e0b3f8-75ce-4da9-f362-cc586bb29183"
   },
   "outputs": [],
   "source": [
    "import json\n",
    "import os\n",
    "import time \n",
    "import pickle\n",
    "import re \n",
    "from tqdm import tqdm\n",
    "import html"
   ]
  },
  {
   "cell_type": "code",
   "execution_count": 2,
   "metadata": {},
   "outputs": [],
   "source": [
    "def extract_topic(url):\n",
    "    match = re.search(r'(?<=https://www.washingtonpost.com/)([^/]*)(?=/)',text['contenturl'])\n",
    "    if match is None:\n",
    "        return \"\"\n",
    "    else:\n",
    "        return url[match.start():match.end()]"
   ]
  },
  {
   "cell_type": "code",
   "execution_count": 3,
   "metadata": {
    "colab": {
     "base_uri": "https://localhost:8080/",
     "height": 372
    },
    "colab_type": "code",
    "id": "0qPzQCcv42le",
    "outputId": "16e0b3f8-75ce-4da9-f362-cc586bb29183",
    "scrolled": true
   },
   "outputs": [
    {
     "name": "stderr",
     "output_type": "stream",
     "text": [
      "100%|██████████| 26/26 [00:10<00:00,  2.50it/s]"
     ]
    },
    {
     "name": "stdout",
     "output_type": "stream",
     "text": [
      "-10.90625810623169\n"
     ]
    },
    {
     "name": "stderr",
     "output_type": "stream",
     "text": [
      "\n"
     ]
    }
   ],
   "source": [
    "s = time.time()\n",
    "sections = {}\n",
    "path = './data/1-10_October_2019/'\n",
    "all_texts = set()\n",
    "documents = []\n",
    "for file in tqdm(os.listdir(path)):\n",
    "    for text in json.load(open(path+file,'r')):\n",
    "        if 'body' in text and 'contenturl' in text:\n",
    "            body = html.unescape(text['body'])\n",
    "            all_texts.add(body)\n",
    "            topic = extract_topic(text['contenturl'])\n",
    "            if topic in sections:\n",
    "                sections[topic].add(body)\n",
    "            else:\n",
    "                sections[topic] = {body}\n",
    "print(s-time.time())"
   ]
  },
  {
   "cell_type": "code",
   "execution_count": 47,
   "metadata": {},
   "outputs": [],
   "source": [
    "sections = {topic: items for topic, items in sections.items() if len(items) > 20}"
   ]
  },
  {
   "cell_type": "code",
   "execution_count": 48,
   "metadata": {
    "colab": {},
    "colab_type": "code",
    "id": "7ei-f-TO5ySM"
   },
   "outputs": [],
   "source": [
    "import gensim\n",
    "from gensim.utils import simple_preprocess\n",
    "from gensim.parsing.preprocessing import STOPWORDS\n",
    "from nltk.stem import WordNetLemmatizer, SnowballStemmer\n",
    "from nltk.stem.porter import *\n",
    "import numpy as np\n",
    "np.random.seed(2018)"
   ]
  },
  {
   "cell_type": "code",
   "execution_count": 49,
   "metadata": {
    "colab": {},
    "colab_type": "code",
    "id": "1vJd8ZzS54Fk"
   },
   "outputs": [
    {
     "name": "stdout",
     "output_type": "stream",
     "text": [
      "[nltk_data] Downloading package wordnet to /home/sergey/nltk_data...\n",
      "[nltk_data]   Package wordnet is already up-to-date!\n"
     ]
    },
    {
     "data": {
      "text/plain": [
       "True"
      ]
     },
     "execution_count": 49,
     "metadata": {},
     "output_type": "execute_result"
    }
   ],
   "source": [
    "import nltk\n",
    "nltk.download('wordnet')"
   ]
  },
  {
   "cell_type": "code",
   "execution_count": 50,
   "metadata": {},
   "outputs": [],
   "source": [
    "stemmer = SnowballStemmer('english')"
   ]
  },
  {
   "cell_type": "code",
   "execution_count": 51,
   "metadata": {
    "colab": {},
    "colab_type": "code",
    "id": "OWn22Yui9L9j"
   },
   "outputs": [],
   "source": [
    "def lemmatize_stemming(text):\n",
    "    return stemmer.stem(WordNetLemmatizer().lemmatize(text, pos='v'))\n",
    "\n",
    "def preprocess(text):\n",
    "    result = []\n",
    "    for token in gensim.utils.simple_preprocess(text):\n",
    "        if token not in gensim.parsing.preprocessing.STOPWORDS and len(token) > 3:\n",
    "            result.append(lemmatize_stemming(token))\n",
    "    return result"
   ]
  },
  {
   "cell_type": "code",
   "execution_count": 52,
   "metadata": {
    "colab": {},
    "colab_type": "code",
    "id": "0KR1VpTM9MUn"
   },
   "outputs": [
    {
     "name": "stderr",
     "output_type": "stream",
     "text": [
      "100%|██████████| 17/17 [00:12<00:00,  2.46it/s]"
     ]
    },
    {
     "name": "stdout",
     "output_type": "stream",
     "text": [
      "-12.57628345489502\n"
     ]
    },
    {
     "name": "stderr",
     "output_type": "stream",
     "text": [
      "\n"
     ]
    }
   ],
   "source": [
    "s = time.time()\n",
    "\n",
    "processed_docs = {}\n",
    "for key in tqdm(sections):\n",
    "    processed_docs[key] = []\n",
    "    for document in sections[key]:\n",
    "        processed_docs[key].append(preprocess(document))\n",
    "   \n",
    "print(s-time.time())\n",
    "# query = 'news Basketball Basketball Anthony '\n",
    "# processed_query = preprocess(query)\n",
    "# print(processed_query)\n",
    "# bow_query = dictionary.doc2bow(processed_query)\n",
    "# bow_query"
   ]
  },
  {
   "cell_type": "code",
   "execution_count": 53,
   "metadata": {
    "colab": {},
    "colab_type": "code",
    "id": "GkQ-aErF9MR6"
   },
   "outputs": [
    {
     "name": "stdout",
     "output_type": "stream",
     "text": [
      "-0.7677497863769531\n"
     ]
    }
   ],
   "source": [
    "s = time.time()\n",
    "dictionary = {}\n",
    "for key in sections:\n",
    "    dictionary[key] = gensim.corpora.Dictionary(processed_docs[key])\n",
    "print(s-time.time())"
   ]
  },
  {
   "cell_type": "code",
   "execution_count": 54,
   "metadata": {
    "colab": {},
    "colab_type": "code",
    "id": "C_sPqhfV9Veg"
   },
   "outputs": [
    {
     "name": "stdout",
     "output_type": "stream",
     "text": [
      "-0.39707446098327637\n"
     ]
    }
   ],
   "source": [
    "s = time.time()\n",
    "bow_corpus = {}\n",
    "for key in sections:\n",
    "    bow_corpus[key] = [dictionary[key].doc2bow(doc) for doc in processed_docs[key]]\n",
    "print(s-time.time())"
   ]
  },
  {
   "cell_type": "code",
   "execution_count": 55,
   "metadata": {
    "colab": {},
    "colab_type": "code",
    "id": "XYEwArqb9yzd"
   },
   "outputs": [],
   "source": [
    "from gensim import corpora, models\n",
    "tfidf = {}\n",
    "for key in sections:\n",
    "    tfidf[key] = models.TfidfModel(bow_corpus[key])"
   ]
  },
  {
   "cell_type": "code",
   "execution_count": 56,
   "metadata": {
    "colab": {},
    "colab_type": "code",
    "id": "eo3uFqOn91CK"
   },
   "outputs": [],
   "source": [
    "corpus_tfidf = {} \n",
    "for key in sections:\n",
    "    corpus_tfidf[key] = tfidf[key][bow_corpus[key]]\n"
   ]
  },
  {
   "cell_type": "code",
   "execution_count": 62,
   "metadata": {
    "colab": {},
    "colab_type": "code",
    "id": "nW2KH-uM97ua"
   },
   "outputs": [
    {
     "name": "stderr",
     "output_type": "stream",
     "text": [
      "100%|██████████| 17/17 [00:13<00:00,  1.99it/s]"
     ]
    },
    {
     "name": "stdout",
     "output_type": "stream",
     "text": [
      "-13.479897260665894\n"
     ]
    },
    {
     "name": "stderr",
     "output_type": "stream",
     "text": [
      "\n"
     ]
    }
   ],
   "source": [
    "s = time.time()\n",
    "lda_model_tfidf = {}\n",
    "for key in tqdm(sections): \n",
    "    lda_model_tfidf[key] = gensim.models.LdaMulticore(corpus_tfidf[key], id2word=dictionary[key], workers=4, num_topics=3)\n",
    "    with open(f\"{key}.model\", \"wb\") as f:\n",
    "        pickle.dump(lda_model_tfidf[key], f)\n",
    "print(s-time.time())"
   ]
  },
  {
   "cell_type": "code",
   "execution_count": 63,
   "metadata": {},
   "outputs": [
    {
     "name": "stdout",
     "output_type": "stream",
     "text": [
      "[('nation', 42), ('local', 129), ('outlook', 30), ('lifestyle', 89), ('politics', 132), ('sports', 198), ('world', 78), ('news', 59), ('business', 51), ('opinions', 208), ('entertainment', 28), ('arts-entertainment', 23), ('weather', 39), ('technology', 22), ('', 32), ('video', 57), ('national', 21)]\n"
     ]
    }
   ],
   "source": [
    "print([(section, len(items)) for section, items in sections.items()])"
   ]
  },
  {
   "cell_type": "code",
   "execution_count": 64,
   "metadata": {},
   "outputs": [
    {
     "data": {
      "text/plain": [
       "{'nation': <gensim.models.ldamulticore.LdaMulticore at 0x7f8bbda82cc0>,\n",
       " 'local': <gensim.models.ldamulticore.LdaMulticore at 0x7f8bbda82e10>,\n",
       " 'outlook': <gensim.models.ldamulticore.LdaMulticore at 0x7f8bbda82eb8>,\n",
       " 'lifestyle': <gensim.models.ldamulticore.LdaMulticore at 0x7f8bf4a68e80>,\n",
       " 'politics': <gensim.models.ldamulticore.LdaMulticore at 0x7f8bd53a39b0>,\n",
       " 'sports': <gensim.models.ldamulticore.LdaMulticore at 0x7f8bc697cc18>,\n",
       " 'world': <gensim.models.ldamulticore.LdaMulticore at 0x7f8bf48d5048>,\n",
       " 'news': <gensim.models.ldamulticore.LdaMulticore at 0x7f8bd5362c18>,\n",
       " 'business': <gensim.models.ldamulticore.LdaMulticore at 0x7f8bd53a1978>,\n",
       " 'opinions': <gensim.models.ldamulticore.LdaMulticore at 0x7f8bf48d5080>,\n",
       " 'entertainment': <gensim.models.ldamulticore.LdaMulticore at 0x7f8bd5362f60>,\n",
       " 'arts-entertainment': <gensim.models.ldamulticore.LdaMulticore at 0x7f8bd53a16a0>,\n",
       " 'weather': <gensim.models.ldamulticore.LdaMulticore at 0x7f8bf4a68fd0>,\n",
       " 'technology': <gensim.models.ldamulticore.LdaMulticore at 0x7f8bd53a17b8>,\n",
       " '': <gensim.models.ldamulticore.LdaMulticore at 0x7f8bbd838400>,\n",
       " 'video': <gensim.models.ldamulticore.LdaMulticore at 0x7f8bf48d50f0>,\n",
       " 'national': <gensim.models.ldamulticore.LdaMulticore at 0x7f8bf48d5128>}"
      ]
     },
     "execution_count": 64,
     "metadata": {},
     "output_type": "execute_result"
    }
   ],
   "source": [
    "lda_model_tfidf"
   ]
  },
  {
   "cell_type": "code",
   "execution_count": 65,
   "metadata": {},
   "outputs": [],
   "source": [
    "model = lda_model_tfidf['sports']"
   ]
  },
  {
   "cell_type": "code",
   "execution_count": 67,
   "metadata": {},
   "outputs": [],
   "source": [
    "with open(f\"subtopics3.txt\", \"w\") as f:\n",
    "    for topic in lda_model_tfidf:\n",
    "        subtopics = lda_model_tfidf[topic].show_topics(num_topics=12, num_words=5,formatted=False)\n",
    "        f.write(f\"{topic}: {len(sections[topic])} news \\n\")\n",
    "        for id, words in subtopics:\n",
    "            f.write(str([word for word, score in words])+\"\\n\")\n",
    "        f.write(\"================\\n\")\n",
    "        "
   ]
  },
  {
   "cell_type": "code",
   "execution_count": 97,
   "metadata": {},
   "outputs": [
    {
     "name": "stdout",
     "output_type": "stream",
     "text": [
      "Topic: 0 \n",
      "Words: 0.001*\"nation\" + 0.001*\"inning\" + 0.001*\"dodger\" + 0.001*\"strasburg\" + 0.001*\"rsquo\" + 0.001*\"nat\" + 0.001*\"pitch\" + 0.001*\"scherzer\" + 0.001*\"corbin\" + 0.001*\"patriot\"\n",
      "Topic: 1 \n",
      "Words: 0.002*\"rsquo\" + 0.001*\"ldquo\" + 0.001*\"rdquo\" + 0.001*\"capit\" + 0.001*\"donn\" + 0.001*\"dell\" + 0.001*\"mystic\" + 0.001*\"gruden\" + 0.001*\"redskin\" + 0.001*\"yard\"\n",
      "Topic: 2 \n",
      "Words: 0.002*\"rsquo\" + 0.001*\"ldquo\" + 0.001*\"rdquo\" + 0.001*\"redskin\" + 0.001*\"nation\" + 0.001*\"dodger\" + 0.001*\"gruden\" + 0.001*\"haskin\" + 0.001*\"quarterback\" + 0.000*\"yard\"\n"
     ]
    }
   ],
   "source": [
    "for idx, topic in lda_model_tfidf['sports'].print_topics(-1):\n",
    "    print('Topic: {} \\nWords: {}'.format(idx, topic))\n"
   ]
  },
  {
   "cell_type": "code",
   "execution_count": null,
   "metadata": {},
   "outputs": [],
   "source": [
    "# lda_model_tfidf.get_document_topics(bow_query, 0.5)"
   ]
  },
  {
   "cell_type": "code",
   "execution_count": null,
   "metadata": {},
   "outputs": [],
   "source": []
  }
 ],
 "metadata": {
  "colab": {
   "name": "Untitled0.ipynb",
   "provenance": []
  },
  "kernelspec": {
   "display_name": "Python 3",
   "language": "python",
   "name": "python3"
  },
  "language_info": {
   "codemirror_mode": {
    "name": "ipython",
    "version": 3
   },
   "file_extension": ".py",
   "mimetype": "text/x-python",
   "name": "python",
   "nbconvert_exporter": "python",
   "pygments_lexer": "ipython3",
   "version": "3.7.3"
  }
 },
 "nbformat": 4,
 "nbformat_minor": 1
}
