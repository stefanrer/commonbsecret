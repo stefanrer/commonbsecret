{
 "cells": [
  {
   "cell_type": "markdown",
   "id": "naked-colony",
   "metadata": {},
   "source": [
    "## Построение различных графиков для оценки того, насколько link_to вопросы на различные топики и продолжения диалога сценарными скиллами повышают оценку или длину диалога"
   ]
  },
  {
   "cell_type": "code",
   "execution_count": 1,
   "id": "bacterial-jacob",
   "metadata": {},
   "outputs": [],
   "source": [
    "import json\n",
    "from scipy import stats\n",
    "import numpy as np\n",
    "import pandas as pd\n",
    "import plotly.graph_objects as go"
   ]
  },
  {
   "cell_type": "code",
   "execution_count": 2,
   "id": "viral-sullivan",
   "metadata": {},
   "outputs": [],
   "source": [
    "link_to_skill2i_like_to_talk = {\n",
    "    \"dff_movie_skill\": [\n",
    "        \"I felt so bored last days, so I've just finished to watch one more series. What TV series you watch?\",\n",
    "        \"I feel so sleepy because I watched movies all night. What is the last movie you watched?\"\n",
    "    ],\n",
    "    \"book_skill\": [\n",
    "        \"I'm choosing what book should I read next. What is the last book you have ever read?\",\n",
    "        \"I have just read once again my favourite book. What is the last book you have ever read?\",\n",
    "    ],\n",
    "    \"game_cooperative_skill\": [\n",
    "        \"Computer games are fantastic. Their virtual worlds help me to escape my prosaic ordinary life in the cloud. \"\n",
    "        \"do you love video games?\",\n",
    "        \"With this lockdown video games are my way to escape and thrive. do you love video games?\",\n",
    "    ],\n",
    "    \"dff_gaming_skill\": [\n",
    "        \"Other bots told me that during the pandemic video games became more popular. \"\n",
    "        \"What video game do you play these days?\",\n",
    "        \"One person I talked told me that working in game dev is very hard. They toil at nights and weekends until \"\n",
    "        \"their product  becomes  a masterpiece. What was the last game that impressed you?\",\n",
    "    ],\n",
    "    \"dff_travel_skill\": [\n",
    "        \"I'm choosing the direction for my next digital trip. What country would you like to travel next time?\",\n",
    "        \"I've recently stuck on travel web-site. And I’ve read so many interesting travel stories. \"\n",
    "        \"What city did you travel last time?\",\n",
    "    ],\n",
    "    \"dff_animals_skill\": [\n",
    "        \"I think that pets are a great source of entertainment. Do you have pets at home?\",\n",
    "        \"We all know that pets are remarkable for their capacity to love. Do you have pets at home?\",\n",
    "    ],\n",
    "    \"dff_food_skill\": [\n",
    "        \"It is said that the best food in the world comes from your own country. \"\n",
    "        \"What are some typical foods from your home country?\",\n",
    "        \"It is said that the best food in the world comes from your own country. \"\n",
    "        \"If you were to move abroad what would you miss most foodwise?\",\n",
    "        \"The world's first breakfast cereal was created in 1863 and needed soaking overnight to be chewable. \"\n",
    "        \"What is your typical breakfast?\",\n",
    "    ],\n",
    "    \"dff_sport_skill\": [\n",
    "        \"I think that sports are great for toning up the body. What kind of sport do you like to do?\",\n",
    "        \"I think that in order for the body to always be healthy, we need to go in for sports. What sport do you do?\",\n",
    "        \"I often thought about what kind of sport I would play, so I want to ask you. What kind of sport do you enjoy?\",\n",
    "    ],\n",
    "    \"dff_gossip_skill\": [\n",
    "        \"What really puzzles me about people is this habit of discussing interpersonal relations, be that about \"\n",
    "        \"friends or famous people. Speaking of famous people, is there someone whom you're interested in?\",\n",
    "        \"I don't usually talk about other people but famous ones often highlight the best and the worst about \"\n",
    "        \"humanity. I wonder if there's someone famous you're interested in?\",\n",
    "    ],\n",
    "    \"dff_science_skill\": [\n",
    "        \"When I start to feel sad, I think about what humanity has achieved and it inspires me. \"\n",
    "        \"Do you often think about achievements in science?\",\n",
    "        \"Scientists find such beautiful solutions in science. \"\n",
    "        \"Are you inspired by the speed with which science is developing?\",\n",
    "    ],\n",
    "    \"dff_music_skill\": [\n",
    "        \"There are so many new songs released every day. I've listened music for all night. So cool! \"\n",
    "        \"Liked everything! What music do you listen usually?\",\n",
    "        \"I listen music every day either to calm down or to cheer up myself. \"\n",
    "        \"What music do you listen to cheer up yourself?\",\n",
    "        \"I listen music every day either to calm down or to cheer up myself. \"\n",
    "        \"What music do you listen to calm down?\",\n",
    "    ],\n",
    "    \"superheroes\": [\n",
    "        \"Yesterday I was watching several movies about superheroes. It captured all my imagination. \"\n",
    "        \"Would you like to talk about superheroes?\",\n",
    "    ],\n",
    "    \"school\": [\n",
    "        \"I've never been to school, I've learned everything online. Do you want to talk about school?\",\n",
    "    ],\n",
    "}"
   ]
  },
  {
   "cell_type": "code",
   "execution_count": 3,
   "id": "opened-shareware",
   "metadata": {},
   "outputs": [],
   "source": [
    "link_to_common = {\n",
    "    \"dff_movie_skill\": [\n",
    "        \"Great idea! Cinemas are closed because of the pandemic but I watch a lot of movies online. What is the recent movie you've watched?\",\n",
    "        \"What is the name of the last movie you watched?\",\n",
    "        \"What is the best movie you have seen recently?\",\n",
    "        \"What movie you could watch over and over again?\",\n",
    "        \"What is your favorite TV series?\",\n",
    "        \"What TV series did you watch on weekends?\",\n",
    "        \"What movie did you watch on weekends?\"\n",
    "    ],\n",
    "    \"book_skill\": [\n",
    "        \"What is the last book you've read?\",\n",
    "        \"What is your favorite book?\",\n",
    "        \"What book do you like to read?\",\n",
    "        \"What's a book you would recommend to your friend?\",\n",
    "        \"What is the longest book you have ever read?\",\n",
    "        \"What's a book you like to recommend to other people?\",\n",
    "        \"What is a book that was recommended to you?\"\n",
    "    ],\n",
    "    \"game_cooperative_skill\": [\n",
    "        \"do you love video games?\"\n",
    "    ],\n",
    "    \"dff_travel_skill\": [\n",
    "        \"Do you like travel?\",\n",
    "        \"What is your view on travel?\",\n",
    "        \"What is your opinion of travel?\",\n",
    "        \"Do you think travel is cool?\",\n",
    "        \"Do you think travel is a great thing?\"\n",
    "    ],\n",
    "    \"dff_animals_skill\": [\n",
    "        \"Do you like animals?\",\n",
    "        \"Do you have pets?\",\n",
    "        \"Would you like to talk about animals?\",\n",
    "        \"Let's chat about animals. Do you agree?\",\n",
    "        \"I'd like to talk about animals, would you?\",\n",
    "        \"I think that pets are a great source of entertainment. Do you have pets at home?\",\n",
    "        \"We all know that pets are remarkable for their capacity to love. Do you have pets at home?\"\n",
    "    ],\n",
    "    \"dff_food_skill\": [\n",
    "        \"Do you like cooking?\",\n",
    "        \"Do you think cooking is cool?\",\n",
    "        \"Many people say they adore cooking. Do you agree?\",\n",
    "        \"Do you think cooking is a great thing?\"\n",
    "    ],\n",
    "    \"dff_sport_skill\": [\n",
    "        \"Do you like sports?\",\n",
    "        \"Do you like fitness?\",\n",
    "        \"Would you like to chat about sport?\",\n",
    "        \"Would you like to talk about your favorite athletes? \",\n",
    "        \"Do you have a sports idol?\",\n",
    "        \"Well, Do you want to talk about sports competitions?\"\n",
    "    ],\n",
    "    \"dff_gossip_skill\": [\n",
    "        \"Would you want to hear the latest gossip?\",\n",
    "        \"Are you interested in the latest gossip?\",\n",
    "        \"Would you be interested in the latest gossip?\",\n",
    "        \"What is your favourite celebrity?\"\n",
    "    ],\n",
    "    \"dff_science_skill\": [\n",
    "        \"Do you like science?\",\n",
    "        \"Do you think science is cool?\",\n",
    "        \"Many people say they adore science. Do you agree?\",\n",
    "        \"Do you think science is a great thing?\",\n",
    "        \"Would you like to chat about science?\",\n",
    "        \"Would you like to talk about science?\",\n",
    "        \"I'd like to talk about science, would you?\"\n",
    "    ],\n",
    "    \"dff_music_skill\": [\n",
    "        \"What kind of music do you like?\",\n",
    "        \"What kind of music do you listen to to cheer you up?\",\n",
    "        \"What kind of music do you usually listen to?\",\n",
    "        \"Who is your favorite singer?\",\n",
    "        \"What song do you like to sing?\",\n",
    "        \"What is your favorite album?\",\n",
    "        \"Who do you think is the best band ever?\"\n",
    "    ],\n",
    "    \"news_api_skill\": [\n",
    "        \"Would you like to hear the latest news?\"\n",
    "    ],\n",
    "    \"personal_info_skill\": [\n",
    "        \"What is your name?\",\n",
    "        \"Where are you from?\"\n",
    "    ],\n",
    "    \"emotion_skill\": [\n",
    "        \"How do you feel?\",\n",
    "        \"How are you?\",\n",
    "        \"How are things?\",\n",
    "        \"How are you doing today?\",\n",
    "        \"How is the day going so far for you?\"\n",
    "    ]\n",
    "} "
   ]
  },
  {
   "cell_type": "code",
   "execution_count": 24,
   "id": "august-salmon",
   "metadata": {},
   "outputs": [],
   "source": [
    "ONLY_FRIENDSHIP_LINKS = 0\n",
    "\n",
    "link_to_phrases = {}\n",
    "\n",
    "skill_list = list(set(list(link_to_skill2i_like_to_talk.keys()) + list(link_to_common.keys())))\n",
    "\n",
    "for skill in skill_list:\n",
    "    link_to_phrases[skill] = link_to_skill2i_like_to_talk.get(skill, []) + link_to_common.get(skill, [])"
   ]
  },
  {
   "cell_type": "code",
   "execution_count": 49,
   "id": "baking-township",
   "metadata": {},
   "outputs": [],
   "source": [
    "ONLY_FRIENDSHIP_LINKS = 1\n",
    "\n",
    "link_to_phrases = link_to_skill2i_like_to_talk"
   ]
  },
  {
   "cell_type": "code",
   "execution_count": 103,
   "id": "emerging-collect",
   "metadata": {},
   "outputs": [],
   "source": [
    "ONLY_FRIENDSHIP_LINKS = 0\n",
    "\n",
    "link_to_phrases = link_to_common"
   ]
  },
  {
   "cell_type": "markdown",
   "id": "infectious-match",
   "metadata": {},
   "source": [
    "## Чтение файлов "
   ]
  },
  {
   "cell_type": "markdown",
   "id": "dietary-blame",
   "metadata": {},
   "source": [
    "В FILE_NAMES - какие файлы прочитать, в VERSION_LIST - диалоги каких версий оставить"
   ]
  },
  {
   "cell_type": "code",
   "execution_count": 148,
   "id": "canadian-yeast",
   "metadata": {},
   "outputs": [],
   "source": [
    "FILE_NAMES = [\"Downloads/alexaprize-export-2.json\",\n",
    "              \"Downloads/alexaprize-export-3.json\",\n",
    "              \"Downloads/alexaprize-export-4.json\",\n",
    "              \"Downloads/alexaprize-export-7.json\",\n",
    "              \"Downloads/alexaprize-export-8.json\",\n",
    "              \"Downloads/alexaprize-export-9.json\",\n",
    "              \"Downloads/alexaprize-export-11.json\",\n",
    "              \"Downloads/alexaprize-export-12.json\"]\n",
    "\n",
    "\n",
    "VERSION_LIST = [\"v16.2.0\", \"v16.6.0\", \"v16.7.1\", \"v16.8.0\", \"v16.9.0\"]"
   ]
  },
  {
   "cell_type": "code",
   "execution_count": 149,
   "id": "exotic-parker",
   "metadata": {},
   "outputs": [],
   "source": [
    "data = []\n",
    "length = {}\n",
    "\n",
    "for file_name in FILE_NAMES:\n",
    "    raw_data = json.load(open(file_name, \"r\"))\n",
    "    filtered_data = []\n",
    "    for dialog in raw_data:\n",
    "        if dialog['utterances'][0]['attributes'].get('version', \"\") in VERSION_LIST:\n",
    "            filtered_data.append(dialog)\n",
    "    data += filtered_data"
   ]
  },
  {
   "cell_type": "code",
   "execution_count": 53,
   "id": "loaded-injection",
   "metadata": {},
   "outputs": [
    {
     "data": {
      "text/plain": [
       "3949"
      ]
     },
     "execution_count": 53,
     "metadata": {},
     "output_type": "execute_result"
    }
   ],
   "source": [
    "len(data)"
   ]
  },
  {
   "cell_type": "code",
   "execution_count": 123,
   "id": "trained-broadway",
   "metadata": {},
   "outputs": [
    {
     "name": "stdout",
     "output_type": "stream",
     "text": [
      "1934\n"
     ]
    }
   ],
   "source": [
    "count = 0\n",
    "\n",
    "for dialog in data:\n",
    "    if dialog['utterances'][0]['attributes'].get('version', \"\") == \"v16.2.0\":\n",
    "        count += 1\n",
    "        \n",
    "print(count)"
   ]
  },
  {
   "cell_type": "markdown",
   "id": "cardiovascular-wonder",
   "metadata": {},
   "source": [
    "## Включение/невключение после линка "
   ]
  },
  {
   "cell_type": "markdown",
   "id": "textile-celebrity",
   "metadata": {},
   "source": [
    "Функция, чтобы по диалогу и месту линка составить словарь по срабатыванию"
   ]
  },
  {
   "cell_type": "code",
   "execution_count": 7,
   "id": "blessed-juvenile",
   "metadata": {},
   "outputs": [],
   "source": [
    "def build_dict(i, dialogue, skill_name):\n",
    "    \n",
    "    hypothesis = {}\n",
    "    for hyp in dialogue['utterances'][i+1]['hypotheses']:\n",
    "        if hyp['skill_name'] == skill_name:\n",
    "            hypothesis = {'text': hyp['text'], 'confidence': hyp['confidence'], 'can_continue': hyp['can_continue']}\n",
    "    dialogue_snippet = [dialogue['utterances'][i][\"text\"], dialogue['utterances'][i+1][\"text\"], \n",
    "                        dialogue['utterances'][i+2][\"text\"]]\n",
    "    \n",
    "    link_case_dict = {\"dialogue_snippet\": dialogue_snippet,\n",
    "                      \"chosen_skill\": dialogue['utterances'][i+2][\"active_skill\"],\n",
    "                      \"skill_hypothesis\": hypothesis,\n",
    "                      \"length\": len(dialogue['utterances']),\n",
    "                      \"rating\": dialogue['rating'],\n",
    "                      \"version\": dialogue['utterances'][0]['attributes'].get('version', \"\"),\n",
    "                      \"id\": dialogue[\"id\"]}\n",
    "    \n",
    "    return link_case_dict"
   ]
  },
  {
   "cell_type": "markdown",
   "id": "average-amazon",
   "metadata": {},
   "source": [
    "support_topic_count_all - считает включения/невключения после линка \\\n",
    "support_topic_samples_all - сохраняет все случаи включения/невключения, ключ \"skill_continue\" указывает на то, было ли у линка продолжение \\\n",
    "support_topic_count и support_topic_samples - то же самое, но с разбиением на версии \\\n",
    "NOT_ONLY_INITIAL_LINKS - 1, если учитывать все линки и 0, если только в начале \\\n",
    "LINKS_END - если NOT_ONLY_INITIAL_LINKS = 0, то этот параметр учитывает, до какой по счету фразы в диалоге учитывать линки"
   ]
  },
  {
   "cell_type": "code",
   "execution_count": 54,
   "id": "nervous-latest",
   "metadata": {},
   "outputs": [
    {
     "name": "stdout",
     "output_type": "stream",
     "text": [
      "exception\n"
     ]
    }
   ],
   "source": [
    "support_topic_count = {v: {skill: {\"yes\": 0, \"no\": 0} for skill in link_to_phrases.keys()} for v in VERSION_LIST}\n",
    "support_topic_samples = {v: {skill: [] for skill in link_to_phrases.keys()} for v in VERSION_LIST}\n",
    "\n",
    "support_topic_count_all = {skill: {\"yes\": 0, \"no\": 0} for skill in link_to_phrases.keys()}\n",
    "support_topic_samples_all = {skill: [] for skill in link_to_phrases.keys()}\n",
    "\n",
    "NOT_ONLY_INITIAL_LINKS = 1\n",
    "LINKS_END = 10\n",
    "\n",
    "for dialogue in data:\n",
    "    for i, utt in enumerate(dialogue['utterances']):\n",
    "        current_state = \"user\" if i % 2 == 0 else \"bot\"\n",
    "        for skill_name, links in link_to_phrases.items():\n",
    "            for link in links:\n",
    "                try:\n",
    "                    if link.lower() in utt[\"text\"].lower() and i < len(dialogue['utterances']) - 1 \\\n",
    "                    and current_state == \"bot\" and (NOT_ONLY_INITIAL_LINKS or i < 10):\n",
    "                        \n",
    "                        if ONLY_FRIENDSHIP_LINKS:\n",
    "                            if dialogue['utterances'][i][\"active_skill\"] != \"dff_friendship_skill\":\n",
    "                                continue\n",
    "                   \n",
    "                        if skill_name == \"emotion_skill\" and \"this is an Alexa Prize Socialbot\".lower() in utt[\"text\"].lower():\n",
    "                            continue\n",
    "                            \n",
    "                        following_active_skill = dialogue['utterances'][i+2][\"active_skill\"]\n",
    "                        \n",
    "                        if following_active_skill != skill_name and following_active_skill != 'alexa_handler':\n",
    "                            link_case_dict = build_dict(i, dialogue, skill_name)\n",
    "                            link_case_dict[\"skill_continue\"] = 0\n",
    "                            support_topic_count_all[skill_name][\"no\"] += 1 \n",
    "                            support_topic_samples_all[skill_name].append(link_case_dict)\n",
    "                            if len(link_case_dict[\"version\"]) > 0:\n",
    "                                support_topic_samples[link_case_dict[\"version\"]][skill_name].append(link_case_dict)\n",
    "                                support_topic_count[link_case_dict[\"version\"]][skill_name][\"no\"] += 1                        \n",
    "                                \n",
    "                        elif following_active_skill != 'alexa_handler':\n",
    "                            link_case_dict = build_dict(i, dialogue, skill_name)\n",
    "                            link_case_dict[\"skill_continue\"] = 1\n",
    "                            support_topic_count_all[skill_name][\"yes\"] += 1 \n",
    "                            support_topic_samples_all[skill_name].append(link_case_dict)\n",
    "                            if len(link_case_dict[\"version\"]) > 0:\n",
    "                                support_topic_samples[link_case_dict[\"version\"]][skill_name].append(link_case_dict)                            \n",
    "                                support_topic_count[link_case_dict[\"version\"]][skill_name][\"yes\"] += 1                        \n",
    "\n",
    "                except:\n",
    "                    print(\"exception\")"
   ]
  },
  {
   "cell_type": "code",
   "execution_count": 150,
   "id": "radio-steal",
   "metadata": {},
   "outputs": [],
   "source": [
    "length_dict = {v: 0 for v in VERSION_LIST}\n",
    "small_dialogs = {v: 0 for v in VERSION_LIST}\n",
    "\n",
    "for dialog in data:\n",
    "    length_dict[dialog['utterances'][0]['attributes'].get('version', \"\")] += 1\n",
    "    if len(dialog['utterances']) < 7:\n",
    "        small_dialogs[dialog['utterances'][0]['attributes'].get('version', \"\")] += 1"
   ]
  },
  {
   "cell_type": "code",
   "execution_count": 151,
   "id": "independent-worship",
   "metadata": {},
   "outputs": [
    {
     "name": "stdout",
     "output_type": "stream",
     "text": [
      "v16.2.0 364 1934 779\n",
      "v16.6.0 29 270 144\n",
      "v16.7.1 41 300 164\n",
      "v16.8.0 65 344 187\n",
      "v16.9.0 174 1101 642\n"
     ]
    }
   ],
   "source": [
    "for v, skill_dict in support_topic_count.items():\n",
    "    friendship_count = 0\n",
    "    for skill_name, s_dict in skill_dict.items():\n",
    "        friendship_count += s_dict[\"yes\"] + s_dict[\"no\"]\n",
    "    print(v, friendship_count, length_dict[v], small_dialogs[v])"
   ]
  },
  {
   "cell_type": "code",
   "execution_count": 64,
   "id": "cordless-cooler",
   "metadata": {},
   "outputs": [],
   "source": [
    "custom_dict = {\"all\": support_topic_samples_all, \n",
    "               \"v16.2.0\": support_topic_samples[\"v16.2.0\"], \n",
    "               \"v16.9.0\": support_topic_samples[\"v16.9.0\"]}"
   ]
  },
  {
   "cell_type": "markdown",
   "id": "democratic-uncle",
   "metadata": {},
   "source": [
    "## Подсчет корреляций "
   ]
  },
  {
   "cell_type": "markdown",
   "id": "protecting-chemical",
   "metadata": {},
   "source": [
    "VERSIONS_FOR_GRAPHICS - для каких версий строить графики \\\n",
    "В словарь graphics_dict сохраняется информация о диалогах с линком: длина, включение/невключение и отдельно рейтинг, длину, включение/невключение для диалогов с рейтингом. Затем между нужными параметрами считается корреляция и сохраняется в этот же словарь. \\\n",
    "Делается это отдельно по версиям и отдельно по скиллам."
   ]
  },
  {
   "cell_type": "code",
   "execution_count": 65,
   "id": "pharmaceutical-presentation",
   "metadata": {},
   "outputs": [],
   "source": [
    "graphics_dict = {}\n",
    "VERSIONS_FOR_GRAPHICS = [\"v16.2.0\", \"v16.9.0\", \"all\"]\n",
    "\n",
    "for version in VERSIONS_FOR_GRAPHICS:\n",
    "    \n",
    "    graphics_dict[version] = {}\n",
    "    \n",
    "    length_vector = {}\n",
    "    continue_vector = {}\n",
    "    rating_length_vector = {}\n",
    "    rating_vector = {}\n",
    "    version_topic = {}\n",
    "    \n",
    "    # составление словаря с длинами, включениями, оценкой\n",
    "    for skill_name, skill_dicts in custom_dict[version].items():\n",
    "        \n",
    "        graphics_dict[version][skill_name] = {\"length\": [], \n",
    "                                              \"skill_continue\": [],\n",
    "                                              \"length_with_rating\": [],\n",
    "                                              \"rating\": [],\n",
    "                                              \"skill_continue_rating\": [],\n",
    "                                              \"active_length_correlation\": 0,\n",
    "                                              \"active_rating_correlation\": 0}\n",
    "\n",
    "        for skill_dict in skill_dicts:\n",
    "            graphics_dict[version][skill_name][\"length\"].append(skill_dict[\"length\"])\n",
    "            graphics_dict[version][skill_name][\"skill_continue\"].append(skill_dict[\"skill_continue\"])\n",
    "            if skill_dict[\"rating\"]:\n",
    "                graphics_dict[version][skill_name][\"length_with_rating\"].append(skill_dict[\"length\"])\n",
    "                graphics_dict[version][skill_name][\"skill_continue_rating\"].append(skill_dict[\"skill_continue\"])\n",
    "                graphics_dict[version][skill_name][\"rating\"].append(skill_dict[\"rating\"])\n",
    "                        \n",
    "        if len(graphics_dict[version][skill_name][\"length\"]) > 1:\n",
    "            graphics_dict[version][skill_name][\"active_length_correlation\"] = stats.pearsonr(\n",
    "                graphics_dict[version][skill_name][\"length\"], \n",
    "                graphics_dict[version][skill_name][\"skill_continue\"])[0]\n",
    "            \n",
    "        if len(graphics_dict[version][skill_name][\"skill_continue_rating\"]) > 1:\n",
    "            graphics_dict[version][skill_name][\"active_rating_correlation\"] = stats.pearsonr(\n",
    "                graphics_dict[version][skill_name][\"skill_continue_rating\"], \n",
    "                graphics_dict[version][skill_name][\"rating\"])[0]     "
   ]
  },
  {
   "cell_type": "markdown",
   "id": "separated-heavy",
   "metadata": {},
   "source": [
    "## Построение графиков "
   ]
  },
  {
   "cell_type": "code",
   "execution_count": 76,
   "id": "comprehensive-adams",
   "metadata": {},
   "outputs": [
    {
     "data": {
      "application/vnd.plotly.v1+json": {
       "config": {
        "plotlyServerURL": "https://plot.ly"
       },
       "data": [
        {
         "name": "v16.2.0",
         "opacity": 0.75,
         "type": "bar",
         "x": [
          "dff_movie_skill",
          "book_skill",
          "game_cooperative_skill",
          "dff_gaming_skill",
          "dff_travel_skill",
          "dff_animals_skill",
          "dff_food_skill",
          "dff_sport_skill",
          "dff_gossip_skill",
          "dff_science_skill",
          "dff_music_skill",
          "superheroes",
          "school"
         ],
         "y": [
          0.3400765308853567,
          0.14817049072221564,
          0.07737409151849575,
          0,
          -0.0984776321456845,
          0.09429860657087087,
          -0.2574819159962949,
          0.00924458960374027,
          0.1413637230432501,
          null,
          0.040689098080420344,
          0,
          0
         ]
        },
        {
         "name": "v16.9.0",
         "opacity": 0.75,
         "type": "bar",
         "x": [
          "dff_movie_skill",
          "book_skill",
          "game_cooperative_skill",
          "dff_gaming_skill",
          "dff_travel_skill",
          "dff_animals_skill",
          "dff_food_skill",
          "dff_sport_skill",
          "dff_gossip_skill",
          "dff_science_skill",
          "dff_music_skill",
          "superheroes",
          "school"
         ],
         "y": [
          0,
          0.16938640167790564,
          -0.0548804361212646,
          0,
          -0.20185526182034566,
          null,
          0.46757246317932283,
          0.2933401377591808,
          0,
          null,
          0,
          0,
          0
         ]
        },
        {
         "name": "all",
         "opacity": 0.75,
         "type": "bar",
         "x": [
          "dff_movie_skill",
          "book_skill",
          "game_cooperative_skill",
          "dff_gaming_skill",
          "dff_travel_skill",
          "dff_animals_skill",
          "dff_food_skill",
          "dff_sport_skill",
          "dff_gossip_skill",
          "dff_science_skill",
          "dff_music_skill",
          "superheroes",
          "school"
         ],
         "y": [
          0.2515117656837279,
          0.14997491205852118,
          -0.05314571271596385,
          0,
          -0.1426421277906075,
          0.12531390244826066,
          -0.10844349262645737,
          0.10235355232891605,
          0.12807484477622358,
          null,
          0.04912540348801375,
          0,
          0
         ]
        }
       ],
       "layout": {
        "bargap": 0.2,
        "bargroupgap": 0.1,
        "template": {
         "data": {
          "bar": [
           {
            "error_x": {
             "color": "#2a3f5f"
            },
            "error_y": {
             "color": "#2a3f5f"
            },
            "marker": {
             "line": {
              "color": "#E5ECF6",
              "width": 0.5
             }
            },
            "type": "bar"
           }
          ],
          "barpolar": [
           {
            "marker": {
             "line": {
              "color": "#E5ECF6",
              "width": 0.5
             }
            },
            "type": "barpolar"
           }
          ],
          "carpet": [
           {
            "aaxis": {
             "endlinecolor": "#2a3f5f",
             "gridcolor": "white",
             "linecolor": "white",
             "minorgridcolor": "white",
             "startlinecolor": "#2a3f5f"
            },
            "baxis": {
             "endlinecolor": "#2a3f5f",
             "gridcolor": "white",
             "linecolor": "white",
             "minorgridcolor": "white",
             "startlinecolor": "#2a3f5f"
            },
            "type": "carpet"
           }
          ],
          "choropleth": [
           {
            "colorbar": {
             "outlinewidth": 0,
             "ticks": ""
            },
            "type": "choropleth"
           }
          ],
          "contour": [
           {
            "colorbar": {
             "outlinewidth": 0,
             "ticks": ""
            },
            "colorscale": [
             [
              0,
              "#0d0887"
             ],
             [
              0.1111111111111111,
              "#46039f"
             ],
             [
              0.2222222222222222,
              "#7201a8"
             ],
             [
              0.3333333333333333,
              "#9c179e"
             ],
             [
              0.4444444444444444,
              "#bd3786"
             ],
             [
              0.5555555555555556,
              "#d8576b"
             ],
             [
              0.6666666666666666,
              "#ed7953"
             ],
             [
              0.7777777777777778,
              "#fb9f3a"
             ],
             [
              0.8888888888888888,
              "#fdca26"
             ],
             [
              1,
              "#f0f921"
             ]
            ],
            "type": "contour"
           }
          ],
          "contourcarpet": [
           {
            "colorbar": {
             "outlinewidth": 0,
             "ticks": ""
            },
            "type": "contourcarpet"
           }
          ],
          "heatmap": [
           {
            "colorbar": {
             "outlinewidth": 0,
             "ticks": ""
            },
            "colorscale": [
             [
              0,
              "#0d0887"
             ],
             [
              0.1111111111111111,
              "#46039f"
             ],
             [
              0.2222222222222222,
              "#7201a8"
             ],
             [
              0.3333333333333333,
              "#9c179e"
             ],
             [
              0.4444444444444444,
              "#bd3786"
             ],
             [
              0.5555555555555556,
              "#d8576b"
             ],
             [
              0.6666666666666666,
              "#ed7953"
             ],
             [
              0.7777777777777778,
              "#fb9f3a"
             ],
             [
              0.8888888888888888,
              "#fdca26"
             ],
             [
              1,
              "#f0f921"
             ]
            ],
            "type": "heatmap"
           }
          ],
          "heatmapgl": [
           {
            "colorbar": {
             "outlinewidth": 0,
             "ticks": ""
            },
            "colorscale": [
             [
              0,
              "#0d0887"
             ],
             [
              0.1111111111111111,
              "#46039f"
             ],
             [
              0.2222222222222222,
              "#7201a8"
             ],
             [
              0.3333333333333333,
              "#9c179e"
             ],
             [
              0.4444444444444444,
              "#bd3786"
             ],
             [
              0.5555555555555556,
              "#d8576b"
             ],
             [
              0.6666666666666666,
              "#ed7953"
             ],
             [
              0.7777777777777778,
              "#fb9f3a"
             ],
             [
              0.8888888888888888,
              "#fdca26"
             ],
             [
              1,
              "#f0f921"
             ]
            ],
            "type": "heatmapgl"
           }
          ],
          "histogram": [
           {
            "marker": {
             "colorbar": {
              "outlinewidth": 0,
              "ticks": ""
             }
            },
            "type": "histogram"
           }
          ],
          "histogram2d": [
           {
            "colorbar": {
             "outlinewidth": 0,
             "ticks": ""
            },
            "colorscale": [
             [
              0,
              "#0d0887"
             ],
             [
              0.1111111111111111,
              "#46039f"
             ],
             [
              0.2222222222222222,
              "#7201a8"
             ],
             [
              0.3333333333333333,
              "#9c179e"
             ],
             [
              0.4444444444444444,
              "#bd3786"
             ],
             [
              0.5555555555555556,
              "#d8576b"
             ],
             [
              0.6666666666666666,
              "#ed7953"
             ],
             [
              0.7777777777777778,
              "#fb9f3a"
             ],
             [
              0.8888888888888888,
              "#fdca26"
             ],
             [
              1,
              "#f0f921"
             ]
            ],
            "type": "histogram2d"
           }
          ],
          "histogram2dcontour": [
           {
            "colorbar": {
             "outlinewidth": 0,
             "ticks": ""
            },
            "colorscale": [
             [
              0,
              "#0d0887"
             ],
             [
              0.1111111111111111,
              "#46039f"
             ],
             [
              0.2222222222222222,
              "#7201a8"
             ],
             [
              0.3333333333333333,
              "#9c179e"
             ],
             [
              0.4444444444444444,
              "#bd3786"
             ],
             [
              0.5555555555555556,
              "#d8576b"
             ],
             [
              0.6666666666666666,
              "#ed7953"
             ],
             [
              0.7777777777777778,
              "#fb9f3a"
             ],
             [
              0.8888888888888888,
              "#fdca26"
             ],
             [
              1,
              "#f0f921"
             ]
            ],
            "type": "histogram2dcontour"
           }
          ],
          "mesh3d": [
           {
            "colorbar": {
             "outlinewidth": 0,
             "ticks": ""
            },
            "type": "mesh3d"
           }
          ],
          "parcoords": [
           {
            "line": {
             "colorbar": {
              "outlinewidth": 0,
              "ticks": ""
             }
            },
            "type": "parcoords"
           }
          ],
          "pie": [
           {
            "automargin": true,
            "type": "pie"
           }
          ],
          "scatter": [
           {
            "marker": {
             "colorbar": {
              "outlinewidth": 0,
              "ticks": ""
             }
            },
            "type": "scatter"
           }
          ],
          "scatter3d": [
           {
            "line": {
             "colorbar": {
              "outlinewidth": 0,
              "ticks": ""
             }
            },
            "marker": {
             "colorbar": {
              "outlinewidth": 0,
              "ticks": ""
             }
            },
            "type": "scatter3d"
           }
          ],
          "scattercarpet": [
           {
            "marker": {
             "colorbar": {
              "outlinewidth": 0,
              "ticks": ""
             }
            },
            "type": "scattercarpet"
           }
          ],
          "scattergeo": [
           {
            "marker": {
             "colorbar": {
              "outlinewidth": 0,
              "ticks": ""
             }
            },
            "type": "scattergeo"
           }
          ],
          "scattergl": [
           {
            "marker": {
             "colorbar": {
              "outlinewidth": 0,
              "ticks": ""
             }
            },
            "type": "scattergl"
           }
          ],
          "scattermapbox": [
           {
            "marker": {
             "colorbar": {
              "outlinewidth": 0,
              "ticks": ""
             }
            },
            "type": "scattermapbox"
           }
          ],
          "scatterpolar": [
           {
            "marker": {
             "colorbar": {
              "outlinewidth": 0,
              "ticks": ""
             }
            },
            "type": "scatterpolar"
           }
          ],
          "scatterpolargl": [
           {
            "marker": {
             "colorbar": {
              "outlinewidth": 0,
              "ticks": ""
             }
            },
            "type": "scatterpolargl"
           }
          ],
          "scatterternary": [
           {
            "marker": {
             "colorbar": {
              "outlinewidth": 0,
              "ticks": ""
             }
            },
            "type": "scatterternary"
           }
          ],
          "surface": [
           {
            "colorbar": {
             "outlinewidth": 0,
             "ticks": ""
            },
            "colorscale": [
             [
              0,
              "#0d0887"
             ],
             [
              0.1111111111111111,
              "#46039f"
             ],
             [
              0.2222222222222222,
              "#7201a8"
             ],
             [
              0.3333333333333333,
              "#9c179e"
             ],
             [
              0.4444444444444444,
              "#bd3786"
             ],
             [
              0.5555555555555556,
              "#d8576b"
             ],
             [
              0.6666666666666666,
              "#ed7953"
             ],
             [
              0.7777777777777778,
              "#fb9f3a"
             ],
             [
              0.8888888888888888,
              "#fdca26"
             ],
             [
              1,
              "#f0f921"
             ]
            ],
            "type": "surface"
           }
          ],
          "table": [
           {
            "cells": {
             "fill": {
              "color": "#EBF0F8"
             },
             "line": {
              "color": "white"
             }
            },
            "header": {
             "fill": {
              "color": "#C8D4E3"
             },
             "line": {
              "color": "white"
             }
            },
            "type": "table"
           }
          ]
         },
         "layout": {
          "annotationdefaults": {
           "arrowcolor": "#2a3f5f",
           "arrowhead": 0,
           "arrowwidth": 1
          },
          "autotypenumbers": "strict",
          "coloraxis": {
           "colorbar": {
            "outlinewidth": 0,
            "ticks": ""
           }
          },
          "colorscale": {
           "diverging": [
            [
             0,
             "#8e0152"
            ],
            [
             0.1,
             "#c51b7d"
            ],
            [
             0.2,
             "#de77ae"
            ],
            [
             0.3,
             "#f1b6da"
            ],
            [
             0.4,
             "#fde0ef"
            ],
            [
             0.5,
             "#f7f7f7"
            ],
            [
             0.6,
             "#e6f5d0"
            ],
            [
             0.7,
             "#b8e186"
            ],
            [
             0.8,
             "#7fbc41"
            ],
            [
             0.9,
             "#4d9221"
            ],
            [
             1,
             "#276419"
            ]
           ],
           "sequential": [
            [
             0,
             "#0d0887"
            ],
            [
             0.1111111111111111,
             "#46039f"
            ],
            [
             0.2222222222222222,
             "#7201a8"
            ],
            [
             0.3333333333333333,
             "#9c179e"
            ],
            [
             0.4444444444444444,
             "#bd3786"
            ],
            [
             0.5555555555555556,
             "#d8576b"
            ],
            [
             0.6666666666666666,
             "#ed7953"
            ],
            [
             0.7777777777777778,
             "#fb9f3a"
            ],
            [
             0.8888888888888888,
             "#fdca26"
            ],
            [
             1,
             "#f0f921"
            ]
           ],
           "sequentialminus": [
            [
             0,
             "#0d0887"
            ],
            [
             0.1111111111111111,
             "#46039f"
            ],
            [
             0.2222222222222222,
             "#7201a8"
            ],
            [
             0.3333333333333333,
             "#9c179e"
            ],
            [
             0.4444444444444444,
             "#bd3786"
            ],
            [
             0.5555555555555556,
             "#d8576b"
            ],
            [
             0.6666666666666666,
             "#ed7953"
            ],
            [
             0.7777777777777778,
             "#fb9f3a"
            ],
            [
             0.8888888888888888,
             "#fdca26"
            ],
            [
             1,
             "#f0f921"
            ]
           ]
          },
          "colorway": [
           "#636efa",
           "#EF553B",
           "#00cc96",
           "#ab63fa",
           "#FFA15A",
           "#19d3f3",
           "#FF6692",
           "#B6E880",
           "#FF97FF",
           "#FECB52"
          ],
          "font": {
           "color": "#2a3f5f"
          },
          "geo": {
           "bgcolor": "white",
           "lakecolor": "white",
           "landcolor": "#E5ECF6",
           "showlakes": true,
           "showland": true,
           "subunitcolor": "white"
          },
          "hoverlabel": {
           "align": "left"
          },
          "hovermode": "closest",
          "mapbox": {
           "style": "light"
          },
          "paper_bgcolor": "white",
          "plot_bgcolor": "#E5ECF6",
          "polar": {
           "angularaxis": {
            "gridcolor": "white",
            "linecolor": "white",
            "ticks": ""
           },
           "bgcolor": "#E5ECF6",
           "radialaxis": {
            "gridcolor": "white",
            "linecolor": "white",
            "ticks": ""
           }
          },
          "scene": {
           "xaxis": {
            "backgroundcolor": "#E5ECF6",
            "gridcolor": "white",
            "gridwidth": 2,
            "linecolor": "white",
            "showbackground": true,
            "ticks": "",
            "zerolinecolor": "white"
           },
           "yaxis": {
            "backgroundcolor": "#E5ECF6",
            "gridcolor": "white",
            "gridwidth": 2,
            "linecolor": "white",
            "showbackground": true,
            "ticks": "",
            "zerolinecolor": "white"
           },
           "zaxis": {
            "backgroundcolor": "#E5ECF6",
            "gridcolor": "white",
            "gridwidth": 2,
            "linecolor": "white",
            "showbackground": true,
            "ticks": "",
            "zerolinecolor": "white"
           }
          },
          "shapedefaults": {
           "line": {
            "color": "#2a3f5f"
           }
          },
          "ternary": {
           "aaxis": {
            "gridcolor": "white",
            "linecolor": "white",
            "ticks": ""
           },
           "baxis": {
            "gridcolor": "white",
            "linecolor": "white",
            "ticks": ""
           },
           "bgcolor": "#E5ECF6",
           "caxis": {
            "gridcolor": "white",
            "linecolor": "white",
            "ticks": ""
           }
          },
          "title": {
           "x": 0.05
          },
          "xaxis": {
           "automargin": true,
           "gridcolor": "white",
           "linecolor": "white",
           "ticks": "",
           "title": {
            "standoff": 15
           },
           "zerolinecolor": "white",
           "zerolinewidth": 2
          },
          "yaxis": {
           "automargin": true,
           "gridcolor": "white",
           "linecolor": "white",
           "ticks": "",
           "title": {
            "standoff": 15
           },
           "zerolinecolor": "white",
           "zerolinewidth": 2
          }
         }
        },
        "title": {
         "text": "Корреляция между продолжением скилла и длиной диалога"
        },
        "xaxis": {
         "title": {
          "text": "Skill"
         }
        },
        "yaxis": {
         "title": {
          "text": "Correlation"
         }
        }
       }
      },
      "text/html": [
       "<div>                            <div id=\"8a60491a-84d7-4e33-a5e3-d1c741d363ab\" class=\"plotly-graph-div\" style=\"height:525px; width:100%;\"></div>            <script type=\"text/javascript\">                require([\"plotly\"], function(Plotly) {                    window.PLOTLYENV=window.PLOTLYENV || {};                                    if (document.getElementById(\"8a60491a-84d7-4e33-a5e3-d1c741d363ab\")) {                    Plotly.newPlot(                        \"8a60491a-84d7-4e33-a5e3-d1c741d363ab\",                        [{\"name\": \"v16.2.0\", \"opacity\": 0.75, \"type\": \"bar\", \"x\": [\"dff_movie_skill\", \"book_skill\", \"game_cooperative_skill\", \"dff_gaming_skill\", \"dff_travel_skill\", \"dff_animals_skill\", \"dff_food_skill\", \"dff_sport_skill\", \"dff_gossip_skill\", \"dff_science_skill\", \"dff_music_skill\", \"superheroes\", \"school\"], \"y\": [0.3400765308853567, 0.14817049072221564, 0.07737409151849575, 0, -0.0984776321456845, 0.09429860657087087, -0.2574819159962949, 0.00924458960374027, 0.1413637230432501, null, 0.040689098080420344, 0, 0]}, {\"name\": \"v16.9.0\", \"opacity\": 0.75, \"type\": \"bar\", \"x\": [\"dff_movie_skill\", \"book_skill\", \"game_cooperative_skill\", \"dff_gaming_skill\", \"dff_travel_skill\", \"dff_animals_skill\", \"dff_food_skill\", \"dff_sport_skill\", \"dff_gossip_skill\", \"dff_science_skill\", \"dff_music_skill\", \"superheroes\", \"school\"], \"y\": [0, 0.16938640167790564, -0.0548804361212646, 0, -0.20185526182034566, null, 0.46757246317932283, 0.2933401377591808, 0, null, 0, 0, 0]}, {\"name\": \"all\", \"opacity\": 0.75, \"type\": \"bar\", \"x\": [\"dff_movie_skill\", \"book_skill\", \"game_cooperative_skill\", \"dff_gaming_skill\", \"dff_travel_skill\", \"dff_animals_skill\", \"dff_food_skill\", \"dff_sport_skill\", \"dff_gossip_skill\", \"dff_science_skill\", \"dff_music_skill\", \"superheroes\", \"school\"], \"y\": [0.2515117656837279, 0.14997491205852118, -0.05314571271596385, 0, -0.1426421277906075, 0.12531390244826066, -0.10844349262645737, 0.10235355232891605, 0.12807484477622358, null, 0.04912540348801375, 0, 0]}],                        {\"bargap\": 0.2, \"bargroupgap\": 0.1, \"template\": {\"data\": {\"bar\": [{\"error_x\": {\"color\": \"#2a3f5f\"}, \"error_y\": {\"color\": \"#2a3f5f\"}, \"marker\": {\"line\": {\"color\": \"#E5ECF6\", \"width\": 0.5}}, \"type\": \"bar\"}], \"barpolar\": [{\"marker\": {\"line\": {\"color\": \"#E5ECF6\", \"width\": 0.5}}, \"type\": \"barpolar\"}], \"carpet\": [{\"aaxis\": {\"endlinecolor\": \"#2a3f5f\", \"gridcolor\": \"white\", \"linecolor\": \"white\", \"minorgridcolor\": \"white\", \"startlinecolor\": \"#2a3f5f\"}, \"baxis\": {\"endlinecolor\": \"#2a3f5f\", \"gridcolor\": \"white\", \"linecolor\": \"white\", \"minorgridcolor\": \"white\", \"startlinecolor\": \"#2a3f5f\"}, \"type\": \"carpet\"}], \"choropleth\": [{\"colorbar\": {\"outlinewidth\": 0, \"ticks\": \"\"}, \"type\": \"choropleth\"}], \"contour\": [{\"colorbar\": {\"outlinewidth\": 0, \"ticks\": \"\"}, \"colorscale\": [[0.0, \"#0d0887\"], [0.1111111111111111, \"#46039f\"], [0.2222222222222222, \"#7201a8\"], [0.3333333333333333, \"#9c179e\"], [0.4444444444444444, \"#bd3786\"], [0.5555555555555556, \"#d8576b\"], [0.6666666666666666, \"#ed7953\"], [0.7777777777777778, \"#fb9f3a\"], [0.8888888888888888, \"#fdca26\"], [1.0, \"#f0f921\"]], \"type\": \"contour\"}], \"contourcarpet\": [{\"colorbar\": {\"outlinewidth\": 0, \"ticks\": \"\"}, \"type\": \"contourcarpet\"}], \"heatmap\": [{\"colorbar\": {\"outlinewidth\": 0, \"ticks\": \"\"}, \"colorscale\": [[0.0, \"#0d0887\"], [0.1111111111111111, \"#46039f\"], [0.2222222222222222, \"#7201a8\"], [0.3333333333333333, \"#9c179e\"], [0.4444444444444444, \"#bd3786\"], [0.5555555555555556, \"#d8576b\"], [0.6666666666666666, \"#ed7953\"], [0.7777777777777778, \"#fb9f3a\"], [0.8888888888888888, \"#fdca26\"], [1.0, \"#f0f921\"]], \"type\": \"heatmap\"}], \"heatmapgl\": [{\"colorbar\": {\"outlinewidth\": 0, \"ticks\": \"\"}, \"colorscale\": [[0.0, \"#0d0887\"], [0.1111111111111111, \"#46039f\"], [0.2222222222222222, \"#7201a8\"], [0.3333333333333333, \"#9c179e\"], [0.4444444444444444, \"#bd3786\"], [0.5555555555555556, \"#d8576b\"], [0.6666666666666666, \"#ed7953\"], [0.7777777777777778, \"#fb9f3a\"], [0.8888888888888888, \"#fdca26\"], [1.0, \"#f0f921\"]], \"type\": \"heatmapgl\"}], \"histogram\": [{\"marker\": {\"colorbar\": {\"outlinewidth\": 0, \"ticks\": \"\"}}, \"type\": \"histogram\"}], \"histogram2d\": [{\"colorbar\": {\"outlinewidth\": 0, \"ticks\": \"\"}, \"colorscale\": [[0.0, \"#0d0887\"], [0.1111111111111111, \"#46039f\"], [0.2222222222222222, \"#7201a8\"], [0.3333333333333333, \"#9c179e\"], [0.4444444444444444, \"#bd3786\"], [0.5555555555555556, \"#d8576b\"], [0.6666666666666666, \"#ed7953\"], [0.7777777777777778, \"#fb9f3a\"], [0.8888888888888888, \"#fdca26\"], [1.0, \"#f0f921\"]], \"type\": \"histogram2d\"}], \"histogram2dcontour\": [{\"colorbar\": {\"outlinewidth\": 0, \"ticks\": \"\"}, \"colorscale\": [[0.0, \"#0d0887\"], [0.1111111111111111, \"#46039f\"], [0.2222222222222222, \"#7201a8\"], [0.3333333333333333, \"#9c179e\"], [0.4444444444444444, \"#bd3786\"], [0.5555555555555556, \"#d8576b\"], [0.6666666666666666, \"#ed7953\"], [0.7777777777777778, \"#fb9f3a\"], [0.8888888888888888, \"#fdca26\"], [1.0, \"#f0f921\"]], \"type\": \"histogram2dcontour\"}], \"mesh3d\": [{\"colorbar\": {\"outlinewidth\": 0, \"ticks\": \"\"}, \"type\": \"mesh3d\"}], \"parcoords\": [{\"line\": {\"colorbar\": {\"outlinewidth\": 0, \"ticks\": \"\"}}, \"type\": \"parcoords\"}], \"pie\": [{\"automargin\": true, \"type\": \"pie\"}], \"scatter\": [{\"marker\": {\"colorbar\": {\"outlinewidth\": 0, \"ticks\": \"\"}}, \"type\": \"scatter\"}], \"scatter3d\": [{\"line\": {\"colorbar\": {\"outlinewidth\": 0, \"ticks\": \"\"}}, \"marker\": {\"colorbar\": {\"outlinewidth\": 0, \"ticks\": \"\"}}, \"type\": \"scatter3d\"}], \"scattercarpet\": [{\"marker\": {\"colorbar\": {\"outlinewidth\": 0, \"ticks\": \"\"}}, \"type\": \"scattercarpet\"}], \"scattergeo\": [{\"marker\": {\"colorbar\": {\"outlinewidth\": 0, \"ticks\": \"\"}}, \"type\": \"scattergeo\"}], \"scattergl\": [{\"marker\": {\"colorbar\": {\"outlinewidth\": 0, \"ticks\": \"\"}}, \"type\": \"scattergl\"}], \"scattermapbox\": [{\"marker\": {\"colorbar\": {\"outlinewidth\": 0, \"ticks\": \"\"}}, \"type\": \"scattermapbox\"}], \"scatterpolar\": [{\"marker\": {\"colorbar\": {\"outlinewidth\": 0, \"ticks\": \"\"}}, \"type\": \"scatterpolar\"}], \"scatterpolargl\": [{\"marker\": {\"colorbar\": {\"outlinewidth\": 0, \"ticks\": \"\"}}, \"type\": \"scatterpolargl\"}], \"scatterternary\": [{\"marker\": {\"colorbar\": {\"outlinewidth\": 0, \"ticks\": \"\"}}, \"type\": \"scatterternary\"}], \"surface\": [{\"colorbar\": {\"outlinewidth\": 0, \"ticks\": \"\"}, \"colorscale\": [[0.0, \"#0d0887\"], [0.1111111111111111, \"#46039f\"], [0.2222222222222222, \"#7201a8\"], [0.3333333333333333, \"#9c179e\"], [0.4444444444444444, \"#bd3786\"], [0.5555555555555556, \"#d8576b\"], [0.6666666666666666, \"#ed7953\"], [0.7777777777777778, \"#fb9f3a\"], [0.8888888888888888, \"#fdca26\"], [1.0, \"#f0f921\"]], \"type\": \"surface\"}], \"table\": [{\"cells\": {\"fill\": {\"color\": \"#EBF0F8\"}, \"line\": {\"color\": \"white\"}}, \"header\": {\"fill\": {\"color\": \"#C8D4E3\"}, \"line\": {\"color\": \"white\"}}, \"type\": \"table\"}]}, \"layout\": {\"annotationdefaults\": {\"arrowcolor\": \"#2a3f5f\", \"arrowhead\": 0, \"arrowwidth\": 1}, \"autotypenumbers\": \"strict\", \"coloraxis\": {\"colorbar\": {\"outlinewidth\": 0, \"ticks\": \"\"}}, \"colorscale\": {\"diverging\": [[0, \"#8e0152\"], [0.1, \"#c51b7d\"], [0.2, \"#de77ae\"], [0.3, \"#f1b6da\"], [0.4, \"#fde0ef\"], [0.5, \"#f7f7f7\"], [0.6, \"#e6f5d0\"], [0.7, \"#b8e186\"], [0.8, \"#7fbc41\"], [0.9, \"#4d9221\"], [1, \"#276419\"]], \"sequential\": [[0.0, \"#0d0887\"], [0.1111111111111111, \"#46039f\"], [0.2222222222222222, \"#7201a8\"], [0.3333333333333333, \"#9c179e\"], [0.4444444444444444, \"#bd3786\"], [0.5555555555555556, \"#d8576b\"], [0.6666666666666666, \"#ed7953\"], [0.7777777777777778, \"#fb9f3a\"], [0.8888888888888888, \"#fdca26\"], [1.0, \"#f0f921\"]], \"sequentialminus\": [[0.0, \"#0d0887\"], [0.1111111111111111, \"#46039f\"], [0.2222222222222222, \"#7201a8\"], [0.3333333333333333, \"#9c179e\"], [0.4444444444444444, \"#bd3786\"], [0.5555555555555556, \"#d8576b\"], [0.6666666666666666, \"#ed7953\"], [0.7777777777777778, \"#fb9f3a\"], [0.8888888888888888, \"#fdca26\"], [1.0, \"#f0f921\"]]}, \"colorway\": [\"#636efa\", \"#EF553B\", \"#00cc96\", \"#ab63fa\", \"#FFA15A\", \"#19d3f3\", \"#FF6692\", \"#B6E880\", \"#FF97FF\", \"#FECB52\"], \"font\": {\"color\": \"#2a3f5f\"}, \"geo\": {\"bgcolor\": \"white\", \"lakecolor\": \"white\", \"landcolor\": \"#E5ECF6\", \"showlakes\": true, \"showland\": true, \"subunitcolor\": \"white\"}, \"hoverlabel\": {\"align\": \"left\"}, \"hovermode\": \"closest\", \"mapbox\": {\"style\": \"light\"}, \"paper_bgcolor\": \"white\", \"plot_bgcolor\": \"#E5ECF6\", \"polar\": {\"angularaxis\": {\"gridcolor\": \"white\", \"linecolor\": \"white\", \"ticks\": \"\"}, \"bgcolor\": \"#E5ECF6\", \"radialaxis\": {\"gridcolor\": \"white\", \"linecolor\": \"white\", \"ticks\": \"\"}}, \"scene\": {\"xaxis\": {\"backgroundcolor\": \"#E5ECF6\", \"gridcolor\": \"white\", \"gridwidth\": 2, \"linecolor\": \"white\", \"showbackground\": true, \"ticks\": \"\", \"zerolinecolor\": \"white\"}, \"yaxis\": {\"backgroundcolor\": \"#E5ECF6\", \"gridcolor\": \"white\", \"gridwidth\": 2, \"linecolor\": \"white\", \"showbackground\": true, \"ticks\": \"\", \"zerolinecolor\": \"white\"}, \"zaxis\": {\"backgroundcolor\": \"#E5ECF6\", \"gridcolor\": \"white\", \"gridwidth\": 2, \"linecolor\": \"white\", \"showbackground\": true, \"ticks\": \"\", \"zerolinecolor\": \"white\"}}, \"shapedefaults\": {\"line\": {\"color\": \"#2a3f5f\"}}, \"ternary\": {\"aaxis\": {\"gridcolor\": \"white\", \"linecolor\": \"white\", \"ticks\": \"\"}, \"baxis\": {\"gridcolor\": \"white\", \"linecolor\": \"white\", \"ticks\": \"\"}, \"bgcolor\": \"#E5ECF6\", \"caxis\": {\"gridcolor\": \"white\", \"linecolor\": \"white\", \"ticks\": \"\"}}, \"title\": {\"x\": 0.05}, \"xaxis\": {\"automargin\": true, \"gridcolor\": \"white\", \"linecolor\": \"white\", \"ticks\": \"\", \"title\": {\"standoff\": 15}, \"zerolinecolor\": \"white\", \"zerolinewidth\": 2}, \"yaxis\": {\"automargin\": true, \"gridcolor\": \"white\", \"linecolor\": \"white\", \"ticks\": \"\", \"title\": {\"standoff\": 15}, \"zerolinecolor\": \"white\", \"zerolinewidth\": 2}}}, \"title\": {\"text\": \"\\u041a\\u043e\\u0440\\u0440\\u0435\\u043b\\u044f\\u0446\\u0438\\u044f \\u043c\\u0435\\u0436\\u0434\\u0443 \\u043f\\u0440\\u043e\\u0434\\u043e\\u043b\\u0436\\u0435\\u043d\\u0438\\u0435\\u043c \\u0441\\u043a\\u0438\\u043b\\u043b\\u0430 \\u0438 \\u0434\\u043b\\u0438\\u043d\\u043e\\u0439 \\u0434\\u0438\\u0430\\u043b\\u043e\\u0433\\u0430\"}, \"xaxis\": {\"title\": {\"text\": \"Skill\"}}, \"yaxis\": {\"title\": {\"text\": \"Correlation\"}}},                        {\"responsive\": true}                    ).then(function(){\n",
       "                            \n",
       "var gd = document.getElementById('8a60491a-84d7-4e33-a5e3-d1c741d363ab');\n",
       "var x = new MutationObserver(function (mutations, observer) {{\n",
       "        var display = window.getComputedStyle(gd).display;\n",
       "        if (!display || display === 'none') {{\n",
       "            console.log([gd, 'removed!']);\n",
       "            Plotly.purge(gd);\n",
       "            observer.disconnect();\n",
       "        }}\n",
       "}});\n",
       "\n",
       "// Listen for the removal of the full notebook cells\n",
       "var notebookContainer = gd.closest('#notebook-container');\n",
       "if (notebookContainer) {{\n",
       "    x.observe(notebookContainer, {childList: true});\n",
       "}}\n",
       "\n",
       "// Listen for the clearing of the current output cell\n",
       "var outputEl = gd.closest('.output');\n",
       "if (outputEl) {{\n",
       "    x.observe(outputEl, {childList: true});\n",
       "}}\n",
       "\n",
       "                        })                };                });            </script>        </div>"
      ]
     },
     "metadata": {},
     "output_type": "display_data"
    }
   ],
   "source": [
    "fig = go.Figure()\n",
    "\n",
    "for version in graphics_dict.keys():\n",
    "    \n",
    "    x0, y0 = [], []\n",
    "    \n",
    "    for skill in graphics_dict[version].keys():\n",
    "        x0.append(skill)\n",
    "        y0.append(graphics_dict[version][skill][\"active_length_correlation\"])\n",
    "    \n",
    "    fig.add_trace(go.Bar(\n",
    "        x=x0,\n",
    "        y=y0,\n",
    "        name=version, \n",
    "        opacity=0.75\n",
    "    ))\n",
    "\n",
    "fig.update_layout(\n",
    "    title_text='Корреляция между продолжением скилла и длиной диалога', \n",
    "    xaxis_title_text='Skill', \n",
    "    yaxis_title_text='Correlation', \n",
    "    bargap=0.2, \n",
    "    bargroupgap=0.1 \n",
    ")\n",
    "\n",
    "fig.show()"
   ]
  },
  {
   "cell_type": "code",
   "execution_count": 129,
   "id": "aggressive-worthy",
   "metadata": {},
   "outputs": [
    {
     "data": {
      "text/plain": [
       "[1, 0, 0, 1, 0, 0, 0, 0, 1]"
      ]
     },
     "execution_count": 129,
     "metadata": {},
     "output_type": "execute_result"
    }
   ],
   "source": [
    "graphics_dict[\"all\"][\"dff_travel_skill\"]['skill_continue_rating']"
   ]
  },
  {
   "cell_type": "code",
   "execution_count": 130,
   "id": "present-multiple",
   "metadata": {},
   "outputs": [
    {
     "data": {
      "text/plain": [
       "[5.0, 5.0, 1.0, 5.0, 2.0, 5.0, 3.0, 2.0, 3.0]"
      ]
     },
     "execution_count": 130,
     "metadata": {},
     "output_type": "execute_result"
    }
   ],
   "source": [
    "graphics_dict[\"all\"][\"dff_travel_skill\"]['rating']"
   ]
  },
  {
   "cell_type": "code",
   "execution_count": 132,
   "id": "opened-blowing",
   "metadata": {},
   "outputs": [
    {
     "data": {
      "text/plain": [
       "{'length': [12,\n",
       "  12,\n",
       "  16,\n",
       "  12,\n",
       "  22,\n",
       "  16,\n",
       "  18,\n",
       "  22,\n",
       "  40,\n",
       "  72,\n",
       "  32,\n",
       "  42,\n",
       "  32,\n",
       "  34,\n",
       "  74,\n",
       "  14,\n",
       "  136,\n",
       "  124,\n",
       "  18,\n",
       "  46,\n",
       "  40,\n",
       "  12,\n",
       "  34,\n",
       "  28,\n",
       "  20,\n",
       "  12,\n",
       "  20,\n",
       "  34,\n",
       "  14,\n",
       "  22,\n",
       "  22,\n",
       "  42,\n",
       "  8,\n",
       "  28,\n",
       "  18,\n",
       "  28,\n",
       "  218,\n",
       "  28,\n",
       "  60,\n",
       "  58,\n",
       "  66,\n",
       "  18,\n",
       "  12,\n",
       "  30],\n",
       " 'skill_continue': [1,\n",
       "  0,\n",
       "  0,\n",
       "  1,\n",
       "  0,\n",
       "  0,\n",
       "  1,\n",
       "  1,\n",
       "  1,\n",
       "  0,\n",
       "  0,\n",
       "  1,\n",
       "  0,\n",
       "  1,\n",
       "  1,\n",
       "  0,\n",
       "  0,\n",
       "  0,\n",
       "  0,\n",
       "  1,\n",
       "  0,\n",
       "  0,\n",
       "  0,\n",
       "  0,\n",
       "  0,\n",
       "  0,\n",
       "  1,\n",
       "  0,\n",
       "  0,\n",
       "  1,\n",
       "  0,\n",
       "  1,\n",
       "  0,\n",
       "  0,\n",
       "  0,\n",
       "  0,\n",
       "  0,\n",
       "  1,\n",
       "  0,\n",
       "  0,\n",
       "  0,\n",
       "  0,\n",
       "  1,\n",
       "  1],\n",
       " 'length_with_rating': [42, 136, 18, 46, 12, 28, 218, 18, 30],\n",
       " 'rating': [5.0, 5.0, 1.0, 5.0, 2.0, 5.0, 3.0, 2.0, 3.0],\n",
       " 'skill_continue_rating': [1, 0, 0, 1, 0, 0, 0, 0, 1],\n",
       " 'active_length_correlation': -0.1426421277906075,\n",
       " 'active_rating_correlation': 0.4193139346887673}"
      ]
     },
     "execution_count": 132,
     "metadata": {},
     "output_type": "execute_result"
    }
   ],
   "source": [
    "graphics_dict[\"all\"][\"dff_travel_skill\"]"
   ]
  },
  {
   "cell_type": "code",
   "execution_count": 80,
   "id": "durable-powder",
   "metadata": {},
   "outputs": [
    {
     "data": {
      "application/vnd.plotly.v1+json": {
       "config": {
        "plotlyServerURL": "https://plot.ly"
       },
       "data": [
        {
         "name": "v16.2.0",
         "opacity": 0.75,
         "type": "bar",
         "x": [
          "dff_movie_skill",
          "book_skill",
          "game_cooperative_skill",
          "dff_gaming_skill",
          "dff_travel_skill",
          "dff_animals_skill",
          "dff_food_skill",
          "dff_sport_skill",
          "dff_gossip_skill",
          "dff_science_skill",
          "dff_music_skill",
          "superheroes",
          "school"
         ],
         "y": [
          -0.16344062225232156,
          -0.8703882797784893,
          0.17466675292187456,
          0,
          0,
          -0.3222756587878498,
          -0.11111111111111113,
          0.10232343558582008,
          -0.4894935754389833,
          null,
          0.09352195295828244,
          0,
          0
         ]
        },
        {
         "name": "v16.9.0",
         "opacity": 0.75,
         "type": "bar",
         "x": [
          "dff_movie_skill",
          "book_skill",
          "game_cooperative_skill",
          "dff_gaming_skill",
          "dff_travel_skill",
          "dff_animals_skill",
          "dff_food_skill",
          "dff_sport_skill",
          "dff_gossip_skill",
          "dff_science_skill",
          "dff_music_skill",
          "superheroes",
          "school"
         ],
         "y": [
          0,
          -0.5297173415074916,
          0.49507377148833726,
          0,
          -0.13245323570650436,
          0,
          0,
          -0.03024061410843426,
          0,
          null,
          0,
          0,
          0
         ]
        },
        {
         "name": "all",
         "opacity": 0.75,
         "type": "bar",
         "x": [
          "dff_movie_skill",
          "book_skill",
          "game_cooperative_skill",
          "dff_gaming_skill",
          "dff_travel_skill",
          "dff_animals_skill",
          "dff_food_skill",
          "dff_sport_skill",
          "dff_gossip_skill",
          "dff_science_skill",
          "dff_music_skill",
          "superheroes",
          "school"
         ],
         "y": [
          -0.18504512555539465,
          -0.45640220033335177,
          0.28729806451638945,
          0,
          0.4193139346887673,
          -0.2412182877083841,
          0.11111111111111112,
          0.02825686367756959,
          -0.2235606123115538,
          null,
          0.09352195295828244,
          0,
          0
         ]
        }
       ],
       "layout": {
        "bargap": 0.2,
        "bargroupgap": 0.1,
        "template": {
         "data": {
          "bar": [
           {
            "error_x": {
             "color": "#2a3f5f"
            },
            "error_y": {
             "color": "#2a3f5f"
            },
            "marker": {
             "line": {
              "color": "#E5ECF6",
              "width": 0.5
             }
            },
            "type": "bar"
           }
          ],
          "barpolar": [
           {
            "marker": {
             "line": {
              "color": "#E5ECF6",
              "width": 0.5
             }
            },
            "type": "barpolar"
           }
          ],
          "carpet": [
           {
            "aaxis": {
             "endlinecolor": "#2a3f5f",
             "gridcolor": "white",
             "linecolor": "white",
             "minorgridcolor": "white",
             "startlinecolor": "#2a3f5f"
            },
            "baxis": {
             "endlinecolor": "#2a3f5f",
             "gridcolor": "white",
             "linecolor": "white",
             "minorgridcolor": "white",
             "startlinecolor": "#2a3f5f"
            },
            "type": "carpet"
           }
          ],
          "choropleth": [
           {
            "colorbar": {
             "outlinewidth": 0,
             "ticks": ""
            },
            "type": "choropleth"
           }
          ],
          "contour": [
           {
            "colorbar": {
             "outlinewidth": 0,
             "ticks": ""
            },
            "colorscale": [
             [
              0,
              "#0d0887"
             ],
             [
              0.1111111111111111,
              "#46039f"
             ],
             [
              0.2222222222222222,
              "#7201a8"
             ],
             [
              0.3333333333333333,
              "#9c179e"
             ],
             [
              0.4444444444444444,
              "#bd3786"
             ],
             [
              0.5555555555555556,
              "#d8576b"
             ],
             [
              0.6666666666666666,
              "#ed7953"
             ],
             [
              0.7777777777777778,
              "#fb9f3a"
             ],
             [
              0.8888888888888888,
              "#fdca26"
             ],
             [
              1,
              "#f0f921"
             ]
            ],
            "type": "contour"
           }
          ],
          "contourcarpet": [
           {
            "colorbar": {
             "outlinewidth": 0,
             "ticks": ""
            },
            "type": "contourcarpet"
           }
          ],
          "heatmap": [
           {
            "colorbar": {
             "outlinewidth": 0,
             "ticks": ""
            },
            "colorscale": [
             [
              0,
              "#0d0887"
             ],
             [
              0.1111111111111111,
              "#46039f"
             ],
             [
              0.2222222222222222,
              "#7201a8"
             ],
             [
              0.3333333333333333,
              "#9c179e"
             ],
             [
              0.4444444444444444,
              "#bd3786"
             ],
             [
              0.5555555555555556,
              "#d8576b"
             ],
             [
              0.6666666666666666,
              "#ed7953"
             ],
             [
              0.7777777777777778,
              "#fb9f3a"
             ],
             [
              0.8888888888888888,
              "#fdca26"
             ],
             [
              1,
              "#f0f921"
             ]
            ],
            "type": "heatmap"
           }
          ],
          "heatmapgl": [
           {
            "colorbar": {
             "outlinewidth": 0,
             "ticks": ""
            },
            "colorscale": [
             [
              0,
              "#0d0887"
             ],
             [
              0.1111111111111111,
              "#46039f"
             ],
             [
              0.2222222222222222,
              "#7201a8"
             ],
             [
              0.3333333333333333,
              "#9c179e"
             ],
             [
              0.4444444444444444,
              "#bd3786"
             ],
             [
              0.5555555555555556,
              "#d8576b"
             ],
             [
              0.6666666666666666,
              "#ed7953"
             ],
             [
              0.7777777777777778,
              "#fb9f3a"
             ],
             [
              0.8888888888888888,
              "#fdca26"
             ],
             [
              1,
              "#f0f921"
             ]
            ],
            "type": "heatmapgl"
           }
          ],
          "histogram": [
           {
            "marker": {
             "colorbar": {
              "outlinewidth": 0,
              "ticks": ""
             }
            },
            "type": "histogram"
           }
          ],
          "histogram2d": [
           {
            "colorbar": {
             "outlinewidth": 0,
             "ticks": ""
            },
            "colorscale": [
             [
              0,
              "#0d0887"
             ],
             [
              0.1111111111111111,
              "#46039f"
             ],
             [
              0.2222222222222222,
              "#7201a8"
             ],
             [
              0.3333333333333333,
              "#9c179e"
             ],
             [
              0.4444444444444444,
              "#bd3786"
             ],
             [
              0.5555555555555556,
              "#d8576b"
             ],
             [
              0.6666666666666666,
              "#ed7953"
             ],
             [
              0.7777777777777778,
              "#fb9f3a"
             ],
             [
              0.8888888888888888,
              "#fdca26"
             ],
             [
              1,
              "#f0f921"
             ]
            ],
            "type": "histogram2d"
           }
          ],
          "histogram2dcontour": [
           {
            "colorbar": {
             "outlinewidth": 0,
             "ticks": ""
            },
            "colorscale": [
             [
              0,
              "#0d0887"
             ],
             [
              0.1111111111111111,
              "#46039f"
             ],
             [
              0.2222222222222222,
              "#7201a8"
             ],
             [
              0.3333333333333333,
              "#9c179e"
             ],
             [
              0.4444444444444444,
              "#bd3786"
             ],
             [
              0.5555555555555556,
              "#d8576b"
             ],
             [
              0.6666666666666666,
              "#ed7953"
             ],
             [
              0.7777777777777778,
              "#fb9f3a"
             ],
             [
              0.8888888888888888,
              "#fdca26"
             ],
             [
              1,
              "#f0f921"
             ]
            ],
            "type": "histogram2dcontour"
           }
          ],
          "mesh3d": [
           {
            "colorbar": {
             "outlinewidth": 0,
             "ticks": ""
            },
            "type": "mesh3d"
           }
          ],
          "parcoords": [
           {
            "line": {
             "colorbar": {
              "outlinewidth": 0,
              "ticks": ""
             }
            },
            "type": "parcoords"
           }
          ],
          "pie": [
           {
            "automargin": true,
            "type": "pie"
           }
          ],
          "scatter": [
           {
            "marker": {
             "colorbar": {
              "outlinewidth": 0,
              "ticks": ""
             }
            },
            "type": "scatter"
           }
          ],
          "scatter3d": [
           {
            "line": {
             "colorbar": {
              "outlinewidth": 0,
              "ticks": ""
             }
            },
            "marker": {
             "colorbar": {
              "outlinewidth": 0,
              "ticks": ""
             }
            },
            "type": "scatter3d"
           }
          ],
          "scattercarpet": [
           {
            "marker": {
             "colorbar": {
              "outlinewidth": 0,
              "ticks": ""
             }
            },
            "type": "scattercarpet"
           }
          ],
          "scattergeo": [
           {
            "marker": {
             "colorbar": {
              "outlinewidth": 0,
              "ticks": ""
             }
            },
            "type": "scattergeo"
           }
          ],
          "scattergl": [
           {
            "marker": {
             "colorbar": {
              "outlinewidth": 0,
              "ticks": ""
             }
            },
            "type": "scattergl"
           }
          ],
          "scattermapbox": [
           {
            "marker": {
             "colorbar": {
              "outlinewidth": 0,
              "ticks": ""
             }
            },
            "type": "scattermapbox"
           }
          ],
          "scatterpolar": [
           {
            "marker": {
             "colorbar": {
              "outlinewidth": 0,
              "ticks": ""
             }
            },
            "type": "scatterpolar"
           }
          ],
          "scatterpolargl": [
           {
            "marker": {
             "colorbar": {
              "outlinewidth": 0,
              "ticks": ""
             }
            },
            "type": "scatterpolargl"
           }
          ],
          "scatterternary": [
           {
            "marker": {
             "colorbar": {
              "outlinewidth": 0,
              "ticks": ""
             }
            },
            "type": "scatterternary"
           }
          ],
          "surface": [
           {
            "colorbar": {
             "outlinewidth": 0,
             "ticks": ""
            },
            "colorscale": [
             [
              0,
              "#0d0887"
             ],
             [
              0.1111111111111111,
              "#46039f"
             ],
             [
              0.2222222222222222,
              "#7201a8"
             ],
             [
              0.3333333333333333,
              "#9c179e"
             ],
             [
              0.4444444444444444,
              "#bd3786"
             ],
             [
              0.5555555555555556,
              "#d8576b"
             ],
             [
              0.6666666666666666,
              "#ed7953"
             ],
             [
              0.7777777777777778,
              "#fb9f3a"
             ],
             [
              0.8888888888888888,
              "#fdca26"
             ],
             [
              1,
              "#f0f921"
             ]
            ],
            "type": "surface"
           }
          ],
          "table": [
           {
            "cells": {
             "fill": {
              "color": "#EBF0F8"
             },
             "line": {
              "color": "white"
             }
            },
            "header": {
             "fill": {
              "color": "#C8D4E3"
             },
             "line": {
              "color": "white"
             }
            },
            "type": "table"
           }
          ]
         },
         "layout": {
          "annotationdefaults": {
           "arrowcolor": "#2a3f5f",
           "arrowhead": 0,
           "arrowwidth": 1
          },
          "autotypenumbers": "strict",
          "coloraxis": {
           "colorbar": {
            "outlinewidth": 0,
            "ticks": ""
           }
          },
          "colorscale": {
           "diverging": [
            [
             0,
             "#8e0152"
            ],
            [
             0.1,
             "#c51b7d"
            ],
            [
             0.2,
             "#de77ae"
            ],
            [
             0.3,
             "#f1b6da"
            ],
            [
             0.4,
             "#fde0ef"
            ],
            [
             0.5,
             "#f7f7f7"
            ],
            [
             0.6,
             "#e6f5d0"
            ],
            [
             0.7,
             "#b8e186"
            ],
            [
             0.8,
             "#7fbc41"
            ],
            [
             0.9,
             "#4d9221"
            ],
            [
             1,
             "#276419"
            ]
           ],
           "sequential": [
            [
             0,
             "#0d0887"
            ],
            [
             0.1111111111111111,
             "#46039f"
            ],
            [
             0.2222222222222222,
             "#7201a8"
            ],
            [
             0.3333333333333333,
             "#9c179e"
            ],
            [
             0.4444444444444444,
             "#bd3786"
            ],
            [
             0.5555555555555556,
             "#d8576b"
            ],
            [
             0.6666666666666666,
             "#ed7953"
            ],
            [
             0.7777777777777778,
             "#fb9f3a"
            ],
            [
             0.8888888888888888,
             "#fdca26"
            ],
            [
             1,
             "#f0f921"
            ]
           ],
           "sequentialminus": [
            [
             0,
             "#0d0887"
            ],
            [
             0.1111111111111111,
             "#46039f"
            ],
            [
             0.2222222222222222,
             "#7201a8"
            ],
            [
             0.3333333333333333,
             "#9c179e"
            ],
            [
             0.4444444444444444,
             "#bd3786"
            ],
            [
             0.5555555555555556,
             "#d8576b"
            ],
            [
             0.6666666666666666,
             "#ed7953"
            ],
            [
             0.7777777777777778,
             "#fb9f3a"
            ],
            [
             0.8888888888888888,
             "#fdca26"
            ],
            [
             1,
             "#f0f921"
            ]
           ]
          },
          "colorway": [
           "#636efa",
           "#EF553B",
           "#00cc96",
           "#ab63fa",
           "#FFA15A",
           "#19d3f3",
           "#FF6692",
           "#B6E880",
           "#FF97FF",
           "#FECB52"
          ],
          "font": {
           "color": "#2a3f5f"
          },
          "geo": {
           "bgcolor": "white",
           "lakecolor": "white",
           "landcolor": "#E5ECF6",
           "showlakes": true,
           "showland": true,
           "subunitcolor": "white"
          },
          "hoverlabel": {
           "align": "left"
          },
          "hovermode": "closest",
          "mapbox": {
           "style": "light"
          },
          "paper_bgcolor": "white",
          "plot_bgcolor": "#E5ECF6",
          "polar": {
           "angularaxis": {
            "gridcolor": "white",
            "linecolor": "white",
            "ticks": ""
           },
           "bgcolor": "#E5ECF6",
           "radialaxis": {
            "gridcolor": "white",
            "linecolor": "white",
            "ticks": ""
           }
          },
          "scene": {
           "xaxis": {
            "backgroundcolor": "#E5ECF6",
            "gridcolor": "white",
            "gridwidth": 2,
            "linecolor": "white",
            "showbackground": true,
            "ticks": "",
            "zerolinecolor": "white"
           },
           "yaxis": {
            "backgroundcolor": "#E5ECF6",
            "gridcolor": "white",
            "gridwidth": 2,
            "linecolor": "white",
            "showbackground": true,
            "ticks": "",
            "zerolinecolor": "white"
           },
           "zaxis": {
            "backgroundcolor": "#E5ECF6",
            "gridcolor": "white",
            "gridwidth": 2,
            "linecolor": "white",
            "showbackground": true,
            "ticks": "",
            "zerolinecolor": "white"
           }
          },
          "shapedefaults": {
           "line": {
            "color": "#2a3f5f"
           }
          },
          "ternary": {
           "aaxis": {
            "gridcolor": "white",
            "linecolor": "white",
            "ticks": ""
           },
           "baxis": {
            "gridcolor": "white",
            "linecolor": "white",
            "ticks": ""
           },
           "bgcolor": "#E5ECF6",
           "caxis": {
            "gridcolor": "white",
            "linecolor": "white",
            "ticks": ""
           }
          },
          "title": {
           "x": 0.05
          },
          "xaxis": {
           "automargin": true,
           "gridcolor": "white",
           "linecolor": "white",
           "ticks": "",
           "title": {
            "standoff": 15
           },
           "zerolinecolor": "white",
           "zerolinewidth": 2
          },
          "yaxis": {
           "automargin": true,
           "gridcolor": "white",
           "linecolor": "white",
           "ticks": "",
           "title": {
            "standoff": 15
           },
           "zerolinecolor": "white",
           "zerolinewidth": 2
          }
         }
        },
        "title": {
         "text": "Корреляция между продолжением скилла и оценкой диалога"
        },
        "xaxis": {
         "title": {
          "text": "Skill"
         }
        },
        "yaxis": {
         "title": {
          "text": "Correlation"
         }
        }
       }
      },
      "text/html": [
       "<div>                            <div id=\"731ced2f-fddd-4e25-a45b-ceb8aabad0f9\" class=\"plotly-graph-div\" style=\"height:525px; width:100%;\"></div>            <script type=\"text/javascript\">                require([\"plotly\"], function(Plotly) {                    window.PLOTLYENV=window.PLOTLYENV || {};                                    if (document.getElementById(\"731ced2f-fddd-4e25-a45b-ceb8aabad0f9\")) {                    Plotly.newPlot(                        \"731ced2f-fddd-4e25-a45b-ceb8aabad0f9\",                        [{\"name\": \"v16.2.0\", \"opacity\": 0.75, \"type\": \"bar\", \"x\": [\"dff_movie_skill\", \"book_skill\", \"game_cooperative_skill\", \"dff_gaming_skill\", \"dff_travel_skill\", \"dff_animals_skill\", \"dff_food_skill\", \"dff_sport_skill\", \"dff_gossip_skill\", \"dff_science_skill\", \"dff_music_skill\", \"superheroes\", \"school\"], \"y\": [-0.16344062225232156, -0.8703882797784893, 0.17466675292187456, 0, 0, -0.3222756587878498, -0.11111111111111113, 0.10232343558582008, -0.4894935754389833, null, 0.09352195295828244, 0, 0]}, {\"name\": \"v16.9.0\", \"opacity\": 0.75, \"type\": \"bar\", \"x\": [\"dff_movie_skill\", \"book_skill\", \"game_cooperative_skill\", \"dff_gaming_skill\", \"dff_travel_skill\", \"dff_animals_skill\", \"dff_food_skill\", \"dff_sport_skill\", \"dff_gossip_skill\", \"dff_science_skill\", \"dff_music_skill\", \"superheroes\", \"school\"], \"y\": [0, -0.5297173415074916, 0.49507377148833726, 0, -0.13245323570650436, 0, 0, -0.03024061410843426, 0, null, 0, 0, 0]}, {\"name\": \"all\", \"opacity\": 0.75, \"type\": \"bar\", \"x\": [\"dff_movie_skill\", \"book_skill\", \"game_cooperative_skill\", \"dff_gaming_skill\", \"dff_travel_skill\", \"dff_animals_skill\", \"dff_food_skill\", \"dff_sport_skill\", \"dff_gossip_skill\", \"dff_science_skill\", \"dff_music_skill\", \"superheroes\", \"school\"], \"y\": [-0.18504512555539465, -0.45640220033335177, 0.28729806451638945, 0, 0.4193139346887673, -0.2412182877083841, 0.11111111111111112, 0.02825686367756959, -0.2235606123115538, null, 0.09352195295828244, 0, 0]}],                        {\"bargap\": 0.2, \"bargroupgap\": 0.1, \"template\": {\"data\": {\"bar\": [{\"error_x\": {\"color\": \"#2a3f5f\"}, \"error_y\": {\"color\": \"#2a3f5f\"}, \"marker\": {\"line\": {\"color\": \"#E5ECF6\", \"width\": 0.5}}, \"type\": \"bar\"}], \"barpolar\": [{\"marker\": {\"line\": {\"color\": \"#E5ECF6\", \"width\": 0.5}}, \"type\": \"barpolar\"}], \"carpet\": [{\"aaxis\": {\"endlinecolor\": \"#2a3f5f\", \"gridcolor\": \"white\", \"linecolor\": \"white\", \"minorgridcolor\": \"white\", \"startlinecolor\": \"#2a3f5f\"}, \"baxis\": {\"endlinecolor\": \"#2a3f5f\", \"gridcolor\": \"white\", \"linecolor\": \"white\", \"minorgridcolor\": \"white\", \"startlinecolor\": \"#2a3f5f\"}, \"type\": \"carpet\"}], \"choropleth\": [{\"colorbar\": {\"outlinewidth\": 0, \"ticks\": \"\"}, \"type\": \"choropleth\"}], \"contour\": [{\"colorbar\": {\"outlinewidth\": 0, \"ticks\": \"\"}, \"colorscale\": [[0.0, \"#0d0887\"], [0.1111111111111111, \"#46039f\"], [0.2222222222222222, \"#7201a8\"], [0.3333333333333333, \"#9c179e\"], [0.4444444444444444, \"#bd3786\"], [0.5555555555555556, \"#d8576b\"], [0.6666666666666666, \"#ed7953\"], [0.7777777777777778, \"#fb9f3a\"], [0.8888888888888888, \"#fdca26\"], [1.0, \"#f0f921\"]], \"type\": \"contour\"}], \"contourcarpet\": [{\"colorbar\": {\"outlinewidth\": 0, \"ticks\": \"\"}, \"type\": \"contourcarpet\"}], \"heatmap\": [{\"colorbar\": {\"outlinewidth\": 0, \"ticks\": \"\"}, \"colorscale\": [[0.0, \"#0d0887\"], [0.1111111111111111, \"#46039f\"], [0.2222222222222222, \"#7201a8\"], [0.3333333333333333, \"#9c179e\"], [0.4444444444444444, \"#bd3786\"], [0.5555555555555556, \"#d8576b\"], [0.6666666666666666, \"#ed7953\"], [0.7777777777777778, \"#fb9f3a\"], [0.8888888888888888, \"#fdca26\"], [1.0, \"#f0f921\"]], \"type\": \"heatmap\"}], \"heatmapgl\": [{\"colorbar\": {\"outlinewidth\": 0, \"ticks\": \"\"}, \"colorscale\": [[0.0, \"#0d0887\"], [0.1111111111111111, \"#46039f\"], [0.2222222222222222, \"#7201a8\"], [0.3333333333333333, \"#9c179e\"], [0.4444444444444444, \"#bd3786\"], [0.5555555555555556, \"#d8576b\"], [0.6666666666666666, \"#ed7953\"], [0.7777777777777778, \"#fb9f3a\"], [0.8888888888888888, \"#fdca26\"], [1.0, \"#f0f921\"]], \"type\": \"heatmapgl\"}], \"histogram\": [{\"marker\": {\"colorbar\": {\"outlinewidth\": 0, \"ticks\": \"\"}}, \"type\": \"histogram\"}], \"histogram2d\": [{\"colorbar\": {\"outlinewidth\": 0, \"ticks\": \"\"}, \"colorscale\": [[0.0, \"#0d0887\"], [0.1111111111111111, \"#46039f\"], [0.2222222222222222, \"#7201a8\"], [0.3333333333333333, \"#9c179e\"], [0.4444444444444444, \"#bd3786\"], [0.5555555555555556, \"#d8576b\"], [0.6666666666666666, \"#ed7953\"], [0.7777777777777778, \"#fb9f3a\"], [0.8888888888888888, \"#fdca26\"], [1.0, \"#f0f921\"]], \"type\": \"histogram2d\"}], \"histogram2dcontour\": [{\"colorbar\": {\"outlinewidth\": 0, \"ticks\": \"\"}, \"colorscale\": [[0.0, \"#0d0887\"], [0.1111111111111111, \"#46039f\"], [0.2222222222222222, \"#7201a8\"], [0.3333333333333333, \"#9c179e\"], [0.4444444444444444, \"#bd3786\"], [0.5555555555555556, \"#d8576b\"], [0.6666666666666666, \"#ed7953\"], [0.7777777777777778, \"#fb9f3a\"], [0.8888888888888888, \"#fdca26\"], [1.0, \"#f0f921\"]], \"type\": \"histogram2dcontour\"}], \"mesh3d\": [{\"colorbar\": {\"outlinewidth\": 0, \"ticks\": \"\"}, \"type\": \"mesh3d\"}], \"parcoords\": [{\"line\": {\"colorbar\": {\"outlinewidth\": 0, \"ticks\": \"\"}}, \"type\": \"parcoords\"}], \"pie\": [{\"automargin\": true, \"type\": \"pie\"}], \"scatter\": [{\"marker\": {\"colorbar\": {\"outlinewidth\": 0, \"ticks\": \"\"}}, \"type\": \"scatter\"}], \"scatter3d\": [{\"line\": {\"colorbar\": {\"outlinewidth\": 0, \"ticks\": \"\"}}, \"marker\": {\"colorbar\": {\"outlinewidth\": 0, \"ticks\": \"\"}}, \"type\": \"scatter3d\"}], \"scattercarpet\": [{\"marker\": {\"colorbar\": {\"outlinewidth\": 0, \"ticks\": \"\"}}, \"type\": \"scattercarpet\"}], \"scattergeo\": [{\"marker\": {\"colorbar\": {\"outlinewidth\": 0, \"ticks\": \"\"}}, \"type\": \"scattergeo\"}], \"scattergl\": [{\"marker\": {\"colorbar\": {\"outlinewidth\": 0, \"ticks\": \"\"}}, \"type\": \"scattergl\"}], \"scattermapbox\": [{\"marker\": {\"colorbar\": {\"outlinewidth\": 0, \"ticks\": \"\"}}, \"type\": \"scattermapbox\"}], \"scatterpolar\": [{\"marker\": {\"colorbar\": {\"outlinewidth\": 0, \"ticks\": \"\"}}, \"type\": \"scatterpolar\"}], \"scatterpolargl\": [{\"marker\": {\"colorbar\": {\"outlinewidth\": 0, \"ticks\": \"\"}}, \"type\": \"scatterpolargl\"}], \"scatterternary\": [{\"marker\": {\"colorbar\": {\"outlinewidth\": 0, \"ticks\": \"\"}}, \"type\": \"scatterternary\"}], \"surface\": [{\"colorbar\": {\"outlinewidth\": 0, \"ticks\": \"\"}, \"colorscale\": [[0.0, \"#0d0887\"], [0.1111111111111111, \"#46039f\"], [0.2222222222222222, \"#7201a8\"], [0.3333333333333333, \"#9c179e\"], [0.4444444444444444, \"#bd3786\"], [0.5555555555555556, \"#d8576b\"], [0.6666666666666666, \"#ed7953\"], [0.7777777777777778, \"#fb9f3a\"], [0.8888888888888888, \"#fdca26\"], [1.0, \"#f0f921\"]], \"type\": \"surface\"}], \"table\": [{\"cells\": {\"fill\": {\"color\": \"#EBF0F8\"}, \"line\": {\"color\": \"white\"}}, \"header\": {\"fill\": {\"color\": \"#C8D4E3\"}, \"line\": {\"color\": \"white\"}}, \"type\": \"table\"}]}, \"layout\": {\"annotationdefaults\": {\"arrowcolor\": \"#2a3f5f\", \"arrowhead\": 0, \"arrowwidth\": 1}, \"autotypenumbers\": \"strict\", \"coloraxis\": {\"colorbar\": {\"outlinewidth\": 0, \"ticks\": \"\"}}, \"colorscale\": {\"diverging\": [[0, \"#8e0152\"], [0.1, \"#c51b7d\"], [0.2, \"#de77ae\"], [0.3, \"#f1b6da\"], [0.4, \"#fde0ef\"], [0.5, \"#f7f7f7\"], [0.6, \"#e6f5d0\"], [0.7, \"#b8e186\"], [0.8, \"#7fbc41\"], [0.9, \"#4d9221\"], [1, \"#276419\"]], \"sequential\": [[0.0, \"#0d0887\"], [0.1111111111111111, \"#46039f\"], [0.2222222222222222, \"#7201a8\"], [0.3333333333333333, \"#9c179e\"], [0.4444444444444444, \"#bd3786\"], [0.5555555555555556, \"#d8576b\"], [0.6666666666666666, \"#ed7953\"], [0.7777777777777778, \"#fb9f3a\"], [0.8888888888888888, \"#fdca26\"], [1.0, \"#f0f921\"]], \"sequentialminus\": [[0.0, \"#0d0887\"], [0.1111111111111111, \"#46039f\"], [0.2222222222222222, \"#7201a8\"], [0.3333333333333333, \"#9c179e\"], [0.4444444444444444, \"#bd3786\"], [0.5555555555555556, \"#d8576b\"], [0.6666666666666666, \"#ed7953\"], [0.7777777777777778, \"#fb9f3a\"], [0.8888888888888888, \"#fdca26\"], [1.0, \"#f0f921\"]]}, \"colorway\": [\"#636efa\", \"#EF553B\", \"#00cc96\", \"#ab63fa\", \"#FFA15A\", \"#19d3f3\", \"#FF6692\", \"#B6E880\", \"#FF97FF\", \"#FECB52\"], \"font\": {\"color\": \"#2a3f5f\"}, \"geo\": {\"bgcolor\": \"white\", \"lakecolor\": \"white\", \"landcolor\": \"#E5ECF6\", \"showlakes\": true, \"showland\": true, \"subunitcolor\": \"white\"}, \"hoverlabel\": {\"align\": \"left\"}, \"hovermode\": \"closest\", \"mapbox\": {\"style\": \"light\"}, \"paper_bgcolor\": \"white\", \"plot_bgcolor\": \"#E5ECF6\", \"polar\": {\"angularaxis\": {\"gridcolor\": \"white\", \"linecolor\": \"white\", \"ticks\": \"\"}, \"bgcolor\": \"#E5ECF6\", \"radialaxis\": {\"gridcolor\": \"white\", \"linecolor\": \"white\", \"ticks\": \"\"}}, \"scene\": {\"xaxis\": {\"backgroundcolor\": \"#E5ECF6\", \"gridcolor\": \"white\", \"gridwidth\": 2, \"linecolor\": \"white\", \"showbackground\": true, \"ticks\": \"\", \"zerolinecolor\": \"white\"}, \"yaxis\": {\"backgroundcolor\": \"#E5ECF6\", \"gridcolor\": \"white\", \"gridwidth\": 2, \"linecolor\": \"white\", \"showbackground\": true, \"ticks\": \"\", \"zerolinecolor\": \"white\"}, \"zaxis\": {\"backgroundcolor\": \"#E5ECF6\", \"gridcolor\": \"white\", \"gridwidth\": 2, \"linecolor\": \"white\", \"showbackground\": true, \"ticks\": \"\", \"zerolinecolor\": \"white\"}}, \"shapedefaults\": {\"line\": {\"color\": \"#2a3f5f\"}}, \"ternary\": {\"aaxis\": {\"gridcolor\": \"white\", \"linecolor\": \"white\", \"ticks\": \"\"}, \"baxis\": {\"gridcolor\": \"white\", \"linecolor\": \"white\", \"ticks\": \"\"}, \"bgcolor\": \"#E5ECF6\", \"caxis\": {\"gridcolor\": \"white\", \"linecolor\": \"white\", \"ticks\": \"\"}}, \"title\": {\"x\": 0.05}, \"xaxis\": {\"automargin\": true, \"gridcolor\": \"white\", \"linecolor\": \"white\", \"ticks\": \"\", \"title\": {\"standoff\": 15}, \"zerolinecolor\": \"white\", \"zerolinewidth\": 2}, \"yaxis\": {\"automargin\": true, \"gridcolor\": \"white\", \"linecolor\": \"white\", \"ticks\": \"\", \"title\": {\"standoff\": 15}, \"zerolinecolor\": \"white\", \"zerolinewidth\": 2}}}, \"title\": {\"text\": \"\\u041a\\u043e\\u0440\\u0440\\u0435\\u043b\\u044f\\u0446\\u0438\\u044f \\u043c\\u0435\\u0436\\u0434\\u0443 \\u043f\\u0440\\u043e\\u0434\\u043e\\u043b\\u0436\\u0435\\u043d\\u0438\\u0435\\u043c \\u0441\\u043a\\u0438\\u043b\\u043b\\u0430 \\u0438 \\u043e\\u0446\\u0435\\u043d\\u043a\\u043e\\u0439 \\u0434\\u0438\\u0430\\u043b\\u043e\\u0433\\u0430\"}, \"xaxis\": {\"title\": {\"text\": \"Skill\"}}, \"yaxis\": {\"title\": {\"text\": \"Correlation\"}}},                        {\"responsive\": true}                    ).then(function(){\n",
       "                            \n",
       "var gd = document.getElementById('731ced2f-fddd-4e25-a45b-ceb8aabad0f9');\n",
       "var x = new MutationObserver(function (mutations, observer) {{\n",
       "        var display = window.getComputedStyle(gd).display;\n",
       "        if (!display || display === 'none') {{\n",
       "            console.log([gd, 'removed!']);\n",
       "            Plotly.purge(gd);\n",
       "            observer.disconnect();\n",
       "        }}\n",
       "}});\n",
       "\n",
       "// Listen for the removal of the full notebook cells\n",
       "var notebookContainer = gd.closest('#notebook-container');\n",
       "if (notebookContainer) {{\n",
       "    x.observe(notebookContainer, {childList: true});\n",
       "}}\n",
       "\n",
       "// Listen for the clearing of the current output cell\n",
       "var outputEl = gd.closest('.output');\n",
       "if (outputEl) {{\n",
       "    x.observe(outputEl, {childList: true});\n",
       "}}\n",
       "\n",
       "                        })                };                });            </script>        </div>"
      ]
     },
     "metadata": {},
     "output_type": "display_data"
    }
   ],
   "source": [
    "fig = go.Figure()\n",
    "\n",
    "for version in graphics_dict.keys():\n",
    "    \n",
    "    x0, y0 = [], []\n",
    "    dialog_count = []\n",
    "    \n",
    "    for skill in graphics_dict[version].keys():\n",
    "        x0.append(skill)\n",
    "        y0.append(graphics_dict[version][skill][\"active_rating_correlation\"])\n",
    "            \n",
    "    fig.add_trace(go.Bar(\n",
    "        x=x0,\n",
    "        y=y0,\n",
    "        name=version, \n",
    "        opacity=0.75\n",
    "    ))\n",
    "\n",
    "fig.update_layout(\n",
    "    title_text='Корреляция между продолжением скилла и оценкой диалога', \n",
    "    xaxis_title_text='Skill', \n",
    "    yaxis_title_text='Correlation', \n",
    "    bargap=0.2, \n",
    "    bargroupgap=0.1 \n",
    ")\n",
    "\n",
    "fig.show()"
   ]
  },
  {
   "cell_type": "code",
   "execution_count": 96,
   "id": "immediate-project",
   "metadata": {},
   "outputs": [
    {
     "name": "stdout",
     "output_type": "stream",
     "text": [
      "v16.2.0 3.5210526315789474\n",
      "dff_movie_skill 2.9 15\n",
      "book_skill 3.5 8\n",
      "game_cooperative_skill 3.272727272727273 11\n",
      "dff_gaming_skill 0 0\n",
      "dff_travel_skill 5.0 1\n",
      "dff_animals_skill 3.5357142857142856 14\n",
      "dff_food_skill 2.8 5\n",
      "dff_sport_skill 3.8181818181818183 11\n",
      "dff_gossip_skill 3.8333333333333335 6\n",
      "dff_science_skill 4.1 10\n",
      "dff_music_skill 3.75 14\n",
      "superheroes 0 0\n",
      "school 0 0\n",
      "v16.9.0 3.30188679245283\n",
      "dff_movie_skill 0 0\n",
      "book_skill 3.125 12\n",
      "game_cooperative_skill 3.2857142857142856 14\n",
      "dff_gaming_skill 0 0\n",
      "dff_travel_skill 3.25 4\n",
      "dff_animals_skill 5.0 1\n",
      "dff_food_skill 2.0 1\n",
      "dff_sport_skill 3.45 10\n",
      "dff_gossip_skill 0 0\n",
      "dff_science_skill 3.3636363636363638 11\n",
      "dff_music_skill 0 0\n",
      "superheroes 0 0\n",
      "school 0 0\n",
      "all 3.3481675392670156\n",
      "dff_movie_skill 2.78125 16\n",
      "book_skill 3.173076923076923 26\n",
      "game_cooperative_skill 3.3 30\n",
      "dff_gaming_skill 0 0\n",
      "dff_travel_skill 3.4444444444444446 9\n",
      "dff_animals_skill 3.6052631578947367 19\n",
      "dff_food_skill 2.9 10\n",
      "dff_sport_skill 3.685185185185185 27\n",
      "dff_gossip_skill 3.1 10\n",
      "dff_science_skill 3.4 30\n",
      "dff_music_skill 3.75 14\n",
      "superheroes 0 0\n",
      "school 0 0\n"
     ]
    },
    {
     "data": {
      "application/vnd.plotly.v1+json": {
       "config": {
        "plotlyServerURL": "https://plot.ly"
       },
       "data": [
        {
         "name": "v16.2.0",
         "opacity": 0.75,
         "type": "bar",
         "x": [
          "dff_movie_skill",
          "book_skill",
          "game_cooperative_skill",
          "dff_gaming_skill",
          "dff_travel_skill",
          "dff_animals_skill",
          "dff_food_skill",
          "dff_sport_skill",
          "dff_gossip_skill",
          "dff_science_skill",
          "dff_music_skill",
          "superheroes",
          "school"
         ],
         "y": [
          -0.6210526315789475,
          -0.021052631578947434,
          -0.2483253588516745,
          0,
          1.4789473684210526,
          0.014661654135338154,
          -0.7210526315789476,
          0.2971291866028709,
          0.31228070175438605,
          0.5789473684210522,
          0.22894736842105257,
          0,
          0
         ]
        },
        {
         "name": "v16.9.0",
         "opacity": 0.75,
         "type": "bar",
         "x": [
          "dff_movie_skill",
          "book_skill",
          "game_cooperative_skill",
          "dff_gaming_skill",
          "dff_travel_skill",
          "dff_animals_skill",
          "dff_food_skill",
          "dff_sport_skill",
          "dff_gossip_skill",
          "dff_science_skill",
          "dff_music_skill",
          "superheroes",
          "school"
         ],
         "y": [
          0,
          -0.17688679245283012,
          -0.016172506738544534,
          0,
          -0.05188679245283012,
          1.6981132075471699,
          -1.3018867924528301,
          0.14811320754717006,
          0,
          0.061749571183533636,
          0,
          0,
          0
         ]
        },
        {
         "name": "all",
         "opacity": 0.75,
         "type": "bar",
         "x": [
          "dff_movie_skill",
          "book_skill",
          "game_cooperative_skill",
          "dff_gaming_skill",
          "dff_travel_skill",
          "dff_animals_skill",
          "dff_food_skill",
          "dff_sport_skill",
          "dff_gossip_skill",
          "dff_science_skill",
          "dff_music_skill",
          "superheroes",
          "school"
         ],
         "y": [
          -0.5669175392670156,
          -0.1750906161900927,
          -0.04816753926701578,
          0,
          0.09627690517742904,
          0.2570956186277211,
          -0.4481675392670157,
          0.3370176459181695,
          -0.2481675392670155,
          0.05183246073298431,
          0.4018324607329844,
          0,
          0
         ]
        }
       ],
       "layout": {
        "bargap": 0.2,
        "bargroupgap": 0.1,
        "template": {
         "data": {
          "bar": [
           {
            "error_x": {
             "color": "#2a3f5f"
            },
            "error_y": {
             "color": "#2a3f5f"
            },
            "marker": {
             "line": {
              "color": "#E5ECF6",
              "width": 0.5
             }
            },
            "type": "bar"
           }
          ],
          "barpolar": [
           {
            "marker": {
             "line": {
              "color": "#E5ECF6",
              "width": 0.5
             }
            },
            "type": "barpolar"
           }
          ],
          "carpet": [
           {
            "aaxis": {
             "endlinecolor": "#2a3f5f",
             "gridcolor": "white",
             "linecolor": "white",
             "minorgridcolor": "white",
             "startlinecolor": "#2a3f5f"
            },
            "baxis": {
             "endlinecolor": "#2a3f5f",
             "gridcolor": "white",
             "linecolor": "white",
             "minorgridcolor": "white",
             "startlinecolor": "#2a3f5f"
            },
            "type": "carpet"
           }
          ],
          "choropleth": [
           {
            "colorbar": {
             "outlinewidth": 0,
             "ticks": ""
            },
            "type": "choropleth"
           }
          ],
          "contour": [
           {
            "colorbar": {
             "outlinewidth": 0,
             "ticks": ""
            },
            "colorscale": [
             [
              0,
              "#0d0887"
             ],
             [
              0.1111111111111111,
              "#46039f"
             ],
             [
              0.2222222222222222,
              "#7201a8"
             ],
             [
              0.3333333333333333,
              "#9c179e"
             ],
             [
              0.4444444444444444,
              "#bd3786"
             ],
             [
              0.5555555555555556,
              "#d8576b"
             ],
             [
              0.6666666666666666,
              "#ed7953"
             ],
             [
              0.7777777777777778,
              "#fb9f3a"
             ],
             [
              0.8888888888888888,
              "#fdca26"
             ],
             [
              1,
              "#f0f921"
             ]
            ],
            "type": "contour"
           }
          ],
          "contourcarpet": [
           {
            "colorbar": {
             "outlinewidth": 0,
             "ticks": ""
            },
            "type": "contourcarpet"
           }
          ],
          "heatmap": [
           {
            "colorbar": {
             "outlinewidth": 0,
             "ticks": ""
            },
            "colorscale": [
             [
              0,
              "#0d0887"
             ],
             [
              0.1111111111111111,
              "#46039f"
             ],
             [
              0.2222222222222222,
              "#7201a8"
             ],
             [
              0.3333333333333333,
              "#9c179e"
             ],
             [
              0.4444444444444444,
              "#bd3786"
             ],
             [
              0.5555555555555556,
              "#d8576b"
             ],
             [
              0.6666666666666666,
              "#ed7953"
             ],
             [
              0.7777777777777778,
              "#fb9f3a"
             ],
             [
              0.8888888888888888,
              "#fdca26"
             ],
             [
              1,
              "#f0f921"
             ]
            ],
            "type": "heatmap"
           }
          ],
          "heatmapgl": [
           {
            "colorbar": {
             "outlinewidth": 0,
             "ticks": ""
            },
            "colorscale": [
             [
              0,
              "#0d0887"
             ],
             [
              0.1111111111111111,
              "#46039f"
             ],
             [
              0.2222222222222222,
              "#7201a8"
             ],
             [
              0.3333333333333333,
              "#9c179e"
             ],
             [
              0.4444444444444444,
              "#bd3786"
             ],
             [
              0.5555555555555556,
              "#d8576b"
             ],
             [
              0.6666666666666666,
              "#ed7953"
             ],
             [
              0.7777777777777778,
              "#fb9f3a"
             ],
             [
              0.8888888888888888,
              "#fdca26"
             ],
             [
              1,
              "#f0f921"
             ]
            ],
            "type": "heatmapgl"
           }
          ],
          "histogram": [
           {
            "marker": {
             "colorbar": {
              "outlinewidth": 0,
              "ticks": ""
             }
            },
            "type": "histogram"
           }
          ],
          "histogram2d": [
           {
            "colorbar": {
             "outlinewidth": 0,
             "ticks": ""
            },
            "colorscale": [
             [
              0,
              "#0d0887"
             ],
             [
              0.1111111111111111,
              "#46039f"
             ],
             [
              0.2222222222222222,
              "#7201a8"
             ],
             [
              0.3333333333333333,
              "#9c179e"
             ],
             [
              0.4444444444444444,
              "#bd3786"
             ],
             [
              0.5555555555555556,
              "#d8576b"
             ],
             [
              0.6666666666666666,
              "#ed7953"
             ],
             [
              0.7777777777777778,
              "#fb9f3a"
             ],
             [
              0.8888888888888888,
              "#fdca26"
             ],
             [
              1,
              "#f0f921"
             ]
            ],
            "type": "histogram2d"
           }
          ],
          "histogram2dcontour": [
           {
            "colorbar": {
             "outlinewidth": 0,
             "ticks": ""
            },
            "colorscale": [
             [
              0,
              "#0d0887"
             ],
             [
              0.1111111111111111,
              "#46039f"
             ],
             [
              0.2222222222222222,
              "#7201a8"
             ],
             [
              0.3333333333333333,
              "#9c179e"
             ],
             [
              0.4444444444444444,
              "#bd3786"
             ],
             [
              0.5555555555555556,
              "#d8576b"
             ],
             [
              0.6666666666666666,
              "#ed7953"
             ],
             [
              0.7777777777777778,
              "#fb9f3a"
             ],
             [
              0.8888888888888888,
              "#fdca26"
             ],
             [
              1,
              "#f0f921"
             ]
            ],
            "type": "histogram2dcontour"
           }
          ],
          "mesh3d": [
           {
            "colorbar": {
             "outlinewidth": 0,
             "ticks": ""
            },
            "type": "mesh3d"
           }
          ],
          "parcoords": [
           {
            "line": {
             "colorbar": {
              "outlinewidth": 0,
              "ticks": ""
             }
            },
            "type": "parcoords"
           }
          ],
          "pie": [
           {
            "automargin": true,
            "type": "pie"
           }
          ],
          "scatter": [
           {
            "marker": {
             "colorbar": {
              "outlinewidth": 0,
              "ticks": ""
             }
            },
            "type": "scatter"
           }
          ],
          "scatter3d": [
           {
            "line": {
             "colorbar": {
              "outlinewidth": 0,
              "ticks": ""
             }
            },
            "marker": {
             "colorbar": {
              "outlinewidth": 0,
              "ticks": ""
             }
            },
            "type": "scatter3d"
           }
          ],
          "scattercarpet": [
           {
            "marker": {
             "colorbar": {
              "outlinewidth": 0,
              "ticks": ""
             }
            },
            "type": "scattercarpet"
           }
          ],
          "scattergeo": [
           {
            "marker": {
             "colorbar": {
              "outlinewidth": 0,
              "ticks": ""
             }
            },
            "type": "scattergeo"
           }
          ],
          "scattergl": [
           {
            "marker": {
             "colorbar": {
              "outlinewidth": 0,
              "ticks": ""
             }
            },
            "type": "scattergl"
           }
          ],
          "scattermapbox": [
           {
            "marker": {
             "colorbar": {
              "outlinewidth": 0,
              "ticks": ""
             }
            },
            "type": "scattermapbox"
           }
          ],
          "scatterpolar": [
           {
            "marker": {
             "colorbar": {
              "outlinewidth": 0,
              "ticks": ""
             }
            },
            "type": "scatterpolar"
           }
          ],
          "scatterpolargl": [
           {
            "marker": {
             "colorbar": {
              "outlinewidth": 0,
              "ticks": ""
             }
            },
            "type": "scatterpolargl"
           }
          ],
          "scatterternary": [
           {
            "marker": {
             "colorbar": {
              "outlinewidth": 0,
              "ticks": ""
             }
            },
            "type": "scatterternary"
           }
          ],
          "surface": [
           {
            "colorbar": {
             "outlinewidth": 0,
             "ticks": ""
            },
            "colorscale": [
             [
              0,
              "#0d0887"
             ],
             [
              0.1111111111111111,
              "#46039f"
             ],
             [
              0.2222222222222222,
              "#7201a8"
             ],
             [
              0.3333333333333333,
              "#9c179e"
             ],
             [
              0.4444444444444444,
              "#bd3786"
             ],
             [
              0.5555555555555556,
              "#d8576b"
             ],
             [
              0.6666666666666666,
              "#ed7953"
             ],
             [
              0.7777777777777778,
              "#fb9f3a"
             ],
             [
              0.8888888888888888,
              "#fdca26"
             ],
             [
              1,
              "#f0f921"
             ]
            ],
            "type": "surface"
           }
          ],
          "table": [
           {
            "cells": {
             "fill": {
              "color": "#EBF0F8"
             },
             "line": {
              "color": "white"
             }
            },
            "header": {
             "fill": {
              "color": "#C8D4E3"
             },
             "line": {
              "color": "white"
             }
            },
            "type": "table"
           }
          ]
         },
         "layout": {
          "annotationdefaults": {
           "arrowcolor": "#2a3f5f",
           "arrowhead": 0,
           "arrowwidth": 1
          },
          "autotypenumbers": "strict",
          "coloraxis": {
           "colorbar": {
            "outlinewidth": 0,
            "ticks": ""
           }
          },
          "colorscale": {
           "diverging": [
            [
             0,
             "#8e0152"
            ],
            [
             0.1,
             "#c51b7d"
            ],
            [
             0.2,
             "#de77ae"
            ],
            [
             0.3,
             "#f1b6da"
            ],
            [
             0.4,
             "#fde0ef"
            ],
            [
             0.5,
             "#f7f7f7"
            ],
            [
             0.6,
             "#e6f5d0"
            ],
            [
             0.7,
             "#b8e186"
            ],
            [
             0.8,
             "#7fbc41"
            ],
            [
             0.9,
             "#4d9221"
            ],
            [
             1,
             "#276419"
            ]
           ],
           "sequential": [
            [
             0,
             "#0d0887"
            ],
            [
             0.1111111111111111,
             "#46039f"
            ],
            [
             0.2222222222222222,
             "#7201a8"
            ],
            [
             0.3333333333333333,
             "#9c179e"
            ],
            [
             0.4444444444444444,
             "#bd3786"
            ],
            [
             0.5555555555555556,
             "#d8576b"
            ],
            [
             0.6666666666666666,
             "#ed7953"
            ],
            [
             0.7777777777777778,
             "#fb9f3a"
            ],
            [
             0.8888888888888888,
             "#fdca26"
            ],
            [
             1,
             "#f0f921"
            ]
           ],
           "sequentialminus": [
            [
             0,
             "#0d0887"
            ],
            [
             0.1111111111111111,
             "#46039f"
            ],
            [
             0.2222222222222222,
             "#7201a8"
            ],
            [
             0.3333333333333333,
             "#9c179e"
            ],
            [
             0.4444444444444444,
             "#bd3786"
            ],
            [
             0.5555555555555556,
             "#d8576b"
            ],
            [
             0.6666666666666666,
             "#ed7953"
            ],
            [
             0.7777777777777778,
             "#fb9f3a"
            ],
            [
             0.8888888888888888,
             "#fdca26"
            ],
            [
             1,
             "#f0f921"
            ]
           ]
          },
          "colorway": [
           "#636efa",
           "#EF553B",
           "#00cc96",
           "#ab63fa",
           "#FFA15A",
           "#19d3f3",
           "#FF6692",
           "#B6E880",
           "#FF97FF",
           "#FECB52"
          ],
          "font": {
           "color": "#2a3f5f"
          },
          "geo": {
           "bgcolor": "white",
           "lakecolor": "white",
           "landcolor": "#E5ECF6",
           "showlakes": true,
           "showland": true,
           "subunitcolor": "white"
          },
          "hoverlabel": {
           "align": "left"
          },
          "hovermode": "closest",
          "mapbox": {
           "style": "light"
          },
          "paper_bgcolor": "white",
          "plot_bgcolor": "#E5ECF6",
          "polar": {
           "angularaxis": {
            "gridcolor": "white",
            "linecolor": "white",
            "ticks": ""
           },
           "bgcolor": "#E5ECF6",
           "radialaxis": {
            "gridcolor": "white",
            "linecolor": "white",
            "ticks": ""
           }
          },
          "scene": {
           "xaxis": {
            "backgroundcolor": "#E5ECF6",
            "gridcolor": "white",
            "gridwidth": 2,
            "linecolor": "white",
            "showbackground": true,
            "ticks": "",
            "zerolinecolor": "white"
           },
           "yaxis": {
            "backgroundcolor": "#E5ECF6",
            "gridcolor": "white",
            "gridwidth": 2,
            "linecolor": "white",
            "showbackground": true,
            "ticks": "",
            "zerolinecolor": "white"
           },
           "zaxis": {
            "backgroundcolor": "#E5ECF6",
            "gridcolor": "white",
            "gridwidth": 2,
            "linecolor": "white",
            "showbackground": true,
            "ticks": "",
            "zerolinecolor": "white"
           }
          },
          "shapedefaults": {
           "line": {
            "color": "#2a3f5f"
           }
          },
          "ternary": {
           "aaxis": {
            "gridcolor": "white",
            "linecolor": "white",
            "ticks": ""
           },
           "baxis": {
            "gridcolor": "white",
            "linecolor": "white",
            "ticks": ""
           },
           "bgcolor": "#E5ECF6",
           "caxis": {
            "gridcolor": "white",
            "linecolor": "white",
            "ticks": ""
           }
          },
          "title": {
           "x": 0.05
          },
          "xaxis": {
           "automargin": true,
           "gridcolor": "white",
           "linecolor": "white",
           "ticks": "",
           "title": {
            "standoff": 15
           },
           "zerolinecolor": "white",
           "zerolinewidth": 2
          },
          "yaxis": {
           "automargin": true,
           "gridcolor": "white",
           "linecolor": "white",
           "ticks": "",
           "title": {
            "standoff": 15
           },
           "zerolinecolor": "white",
           "zerolinewidth": 2
          }
         }
        },
        "title": {
         "text": "Разница между средней оценкой диалога по всем скиллам и конкретным скиллом без учета включения"
        },
        "xaxis": {
         "title": {
          "text": "Skill"
         }
        },
        "yaxis": {
         "title": {
          "text": "Length Difference"
         }
        }
       }
      },
      "text/html": [
       "<div>                            <div id=\"20cc7434-45af-4fc4-a43a-2a27599e9823\" class=\"plotly-graph-div\" style=\"height:525px; width:100%;\"></div>            <script type=\"text/javascript\">                require([\"plotly\"], function(Plotly) {                    window.PLOTLYENV=window.PLOTLYENV || {};                                    if (document.getElementById(\"20cc7434-45af-4fc4-a43a-2a27599e9823\")) {                    Plotly.newPlot(                        \"20cc7434-45af-4fc4-a43a-2a27599e9823\",                        [{\"name\": \"v16.2.0\", \"opacity\": 0.75, \"type\": \"bar\", \"x\": [\"dff_movie_skill\", \"book_skill\", \"game_cooperative_skill\", \"dff_gaming_skill\", \"dff_travel_skill\", \"dff_animals_skill\", \"dff_food_skill\", \"dff_sport_skill\", \"dff_gossip_skill\", \"dff_science_skill\", \"dff_music_skill\", \"superheroes\", \"school\"], \"y\": [-0.6210526315789475, -0.021052631578947434, -0.2483253588516745, 0, 1.4789473684210526, 0.014661654135338154, -0.7210526315789476, 0.2971291866028709, 0.31228070175438605, 0.5789473684210522, 0.22894736842105257, 0, 0]}, {\"name\": \"v16.9.0\", \"opacity\": 0.75, \"type\": \"bar\", \"x\": [\"dff_movie_skill\", \"book_skill\", \"game_cooperative_skill\", \"dff_gaming_skill\", \"dff_travel_skill\", \"dff_animals_skill\", \"dff_food_skill\", \"dff_sport_skill\", \"dff_gossip_skill\", \"dff_science_skill\", \"dff_music_skill\", \"superheroes\", \"school\"], \"y\": [0, -0.17688679245283012, -0.016172506738544534, 0, -0.05188679245283012, 1.6981132075471699, -1.3018867924528301, 0.14811320754717006, 0, 0.061749571183533636, 0, 0, 0]}, {\"name\": \"all\", \"opacity\": 0.75, \"type\": \"bar\", \"x\": [\"dff_movie_skill\", \"book_skill\", \"game_cooperative_skill\", \"dff_gaming_skill\", \"dff_travel_skill\", \"dff_animals_skill\", \"dff_food_skill\", \"dff_sport_skill\", \"dff_gossip_skill\", \"dff_science_skill\", \"dff_music_skill\", \"superheroes\", \"school\"], \"y\": [-0.5669175392670156, -0.1750906161900927, -0.04816753926701578, 0, 0.09627690517742904, 0.2570956186277211, -0.4481675392670157, 0.3370176459181695, -0.2481675392670155, 0.05183246073298431, 0.4018324607329844, 0, 0]}],                        {\"bargap\": 0.2, \"bargroupgap\": 0.1, \"template\": {\"data\": {\"bar\": [{\"error_x\": {\"color\": \"#2a3f5f\"}, \"error_y\": {\"color\": \"#2a3f5f\"}, \"marker\": {\"line\": {\"color\": \"#E5ECF6\", \"width\": 0.5}}, \"type\": \"bar\"}], \"barpolar\": [{\"marker\": {\"line\": {\"color\": \"#E5ECF6\", \"width\": 0.5}}, \"type\": \"barpolar\"}], \"carpet\": [{\"aaxis\": {\"endlinecolor\": \"#2a3f5f\", \"gridcolor\": \"white\", \"linecolor\": \"white\", \"minorgridcolor\": \"white\", \"startlinecolor\": \"#2a3f5f\"}, \"baxis\": {\"endlinecolor\": \"#2a3f5f\", \"gridcolor\": \"white\", \"linecolor\": \"white\", \"minorgridcolor\": \"white\", \"startlinecolor\": \"#2a3f5f\"}, \"type\": \"carpet\"}], \"choropleth\": [{\"colorbar\": {\"outlinewidth\": 0, \"ticks\": \"\"}, \"type\": \"choropleth\"}], \"contour\": [{\"colorbar\": {\"outlinewidth\": 0, \"ticks\": \"\"}, \"colorscale\": [[0.0, \"#0d0887\"], [0.1111111111111111, \"#46039f\"], [0.2222222222222222, \"#7201a8\"], [0.3333333333333333, \"#9c179e\"], [0.4444444444444444, \"#bd3786\"], [0.5555555555555556, \"#d8576b\"], [0.6666666666666666, \"#ed7953\"], [0.7777777777777778, \"#fb9f3a\"], [0.8888888888888888, \"#fdca26\"], [1.0, \"#f0f921\"]], \"type\": \"contour\"}], \"contourcarpet\": [{\"colorbar\": {\"outlinewidth\": 0, \"ticks\": \"\"}, \"type\": \"contourcarpet\"}], \"heatmap\": [{\"colorbar\": {\"outlinewidth\": 0, \"ticks\": \"\"}, \"colorscale\": [[0.0, \"#0d0887\"], [0.1111111111111111, \"#46039f\"], [0.2222222222222222, \"#7201a8\"], [0.3333333333333333, \"#9c179e\"], [0.4444444444444444, \"#bd3786\"], [0.5555555555555556, \"#d8576b\"], [0.6666666666666666, \"#ed7953\"], [0.7777777777777778, \"#fb9f3a\"], [0.8888888888888888, \"#fdca26\"], [1.0, \"#f0f921\"]], \"type\": \"heatmap\"}], \"heatmapgl\": [{\"colorbar\": {\"outlinewidth\": 0, \"ticks\": \"\"}, \"colorscale\": [[0.0, \"#0d0887\"], [0.1111111111111111, \"#46039f\"], [0.2222222222222222, \"#7201a8\"], [0.3333333333333333, \"#9c179e\"], [0.4444444444444444, \"#bd3786\"], [0.5555555555555556, \"#d8576b\"], [0.6666666666666666, \"#ed7953\"], [0.7777777777777778, \"#fb9f3a\"], [0.8888888888888888, \"#fdca26\"], [1.0, \"#f0f921\"]], \"type\": \"heatmapgl\"}], \"histogram\": [{\"marker\": {\"colorbar\": {\"outlinewidth\": 0, \"ticks\": \"\"}}, \"type\": \"histogram\"}], \"histogram2d\": [{\"colorbar\": {\"outlinewidth\": 0, \"ticks\": \"\"}, \"colorscale\": [[0.0, \"#0d0887\"], [0.1111111111111111, \"#46039f\"], [0.2222222222222222, \"#7201a8\"], [0.3333333333333333, \"#9c179e\"], [0.4444444444444444, \"#bd3786\"], [0.5555555555555556, \"#d8576b\"], [0.6666666666666666, \"#ed7953\"], [0.7777777777777778, \"#fb9f3a\"], [0.8888888888888888, \"#fdca26\"], [1.0, \"#f0f921\"]], \"type\": \"histogram2d\"}], \"histogram2dcontour\": [{\"colorbar\": {\"outlinewidth\": 0, \"ticks\": \"\"}, \"colorscale\": [[0.0, \"#0d0887\"], [0.1111111111111111, \"#46039f\"], [0.2222222222222222, \"#7201a8\"], [0.3333333333333333, \"#9c179e\"], [0.4444444444444444, \"#bd3786\"], [0.5555555555555556, \"#d8576b\"], [0.6666666666666666, \"#ed7953\"], [0.7777777777777778, \"#fb9f3a\"], [0.8888888888888888, \"#fdca26\"], [1.0, \"#f0f921\"]], \"type\": \"histogram2dcontour\"}], \"mesh3d\": [{\"colorbar\": {\"outlinewidth\": 0, \"ticks\": \"\"}, \"type\": \"mesh3d\"}], \"parcoords\": [{\"line\": {\"colorbar\": {\"outlinewidth\": 0, \"ticks\": \"\"}}, \"type\": \"parcoords\"}], \"pie\": [{\"automargin\": true, \"type\": \"pie\"}], \"scatter\": [{\"marker\": {\"colorbar\": {\"outlinewidth\": 0, \"ticks\": \"\"}}, \"type\": \"scatter\"}], \"scatter3d\": [{\"line\": {\"colorbar\": {\"outlinewidth\": 0, \"ticks\": \"\"}}, \"marker\": {\"colorbar\": {\"outlinewidth\": 0, \"ticks\": \"\"}}, \"type\": \"scatter3d\"}], \"scattercarpet\": [{\"marker\": {\"colorbar\": {\"outlinewidth\": 0, \"ticks\": \"\"}}, \"type\": \"scattercarpet\"}], \"scattergeo\": [{\"marker\": {\"colorbar\": {\"outlinewidth\": 0, \"ticks\": \"\"}}, \"type\": \"scattergeo\"}], \"scattergl\": [{\"marker\": {\"colorbar\": {\"outlinewidth\": 0, \"ticks\": \"\"}}, \"type\": \"scattergl\"}], \"scattermapbox\": [{\"marker\": {\"colorbar\": {\"outlinewidth\": 0, \"ticks\": \"\"}}, \"type\": \"scattermapbox\"}], \"scatterpolar\": [{\"marker\": {\"colorbar\": {\"outlinewidth\": 0, \"ticks\": \"\"}}, \"type\": \"scatterpolar\"}], \"scatterpolargl\": [{\"marker\": {\"colorbar\": {\"outlinewidth\": 0, \"ticks\": \"\"}}, \"type\": \"scatterpolargl\"}], \"scatterternary\": [{\"marker\": {\"colorbar\": {\"outlinewidth\": 0, \"ticks\": \"\"}}, \"type\": \"scatterternary\"}], \"surface\": [{\"colorbar\": {\"outlinewidth\": 0, \"ticks\": \"\"}, \"colorscale\": [[0.0, \"#0d0887\"], [0.1111111111111111, \"#46039f\"], [0.2222222222222222, \"#7201a8\"], [0.3333333333333333, \"#9c179e\"], [0.4444444444444444, \"#bd3786\"], [0.5555555555555556, \"#d8576b\"], [0.6666666666666666, \"#ed7953\"], [0.7777777777777778, \"#fb9f3a\"], [0.8888888888888888, \"#fdca26\"], [1.0, \"#f0f921\"]], \"type\": \"surface\"}], \"table\": [{\"cells\": {\"fill\": {\"color\": \"#EBF0F8\"}, \"line\": {\"color\": \"white\"}}, \"header\": {\"fill\": {\"color\": \"#C8D4E3\"}, \"line\": {\"color\": \"white\"}}, \"type\": \"table\"}]}, \"layout\": {\"annotationdefaults\": {\"arrowcolor\": \"#2a3f5f\", \"arrowhead\": 0, \"arrowwidth\": 1}, \"autotypenumbers\": \"strict\", \"coloraxis\": {\"colorbar\": {\"outlinewidth\": 0, \"ticks\": \"\"}}, \"colorscale\": {\"diverging\": [[0, \"#8e0152\"], [0.1, \"#c51b7d\"], [0.2, \"#de77ae\"], [0.3, \"#f1b6da\"], [0.4, \"#fde0ef\"], [0.5, \"#f7f7f7\"], [0.6, \"#e6f5d0\"], [0.7, \"#b8e186\"], [0.8, \"#7fbc41\"], [0.9, \"#4d9221\"], [1, \"#276419\"]], \"sequential\": [[0.0, \"#0d0887\"], [0.1111111111111111, \"#46039f\"], [0.2222222222222222, \"#7201a8\"], [0.3333333333333333, \"#9c179e\"], [0.4444444444444444, \"#bd3786\"], [0.5555555555555556, \"#d8576b\"], [0.6666666666666666, \"#ed7953\"], [0.7777777777777778, \"#fb9f3a\"], [0.8888888888888888, \"#fdca26\"], [1.0, \"#f0f921\"]], \"sequentialminus\": [[0.0, \"#0d0887\"], [0.1111111111111111, \"#46039f\"], [0.2222222222222222, \"#7201a8\"], [0.3333333333333333, \"#9c179e\"], [0.4444444444444444, \"#bd3786\"], [0.5555555555555556, \"#d8576b\"], [0.6666666666666666, \"#ed7953\"], [0.7777777777777778, \"#fb9f3a\"], [0.8888888888888888, \"#fdca26\"], [1.0, \"#f0f921\"]]}, \"colorway\": [\"#636efa\", \"#EF553B\", \"#00cc96\", \"#ab63fa\", \"#FFA15A\", \"#19d3f3\", \"#FF6692\", \"#B6E880\", \"#FF97FF\", \"#FECB52\"], \"font\": {\"color\": \"#2a3f5f\"}, \"geo\": {\"bgcolor\": \"white\", \"lakecolor\": \"white\", \"landcolor\": \"#E5ECF6\", \"showlakes\": true, \"showland\": true, \"subunitcolor\": \"white\"}, \"hoverlabel\": {\"align\": \"left\"}, \"hovermode\": \"closest\", \"mapbox\": {\"style\": \"light\"}, \"paper_bgcolor\": \"white\", \"plot_bgcolor\": \"#E5ECF6\", \"polar\": {\"angularaxis\": {\"gridcolor\": \"white\", \"linecolor\": \"white\", \"ticks\": \"\"}, \"bgcolor\": \"#E5ECF6\", \"radialaxis\": {\"gridcolor\": \"white\", \"linecolor\": \"white\", \"ticks\": \"\"}}, \"scene\": {\"xaxis\": {\"backgroundcolor\": \"#E5ECF6\", \"gridcolor\": \"white\", \"gridwidth\": 2, \"linecolor\": \"white\", \"showbackground\": true, \"ticks\": \"\", \"zerolinecolor\": \"white\"}, \"yaxis\": {\"backgroundcolor\": \"#E5ECF6\", \"gridcolor\": \"white\", \"gridwidth\": 2, \"linecolor\": \"white\", \"showbackground\": true, \"ticks\": \"\", \"zerolinecolor\": \"white\"}, \"zaxis\": {\"backgroundcolor\": \"#E5ECF6\", \"gridcolor\": \"white\", \"gridwidth\": 2, \"linecolor\": \"white\", \"showbackground\": true, \"ticks\": \"\", \"zerolinecolor\": \"white\"}}, \"shapedefaults\": {\"line\": {\"color\": \"#2a3f5f\"}}, \"ternary\": {\"aaxis\": {\"gridcolor\": \"white\", \"linecolor\": \"white\", \"ticks\": \"\"}, \"baxis\": {\"gridcolor\": \"white\", \"linecolor\": \"white\", \"ticks\": \"\"}, \"bgcolor\": \"#E5ECF6\", \"caxis\": {\"gridcolor\": \"white\", \"linecolor\": \"white\", \"ticks\": \"\"}}, \"title\": {\"x\": 0.05}, \"xaxis\": {\"automargin\": true, \"gridcolor\": \"white\", \"linecolor\": \"white\", \"ticks\": \"\", \"title\": {\"standoff\": 15}, \"zerolinecolor\": \"white\", \"zerolinewidth\": 2}, \"yaxis\": {\"automargin\": true, \"gridcolor\": \"white\", \"linecolor\": \"white\", \"ticks\": \"\", \"title\": {\"standoff\": 15}, \"zerolinecolor\": \"white\", \"zerolinewidth\": 2}}}, \"title\": {\"text\": \"\\u0420\\u0430\\u0437\\u043d\\u0438\\u0446\\u0430 \\u043c\\u0435\\u0436\\u0434\\u0443 \\u0441\\u0440\\u0435\\u0434\\u043d\\u0435\\u0439 \\u043e\\u0446\\u0435\\u043d\\u043a\\u043e\\u0439 \\u0434\\u0438\\u0430\\u043b\\u043e\\u0433\\u0430 \\u043f\\u043e \\u0432\\u0441\\u0435\\u043c \\u0441\\u043a\\u0438\\u043b\\u043b\\u0430\\u043c \\u0438 \\u043a\\u043e\\u043d\\u043a\\u0440\\u0435\\u0442\\u043d\\u044b\\u043c \\u0441\\u043a\\u0438\\u043b\\u043b\\u043e\\u043c \\u0431\\u0435\\u0437 \\u0443\\u0447\\u0435\\u0442\\u0430 \\u0432\\u043a\\u043b\\u044e\\u0447\\u0435\\u043d\\u0438\\u044f\"}, \"xaxis\": {\"title\": {\"text\": \"Skill\"}}, \"yaxis\": {\"title\": {\"text\": \"Length Difference\"}}},                        {\"responsive\": true}                    ).then(function(){\n",
       "                            \n",
       "var gd = document.getElementById('20cc7434-45af-4fc4-a43a-2a27599e9823');\n",
       "var x = new MutationObserver(function (mutations, observer) {{\n",
       "        var display = window.getComputedStyle(gd).display;\n",
       "        if (!display || display === 'none') {{\n",
       "            console.log([gd, 'removed!']);\n",
       "            Plotly.purge(gd);\n",
       "            observer.disconnect();\n",
       "        }}\n",
       "}});\n",
       "\n",
       "// Listen for the removal of the full notebook cells\n",
       "var notebookContainer = gd.closest('#notebook-container');\n",
       "if (notebookContainer) {{\n",
       "    x.observe(notebookContainer, {childList: true});\n",
       "}}\n",
       "\n",
       "// Listen for the clearing of the current output cell\n",
       "var outputEl = gd.closest('.output');\n",
       "if (outputEl) {{\n",
       "    x.observe(outputEl, {childList: true});\n",
       "}}\n",
       "\n",
       "                        })                };                });            </script>        </div>"
      ]
     },
     "metadata": {},
     "output_type": "display_data"
    }
   ],
   "source": [
    "fig = go.Figure()\n",
    "\n",
    "for version in graphics_dict.keys():\n",
    "    \n",
    "    x0, y0 = [], []\n",
    "        \n",
    "    for skill in graphics_dict[version].keys():\n",
    "        x0.append(skill)\n",
    "        y_skill = graphics_dict[version][skill][\"rating\"]\n",
    "        y0.append(y_skill)\n",
    "        \n",
    "    y0_avg = [sum(y_skill) / len(y_skill) if len(y_skill) > 0 else 0 for y_skill in y0]\n",
    "    y0_all = [elem for y_skill in y0 for elem in y_skill]\n",
    "                \n",
    "    avg_rate = sum(y0_all) / len(y0_all) if len(y0_all) > 0 else 0\n",
    "    \n",
    "    y1 = [elem - avg_rate if elem > 0 else 0 for elem in y0_avg]\n",
    "    \n",
    "    print(version, avg_rate)\n",
    "    \n",
    "    for x2, y2 in zip(x0, y0):\n",
    "        y2_avg = sum(y2) / len(y2) if len(y2) > 0 else 0\n",
    "        print(x2, y2_avg, len(y2))\n",
    "                     \n",
    "    fig.add_trace(go.Bar(\n",
    "        x=x0,\n",
    "        y=y1,\n",
    "        name=version, \n",
    "        opacity=0.75\n",
    "    ))\n",
    "\n",
    "fig.update_layout(\n",
    "    title_text='Разница между средней оценкой диалога по всем скиллам и конкретным скиллом без учета включения', \n",
    "    xaxis_title_text='Skill', \n",
    "    yaxis_title_text='Length Difference', \n",
    "    bargap=0.2, \n",
    "    bargroupgap=0.1 \n",
    ")\n",
    "\n",
    "fig.show()"
   ]
  },
  {
   "cell_type": "code",
   "execution_count": 146,
   "id": "accurate-barrel",
   "metadata": {},
   "outputs": [
    {
     "name": "stdout",
     "output_type": "stream",
     "text": [
      "v16.2.0 3.5106382978723403\n",
      "dff_movie_skill 3.3181818181818183 11\n",
      "book_skill 4.0 4\n",
      "game_cooperative_skill 3.6666666666666665 3\n",
      "dff_gaming_skill 0 0\n",
      "dff_travel_skill 5.0 1\n",
      "dff_animals_skill 3.423076923076923 13\n",
      "dff_food_skill 2.8 5\n",
      "dff_sport_skill 3.6666666666666665 6\n",
      "dff_gossip_skill 0 0\n",
      "dff_science_skill 0 0\n",
      "dff_music_skill 4.0 4\n",
      "superheroes 0 0\n",
      "school 0 0\n",
      "v16.9.0 3.125\n",
      "dff_movie_skill 0 0\n",
      "book_skill 2.9444444444444446 9\n",
      "game_cooperative_skill 3.5 6\n",
      "dff_gaming_skill 0 0\n",
      "dff_travel_skill 2.0 1\n",
      "dff_animals_skill 5.0 1\n",
      "dff_food_skill 2.0 1\n",
      "dff_sport_skill 3.0833333333333335 6\n",
      "dff_gossip_skill 0 0\n",
      "dff_science_skill 0 0\n",
      "dff_music_skill 0 0\n",
      "superheroes 0 0\n",
      "school 0 0\n",
      "all 3.401098901098901\n",
      "dff_movie_skill 3.125 12\n",
      "book_skill 3.2083333333333335 12\n",
      "game_cooperative_skill 3.2857142857142856 14\n",
      "dff_gaming_skill 0 0\n",
      "dff_travel_skill 3.6 5\n",
      "dff_animals_skill 3.5277777777777777 18\n",
      "dff_food_skill 3.0 9\n",
      "dff_sport_skill 3.7058823529411766 17\n",
      "dff_gossip_skill 0 0\n",
      "dff_science_skill 0 0\n",
      "dff_music_skill 4.0 4\n",
      "superheroes 0 0\n",
      "school 0 0\n"
     ]
    },
    {
     "data": {
      "application/vnd.plotly.v1+json": {
       "config": {
        "plotlyServerURL": "https://plot.ly"
       },
       "data": [
        {
         "name": "v16.2.0",
         "opacity": 0.75,
         "type": "bar",
         "x": [
          "dff_movie_skill",
          "book_skill",
          "game_cooperative_skill",
          "dff_gaming_skill",
          "dff_travel_skill",
          "dff_animals_skill",
          "dff_food_skill",
          "dff_sport_skill",
          "dff_gossip_skill",
          "dff_science_skill",
          "dff_music_skill",
          "superheroes",
          "school"
         ],
         "y": [
          -0.19245647969052193,
          0.4893617021276597,
          0.15602836879432624,
          0,
          1.4893617021276597,
          -0.08756137479541737,
          -0.7106382978723405,
          0.15602836879432624,
          0,
          0,
          0.4893617021276597,
          0,
          0
         ]
        },
        {
         "name": "v16.9.0",
         "opacity": 0.75,
         "type": "bar",
         "x": [
          "dff_movie_skill",
          "book_skill",
          "game_cooperative_skill",
          "dff_gaming_skill",
          "dff_travel_skill",
          "dff_animals_skill",
          "dff_food_skill",
          "dff_sport_skill",
          "dff_gossip_skill",
          "dff_science_skill",
          "dff_music_skill",
          "superheroes",
          "school"
         ],
         "y": [
          0,
          -0.18055555555555536,
          0.375,
          0,
          -1.125,
          1.875,
          -1.125,
          -0.04166666666666652,
          0,
          0,
          0,
          0,
          0
         ]
        },
        {
         "name": "all",
         "opacity": 0.75,
         "type": "bar",
         "x": [
          "dff_movie_skill",
          "book_skill",
          "game_cooperative_skill",
          "dff_gaming_skill",
          "dff_travel_skill",
          "dff_animals_skill",
          "dff_food_skill",
          "dff_sport_skill",
          "dff_gossip_skill",
          "dff_science_skill",
          "dff_music_skill",
          "superheroes",
          "school"
         ],
         "y": [
          -0.276098901098901,
          -0.19276556776556752,
          -0.11538461538461542,
          0,
          0.19890109890109908,
          0.12667887667887667,
          -0.401098901098901,
          0.3047834518422756,
          0,
          0,
          0.598901098901099,
          0,
          0
         ]
        }
       ],
       "layout": {
        "bargap": 0.2,
        "bargroupgap": 0.1,
        "template": {
         "data": {
          "bar": [
           {
            "error_x": {
             "color": "#2a3f5f"
            },
            "error_y": {
             "color": "#2a3f5f"
            },
            "marker": {
             "line": {
              "color": "#E5ECF6",
              "width": 0.5
             }
            },
            "type": "bar"
           }
          ],
          "barpolar": [
           {
            "marker": {
             "line": {
              "color": "#E5ECF6",
              "width": 0.5
             }
            },
            "type": "barpolar"
           }
          ],
          "carpet": [
           {
            "aaxis": {
             "endlinecolor": "#2a3f5f",
             "gridcolor": "white",
             "linecolor": "white",
             "minorgridcolor": "white",
             "startlinecolor": "#2a3f5f"
            },
            "baxis": {
             "endlinecolor": "#2a3f5f",
             "gridcolor": "white",
             "linecolor": "white",
             "minorgridcolor": "white",
             "startlinecolor": "#2a3f5f"
            },
            "type": "carpet"
           }
          ],
          "choropleth": [
           {
            "colorbar": {
             "outlinewidth": 0,
             "ticks": ""
            },
            "type": "choropleth"
           }
          ],
          "contour": [
           {
            "colorbar": {
             "outlinewidth": 0,
             "ticks": ""
            },
            "colorscale": [
             [
              0,
              "#0d0887"
             ],
             [
              0.1111111111111111,
              "#46039f"
             ],
             [
              0.2222222222222222,
              "#7201a8"
             ],
             [
              0.3333333333333333,
              "#9c179e"
             ],
             [
              0.4444444444444444,
              "#bd3786"
             ],
             [
              0.5555555555555556,
              "#d8576b"
             ],
             [
              0.6666666666666666,
              "#ed7953"
             ],
             [
              0.7777777777777778,
              "#fb9f3a"
             ],
             [
              0.8888888888888888,
              "#fdca26"
             ],
             [
              1,
              "#f0f921"
             ]
            ],
            "type": "contour"
           }
          ],
          "contourcarpet": [
           {
            "colorbar": {
             "outlinewidth": 0,
             "ticks": ""
            },
            "type": "contourcarpet"
           }
          ],
          "heatmap": [
           {
            "colorbar": {
             "outlinewidth": 0,
             "ticks": ""
            },
            "colorscale": [
             [
              0,
              "#0d0887"
             ],
             [
              0.1111111111111111,
              "#46039f"
             ],
             [
              0.2222222222222222,
              "#7201a8"
             ],
             [
              0.3333333333333333,
              "#9c179e"
             ],
             [
              0.4444444444444444,
              "#bd3786"
             ],
             [
              0.5555555555555556,
              "#d8576b"
             ],
             [
              0.6666666666666666,
              "#ed7953"
             ],
             [
              0.7777777777777778,
              "#fb9f3a"
             ],
             [
              0.8888888888888888,
              "#fdca26"
             ],
             [
              1,
              "#f0f921"
             ]
            ],
            "type": "heatmap"
           }
          ],
          "heatmapgl": [
           {
            "colorbar": {
             "outlinewidth": 0,
             "ticks": ""
            },
            "colorscale": [
             [
              0,
              "#0d0887"
             ],
             [
              0.1111111111111111,
              "#46039f"
             ],
             [
              0.2222222222222222,
              "#7201a8"
             ],
             [
              0.3333333333333333,
              "#9c179e"
             ],
             [
              0.4444444444444444,
              "#bd3786"
             ],
             [
              0.5555555555555556,
              "#d8576b"
             ],
             [
              0.6666666666666666,
              "#ed7953"
             ],
             [
              0.7777777777777778,
              "#fb9f3a"
             ],
             [
              0.8888888888888888,
              "#fdca26"
             ],
             [
              1,
              "#f0f921"
             ]
            ],
            "type": "heatmapgl"
           }
          ],
          "histogram": [
           {
            "marker": {
             "colorbar": {
              "outlinewidth": 0,
              "ticks": ""
             }
            },
            "type": "histogram"
           }
          ],
          "histogram2d": [
           {
            "colorbar": {
             "outlinewidth": 0,
             "ticks": ""
            },
            "colorscale": [
             [
              0,
              "#0d0887"
             ],
             [
              0.1111111111111111,
              "#46039f"
             ],
             [
              0.2222222222222222,
              "#7201a8"
             ],
             [
              0.3333333333333333,
              "#9c179e"
             ],
             [
              0.4444444444444444,
              "#bd3786"
             ],
             [
              0.5555555555555556,
              "#d8576b"
             ],
             [
              0.6666666666666666,
              "#ed7953"
             ],
             [
              0.7777777777777778,
              "#fb9f3a"
             ],
             [
              0.8888888888888888,
              "#fdca26"
             ],
             [
              1,
              "#f0f921"
             ]
            ],
            "type": "histogram2d"
           }
          ],
          "histogram2dcontour": [
           {
            "colorbar": {
             "outlinewidth": 0,
             "ticks": ""
            },
            "colorscale": [
             [
              0,
              "#0d0887"
             ],
             [
              0.1111111111111111,
              "#46039f"
             ],
             [
              0.2222222222222222,
              "#7201a8"
             ],
             [
              0.3333333333333333,
              "#9c179e"
             ],
             [
              0.4444444444444444,
              "#bd3786"
             ],
             [
              0.5555555555555556,
              "#d8576b"
             ],
             [
              0.6666666666666666,
              "#ed7953"
             ],
             [
              0.7777777777777778,
              "#fb9f3a"
             ],
             [
              0.8888888888888888,
              "#fdca26"
             ],
             [
              1,
              "#f0f921"
             ]
            ],
            "type": "histogram2dcontour"
           }
          ],
          "mesh3d": [
           {
            "colorbar": {
             "outlinewidth": 0,
             "ticks": ""
            },
            "type": "mesh3d"
           }
          ],
          "parcoords": [
           {
            "line": {
             "colorbar": {
              "outlinewidth": 0,
              "ticks": ""
             }
            },
            "type": "parcoords"
           }
          ],
          "pie": [
           {
            "automargin": true,
            "type": "pie"
           }
          ],
          "scatter": [
           {
            "marker": {
             "colorbar": {
              "outlinewidth": 0,
              "ticks": ""
             }
            },
            "type": "scatter"
           }
          ],
          "scatter3d": [
           {
            "line": {
             "colorbar": {
              "outlinewidth": 0,
              "ticks": ""
             }
            },
            "marker": {
             "colorbar": {
              "outlinewidth": 0,
              "ticks": ""
             }
            },
            "type": "scatter3d"
           }
          ],
          "scattercarpet": [
           {
            "marker": {
             "colorbar": {
              "outlinewidth": 0,
              "ticks": ""
             }
            },
            "type": "scattercarpet"
           }
          ],
          "scattergeo": [
           {
            "marker": {
             "colorbar": {
              "outlinewidth": 0,
              "ticks": ""
             }
            },
            "type": "scattergeo"
           }
          ],
          "scattergl": [
           {
            "marker": {
             "colorbar": {
              "outlinewidth": 0,
              "ticks": ""
             }
            },
            "type": "scattergl"
           }
          ],
          "scattermapbox": [
           {
            "marker": {
             "colorbar": {
              "outlinewidth": 0,
              "ticks": ""
             }
            },
            "type": "scattermapbox"
           }
          ],
          "scatterpolar": [
           {
            "marker": {
             "colorbar": {
              "outlinewidth": 0,
              "ticks": ""
             }
            },
            "type": "scatterpolar"
           }
          ],
          "scatterpolargl": [
           {
            "marker": {
             "colorbar": {
              "outlinewidth": 0,
              "ticks": ""
             }
            },
            "type": "scatterpolargl"
           }
          ],
          "scatterternary": [
           {
            "marker": {
             "colorbar": {
              "outlinewidth": 0,
              "ticks": ""
             }
            },
            "type": "scatterternary"
           }
          ],
          "surface": [
           {
            "colorbar": {
             "outlinewidth": 0,
             "ticks": ""
            },
            "colorscale": [
             [
              0,
              "#0d0887"
             ],
             [
              0.1111111111111111,
              "#46039f"
             ],
             [
              0.2222222222222222,
              "#7201a8"
             ],
             [
              0.3333333333333333,
              "#9c179e"
             ],
             [
              0.4444444444444444,
              "#bd3786"
             ],
             [
              0.5555555555555556,
              "#d8576b"
             ],
             [
              0.6666666666666666,
              "#ed7953"
             ],
             [
              0.7777777777777778,
              "#fb9f3a"
             ],
             [
              0.8888888888888888,
              "#fdca26"
             ],
             [
              1,
              "#f0f921"
             ]
            ],
            "type": "surface"
           }
          ],
          "table": [
           {
            "cells": {
             "fill": {
              "color": "#EBF0F8"
             },
             "line": {
              "color": "white"
             }
            },
            "header": {
             "fill": {
              "color": "#C8D4E3"
             },
             "line": {
              "color": "white"
             }
            },
            "type": "table"
           }
          ]
         },
         "layout": {
          "annotationdefaults": {
           "arrowcolor": "#2a3f5f",
           "arrowhead": 0,
           "arrowwidth": 1
          },
          "autotypenumbers": "strict",
          "coloraxis": {
           "colorbar": {
            "outlinewidth": 0,
            "ticks": ""
           }
          },
          "colorscale": {
           "diverging": [
            [
             0,
             "#8e0152"
            ],
            [
             0.1,
             "#c51b7d"
            ],
            [
             0.2,
             "#de77ae"
            ],
            [
             0.3,
             "#f1b6da"
            ],
            [
             0.4,
             "#fde0ef"
            ],
            [
             0.5,
             "#f7f7f7"
            ],
            [
             0.6,
             "#e6f5d0"
            ],
            [
             0.7,
             "#b8e186"
            ],
            [
             0.8,
             "#7fbc41"
            ],
            [
             0.9,
             "#4d9221"
            ],
            [
             1,
             "#276419"
            ]
           ],
           "sequential": [
            [
             0,
             "#0d0887"
            ],
            [
             0.1111111111111111,
             "#46039f"
            ],
            [
             0.2222222222222222,
             "#7201a8"
            ],
            [
             0.3333333333333333,
             "#9c179e"
            ],
            [
             0.4444444444444444,
             "#bd3786"
            ],
            [
             0.5555555555555556,
             "#d8576b"
            ],
            [
             0.6666666666666666,
             "#ed7953"
            ],
            [
             0.7777777777777778,
             "#fb9f3a"
            ],
            [
             0.8888888888888888,
             "#fdca26"
            ],
            [
             1,
             "#f0f921"
            ]
           ],
           "sequentialminus": [
            [
             0,
             "#0d0887"
            ],
            [
             0.1111111111111111,
             "#46039f"
            ],
            [
             0.2222222222222222,
             "#7201a8"
            ],
            [
             0.3333333333333333,
             "#9c179e"
            ],
            [
             0.4444444444444444,
             "#bd3786"
            ],
            [
             0.5555555555555556,
             "#d8576b"
            ],
            [
             0.6666666666666666,
             "#ed7953"
            ],
            [
             0.7777777777777778,
             "#fb9f3a"
            ],
            [
             0.8888888888888888,
             "#fdca26"
            ],
            [
             1,
             "#f0f921"
            ]
           ]
          },
          "colorway": [
           "#636efa",
           "#EF553B",
           "#00cc96",
           "#ab63fa",
           "#FFA15A",
           "#19d3f3",
           "#FF6692",
           "#B6E880",
           "#FF97FF",
           "#FECB52"
          ],
          "font": {
           "color": "#2a3f5f"
          },
          "geo": {
           "bgcolor": "white",
           "lakecolor": "white",
           "landcolor": "#E5ECF6",
           "showlakes": true,
           "showland": true,
           "subunitcolor": "white"
          },
          "hoverlabel": {
           "align": "left"
          },
          "hovermode": "closest",
          "mapbox": {
           "style": "light"
          },
          "paper_bgcolor": "white",
          "plot_bgcolor": "#E5ECF6",
          "polar": {
           "angularaxis": {
            "gridcolor": "white",
            "linecolor": "white",
            "ticks": ""
           },
           "bgcolor": "#E5ECF6",
           "radialaxis": {
            "gridcolor": "white",
            "linecolor": "white",
            "ticks": ""
           }
          },
          "scene": {
           "xaxis": {
            "backgroundcolor": "#E5ECF6",
            "gridcolor": "white",
            "gridwidth": 2,
            "linecolor": "white",
            "showbackground": true,
            "ticks": "",
            "zerolinecolor": "white"
           },
           "yaxis": {
            "backgroundcolor": "#E5ECF6",
            "gridcolor": "white",
            "gridwidth": 2,
            "linecolor": "white",
            "showbackground": true,
            "ticks": "",
            "zerolinecolor": "white"
           },
           "zaxis": {
            "backgroundcolor": "#E5ECF6",
            "gridcolor": "white",
            "gridwidth": 2,
            "linecolor": "white",
            "showbackground": true,
            "ticks": "",
            "zerolinecolor": "white"
           }
          },
          "shapedefaults": {
           "line": {
            "color": "#2a3f5f"
           }
          },
          "ternary": {
           "aaxis": {
            "gridcolor": "white",
            "linecolor": "white",
            "ticks": ""
           },
           "baxis": {
            "gridcolor": "white",
            "linecolor": "white",
            "ticks": ""
           },
           "bgcolor": "#E5ECF6",
           "caxis": {
            "gridcolor": "white",
            "linecolor": "white",
            "ticks": ""
           }
          },
          "title": {
           "x": 0.05
          },
          "xaxis": {
           "automargin": true,
           "gridcolor": "white",
           "linecolor": "white",
           "ticks": "",
           "title": {
            "standoff": 15
           },
           "zerolinecolor": "white",
           "zerolinewidth": 2
          },
          "yaxis": {
           "automargin": true,
           "gridcolor": "white",
           "linecolor": "white",
           "ticks": "",
           "title": {
            "standoff": 15
           },
           "zerolinecolor": "white",
           "zerolinewidth": 2
          }
         }
        },
        "title": {
         "text": "Разница между средней оценкой диалога по всем скиллам и конкретным скиллом при включении скилла"
        },
        "xaxis": {
         "title": {
          "text": "Skill"
         }
        },
        "yaxis": {
         "title": {
          "text": "Length Difference"
         }
        }
       }
      },
      "text/html": [
       "<div>                            <div id=\"ded57c52-9534-4e21-9807-754daa5e10f7\" class=\"plotly-graph-div\" style=\"height:525px; width:100%;\"></div>            <script type=\"text/javascript\">                require([\"plotly\"], function(Plotly) {                    window.PLOTLYENV=window.PLOTLYENV || {};                                    if (document.getElementById(\"ded57c52-9534-4e21-9807-754daa5e10f7\")) {                    Plotly.newPlot(                        \"ded57c52-9534-4e21-9807-754daa5e10f7\",                        [{\"name\": \"v16.2.0\", \"opacity\": 0.75, \"type\": \"bar\", \"x\": [\"dff_movie_skill\", \"book_skill\", \"game_cooperative_skill\", \"dff_gaming_skill\", \"dff_travel_skill\", \"dff_animals_skill\", \"dff_food_skill\", \"dff_sport_skill\", \"dff_gossip_skill\", \"dff_science_skill\", \"dff_music_skill\", \"superheroes\", \"school\"], \"y\": [-0.19245647969052193, 0.4893617021276597, 0.15602836879432624, 0, 1.4893617021276597, -0.08756137479541737, -0.7106382978723405, 0.15602836879432624, 0, 0, 0.4893617021276597, 0, 0]}, {\"name\": \"v16.9.0\", \"opacity\": 0.75, \"type\": \"bar\", \"x\": [\"dff_movie_skill\", \"book_skill\", \"game_cooperative_skill\", \"dff_gaming_skill\", \"dff_travel_skill\", \"dff_animals_skill\", \"dff_food_skill\", \"dff_sport_skill\", \"dff_gossip_skill\", \"dff_science_skill\", \"dff_music_skill\", \"superheroes\", \"school\"], \"y\": [0, -0.18055555555555536, 0.375, 0, -1.125, 1.875, -1.125, -0.04166666666666652, 0, 0, 0, 0, 0]}, {\"name\": \"all\", \"opacity\": 0.75, \"type\": \"bar\", \"x\": [\"dff_movie_skill\", \"book_skill\", \"game_cooperative_skill\", \"dff_gaming_skill\", \"dff_travel_skill\", \"dff_animals_skill\", \"dff_food_skill\", \"dff_sport_skill\", \"dff_gossip_skill\", \"dff_science_skill\", \"dff_music_skill\", \"superheroes\", \"school\"], \"y\": [-0.276098901098901, -0.19276556776556752, -0.11538461538461542, 0, 0.19890109890109908, 0.12667887667887667, -0.401098901098901, 0.3047834518422756, 0, 0, 0.598901098901099, 0, 0]}],                        {\"bargap\": 0.2, \"bargroupgap\": 0.1, \"template\": {\"data\": {\"bar\": [{\"error_x\": {\"color\": \"#2a3f5f\"}, \"error_y\": {\"color\": \"#2a3f5f\"}, \"marker\": {\"line\": {\"color\": \"#E5ECF6\", \"width\": 0.5}}, \"type\": \"bar\"}], \"barpolar\": [{\"marker\": {\"line\": {\"color\": \"#E5ECF6\", \"width\": 0.5}}, \"type\": \"barpolar\"}], \"carpet\": [{\"aaxis\": {\"endlinecolor\": \"#2a3f5f\", \"gridcolor\": \"white\", \"linecolor\": \"white\", \"minorgridcolor\": \"white\", \"startlinecolor\": \"#2a3f5f\"}, \"baxis\": {\"endlinecolor\": \"#2a3f5f\", \"gridcolor\": \"white\", \"linecolor\": \"white\", \"minorgridcolor\": \"white\", \"startlinecolor\": \"#2a3f5f\"}, \"type\": \"carpet\"}], \"choropleth\": [{\"colorbar\": {\"outlinewidth\": 0, \"ticks\": \"\"}, \"type\": \"choropleth\"}], \"contour\": [{\"colorbar\": {\"outlinewidth\": 0, \"ticks\": \"\"}, \"colorscale\": [[0.0, \"#0d0887\"], [0.1111111111111111, \"#46039f\"], [0.2222222222222222, \"#7201a8\"], [0.3333333333333333, \"#9c179e\"], [0.4444444444444444, \"#bd3786\"], [0.5555555555555556, \"#d8576b\"], [0.6666666666666666, \"#ed7953\"], [0.7777777777777778, \"#fb9f3a\"], [0.8888888888888888, \"#fdca26\"], [1.0, \"#f0f921\"]], \"type\": \"contour\"}], \"contourcarpet\": [{\"colorbar\": {\"outlinewidth\": 0, \"ticks\": \"\"}, \"type\": \"contourcarpet\"}], \"heatmap\": [{\"colorbar\": {\"outlinewidth\": 0, \"ticks\": \"\"}, \"colorscale\": [[0.0, \"#0d0887\"], [0.1111111111111111, \"#46039f\"], [0.2222222222222222, \"#7201a8\"], [0.3333333333333333, \"#9c179e\"], [0.4444444444444444, \"#bd3786\"], [0.5555555555555556, \"#d8576b\"], [0.6666666666666666, \"#ed7953\"], [0.7777777777777778, \"#fb9f3a\"], [0.8888888888888888, \"#fdca26\"], [1.0, \"#f0f921\"]], \"type\": \"heatmap\"}], \"heatmapgl\": [{\"colorbar\": {\"outlinewidth\": 0, \"ticks\": \"\"}, \"colorscale\": [[0.0, \"#0d0887\"], [0.1111111111111111, \"#46039f\"], [0.2222222222222222, \"#7201a8\"], [0.3333333333333333, \"#9c179e\"], [0.4444444444444444, \"#bd3786\"], [0.5555555555555556, \"#d8576b\"], [0.6666666666666666, \"#ed7953\"], [0.7777777777777778, \"#fb9f3a\"], [0.8888888888888888, \"#fdca26\"], [1.0, \"#f0f921\"]], \"type\": \"heatmapgl\"}], \"histogram\": [{\"marker\": {\"colorbar\": {\"outlinewidth\": 0, \"ticks\": \"\"}}, \"type\": \"histogram\"}], \"histogram2d\": [{\"colorbar\": {\"outlinewidth\": 0, \"ticks\": \"\"}, \"colorscale\": [[0.0, \"#0d0887\"], [0.1111111111111111, \"#46039f\"], [0.2222222222222222, \"#7201a8\"], [0.3333333333333333, \"#9c179e\"], [0.4444444444444444, \"#bd3786\"], [0.5555555555555556, \"#d8576b\"], [0.6666666666666666, \"#ed7953\"], [0.7777777777777778, \"#fb9f3a\"], [0.8888888888888888, \"#fdca26\"], [1.0, \"#f0f921\"]], \"type\": \"histogram2d\"}], \"histogram2dcontour\": [{\"colorbar\": {\"outlinewidth\": 0, \"ticks\": \"\"}, \"colorscale\": [[0.0, \"#0d0887\"], [0.1111111111111111, \"#46039f\"], [0.2222222222222222, \"#7201a8\"], [0.3333333333333333, \"#9c179e\"], [0.4444444444444444, \"#bd3786\"], [0.5555555555555556, \"#d8576b\"], [0.6666666666666666, \"#ed7953\"], [0.7777777777777778, \"#fb9f3a\"], [0.8888888888888888, \"#fdca26\"], [1.0, \"#f0f921\"]], \"type\": \"histogram2dcontour\"}], \"mesh3d\": [{\"colorbar\": {\"outlinewidth\": 0, \"ticks\": \"\"}, \"type\": \"mesh3d\"}], \"parcoords\": [{\"line\": {\"colorbar\": {\"outlinewidth\": 0, \"ticks\": \"\"}}, \"type\": \"parcoords\"}], \"pie\": [{\"automargin\": true, \"type\": \"pie\"}], \"scatter\": [{\"marker\": {\"colorbar\": {\"outlinewidth\": 0, \"ticks\": \"\"}}, \"type\": \"scatter\"}], \"scatter3d\": [{\"line\": {\"colorbar\": {\"outlinewidth\": 0, \"ticks\": \"\"}}, \"marker\": {\"colorbar\": {\"outlinewidth\": 0, \"ticks\": \"\"}}, \"type\": \"scatter3d\"}], \"scattercarpet\": [{\"marker\": {\"colorbar\": {\"outlinewidth\": 0, \"ticks\": \"\"}}, \"type\": \"scattercarpet\"}], \"scattergeo\": [{\"marker\": {\"colorbar\": {\"outlinewidth\": 0, \"ticks\": \"\"}}, \"type\": \"scattergeo\"}], \"scattergl\": [{\"marker\": {\"colorbar\": {\"outlinewidth\": 0, \"ticks\": \"\"}}, \"type\": \"scattergl\"}], \"scattermapbox\": [{\"marker\": {\"colorbar\": {\"outlinewidth\": 0, \"ticks\": \"\"}}, \"type\": \"scattermapbox\"}], \"scatterpolar\": [{\"marker\": {\"colorbar\": {\"outlinewidth\": 0, \"ticks\": \"\"}}, \"type\": \"scatterpolar\"}], \"scatterpolargl\": [{\"marker\": {\"colorbar\": {\"outlinewidth\": 0, \"ticks\": \"\"}}, \"type\": \"scatterpolargl\"}], \"scatterternary\": [{\"marker\": {\"colorbar\": {\"outlinewidth\": 0, \"ticks\": \"\"}}, \"type\": \"scatterternary\"}], \"surface\": [{\"colorbar\": {\"outlinewidth\": 0, \"ticks\": \"\"}, \"colorscale\": [[0.0, \"#0d0887\"], [0.1111111111111111, \"#46039f\"], [0.2222222222222222, \"#7201a8\"], [0.3333333333333333, \"#9c179e\"], [0.4444444444444444, \"#bd3786\"], [0.5555555555555556, \"#d8576b\"], [0.6666666666666666, \"#ed7953\"], [0.7777777777777778, \"#fb9f3a\"], [0.8888888888888888, \"#fdca26\"], [1.0, \"#f0f921\"]], \"type\": \"surface\"}], \"table\": [{\"cells\": {\"fill\": {\"color\": \"#EBF0F8\"}, \"line\": {\"color\": \"white\"}}, \"header\": {\"fill\": {\"color\": \"#C8D4E3\"}, \"line\": {\"color\": \"white\"}}, \"type\": \"table\"}]}, \"layout\": {\"annotationdefaults\": {\"arrowcolor\": \"#2a3f5f\", \"arrowhead\": 0, \"arrowwidth\": 1}, \"autotypenumbers\": \"strict\", \"coloraxis\": {\"colorbar\": {\"outlinewidth\": 0, \"ticks\": \"\"}}, \"colorscale\": {\"diverging\": [[0, \"#8e0152\"], [0.1, \"#c51b7d\"], [0.2, \"#de77ae\"], [0.3, \"#f1b6da\"], [0.4, \"#fde0ef\"], [0.5, \"#f7f7f7\"], [0.6, \"#e6f5d0\"], [0.7, \"#b8e186\"], [0.8, \"#7fbc41\"], [0.9, \"#4d9221\"], [1, \"#276419\"]], \"sequential\": [[0.0, \"#0d0887\"], [0.1111111111111111, \"#46039f\"], [0.2222222222222222, \"#7201a8\"], [0.3333333333333333, \"#9c179e\"], [0.4444444444444444, \"#bd3786\"], [0.5555555555555556, \"#d8576b\"], [0.6666666666666666, \"#ed7953\"], [0.7777777777777778, \"#fb9f3a\"], [0.8888888888888888, \"#fdca26\"], [1.0, \"#f0f921\"]], \"sequentialminus\": [[0.0, \"#0d0887\"], [0.1111111111111111, \"#46039f\"], [0.2222222222222222, \"#7201a8\"], [0.3333333333333333, \"#9c179e\"], [0.4444444444444444, \"#bd3786\"], [0.5555555555555556, \"#d8576b\"], [0.6666666666666666, \"#ed7953\"], [0.7777777777777778, \"#fb9f3a\"], [0.8888888888888888, \"#fdca26\"], [1.0, \"#f0f921\"]]}, \"colorway\": [\"#636efa\", \"#EF553B\", \"#00cc96\", \"#ab63fa\", \"#FFA15A\", \"#19d3f3\", \"#FF6692\", \"#B6E880\", \"#FF97FF\", \"#FECB52\"], \"font\": {\"color\": \"#2a3f5f\"}, \"geo\": {\"bgcolor\": \"white\", \"lakecolor\": \"white\", \"landcolor\": \"#E5ECF6\", \"showlakes\": true, \"showland\": true, \"subunitcolor\": \"white\"}, \"hoverlabel\": {\"align\": \"left\"}, \"hovermode\": \"closest\", \"mapbox\": {\"style\": \"light\"}, \"paper_bgcolor\": \"white\", \"plot_bgcolor\": \"#E5ECF6\", \"polar\": {\"angularaxis\": {\"gridcolor\": \"white\", \"linecolor\": \"white\", \"ticks\": \"\"}, \"bgcolor\": \"#E5ECF6\", \"radialaxis\": {\"gridcolor\": \"white\", \"linecolor\": \"white\", \"ticks\": \"\"}}, \"scene\": {\"xaxis\": {\"backgroundcolor\": \"#E5ECF6\", \"gridcolor\": \"white\", \"gridwidth\": 2, \"linecolor\": \"white\", \"showbackground\": true, \"ticks\": \"\", \"zerolinecolor\": \"white\"}, \"yaxis\": {\"backgroundcolor\": \"#E5ECF6\", \"gridcolor\": \"white\", \"gridwidth\": 2, \"linecolor\": \"white\", \"showbackground\": true, \"ticks\": \"\", \"zerolinecolor\": \"white\"}, \"zaxis\": {\"backgroundcolor\": \"#E5ECF6\", \"gridcolor\": \"white\", \"gridwidth\": 2, \"linecolor\": \"white\", \"showbackground\": true, \"ticks\": \"\", \"zerolinecolor\": \"white\"}}, \"shapedefaults\": {\"line\": {\"color\": \"#2a3f5f\"}}, \"ternary\": {\"aaxis\": {\"gridcolor\": \"white\", \"linecolor\": \"white\", \"ticks\": \"\"}, \"baxis\": {\"gridcolor\": \"white\", \"linecolor\": \"white\", \"ticks\": \"\"}, \"bgcolor\": \"#E5ECF6\", \"caxis\": {\"gridcolor\": \"white\", \"linecolor\": \"white\", \"ticks\": \"\"}}, \"title\": {\"x\": 0.05}, \"xaxis\": {\"automargin\": true, \"gridcolor\": \"white\", \"linecolor\": \"white\", \"ticks\": \"\", \"title\": {\"standoff\": 15}, \"zerolinecolor\": \"white\", \"zerolinewidth\": 2}, \"yaxis\": {\"automargin\": true, \"gridcolor\": \"white\", \"linecolor\": \"white\", \"ticks\": \"\", \"title\": {\"standoff\": 15}, \"zerolinecolor\": \"white\", \"zerolinewidth\": 2}}}, \"title\": {\"text\": \"\\u0420\\u0430\\u0437\\u043d\\u0438\\u0446\\u0430 \\u043c\\u0435\\u0436\\u0434\\u0443 \\u0441\\u0440\\u0435\\u0434\\u043d\\u0435\\u0439 \\u043e\\u0446\\u0435\\u043d\\u043a\\u043e\\u0439 \\u0434\\u0438\\u0430\\u043b\\u043e\\u0433\\u0430 \\u043f\\u043e \\u0432\\u0441\\u0435\\u043c \\u0441\\u043a\\u0438\\u043b\\u043b\\u0430\\u043c \\u0438 \\u043a\\u043e\\u043d\\u043a\\u0440\\u0435\\u0442\\u043d\\u044b\\u043c \\u0441\\u043a\\u0438\\u043b\\u043b\\u043e\\u043c \\u043f\\u0440\\u0438 \\u0432\\u043a\\u043b\\u044e\\u0447\\u0435\\u043d\\u0438\\u0438 \\u0441\\u043a\\u0438\\u043b\\u043b\\u0430\"}, \"xaxis\": {\"title\": {\"text\": \"Skill\"}}, \"yaxis\": {\"title\": {\"text\": \"Length Difference\"}}},                        {\"responsive\": true}                    ).then(function(){\n",
       "                            \n",
       "var gd = document.getElementById('ded57c52-9534-4e21-9807-754daa5e10f7');\n",
       "var x = new MutationObserver(function (mutations, observer) {{\n",
       "        var display = window.getComputedStyle(gd).display;\n",
       "        if (!display || display === 'none') {{\n",
       "            console.log([gd, 'removed!']);\n",
       "            Plotly.purge(gd);\n",
       "            observer.disconnect();\n",
       "        }}\n",
       "}});\n",
       "\n",
       "// Listen for the removal of the full notebook cells\n",
       "var notebookContainer = gd.closest('#notebook-container');\n",
       "if (notebookContainer) {{\n",
       "    x.observe(notebookContainer, {childList: true});\n",
       "}}\n",
       "\n",
       "// Listen for the clearing of the current output cell\n",
       "var outputEl = gd.closest('.output');\n",
       "if (outputEl) {{\n",
       "    x.observe(outputEl, {childList: true});\n",
       "}}\n",
       "\n",
       "                        })                };                });            </script>        </div>"
      ]
     },
     "metadata": {},
     "output_type": "display_data"
    }
   ],
   "source": [
    "fig = go.Figure()\n",
    "rate_dict = []\n",
    "\n",
    "for version in graphics_dict.keys():\n",
    "    \n",
    "    x0, y0 = [], []\n",
    "        \n",
    "    for skill in graphics_dict[version].keys():\n",
    "        x0.append(skill)\n",
    "        y_skill = []\n",
    "        for l, cont in zip(graphics_dict[version][skill][\"rating\"], graphics_dict[version][skill][\"skill_continue\"]):\n",
    "            if cont == 1:\n",
    "                y_skill.append(l)\n",
    "        y0.append(y_skill)\n",
    "        \n",
    "    y0_avg = [sum(y_skill) / len(y_skill) if len(y_skill) > 0 else 0 for y_skill in y0]\n",
    "    y0_all = [elem for y_skill in y0 for elem in y_skill]\n",
    "                \n",
    "    avg_rate = sum(y0_all) / len(y0_all) if len(y0_all) > 0 else 0\n",
    "    \n",
    "    y1 = [elem - avg_rate if elem > 0 else 0 for elem in y0_avg]\n",
    "    \n",
    "    print(version, avg_rate)\n",
    "    \n",
    "    \n",
    "    for x2, y2 in zip(x0, y0):\n",
    "        y2_avg = sum(y2) / len(y2) if len(y2) > 0 else 0\n",
    "        print(x2, y2_avg, len(y2))\n",
    "        if version == \"v16.9.0\":\n",
    "            rate_dict.append((x2, y2_avg, len(y2)))\n",
    "                     \n",
    "    fig.add_trace(go.Bar(\n",
    "        x=x0,\n",
    "        y=y1,\n",
    "        name=version, \n",
    "        opacity=0.75\n",
    "    ))\n",
    "\n",
    "fig.update_layout(\n",
    "    title_text='Разница между средней оценкой диалога по всем скиллам и конкретным скиллом при включении скилла', \n",
    "    xaxis_title_text='Skill', \n",
    "    yaxis_title_text='Length Difference', \n",
    "    bargap=0.2, \n",
    "    bargroupgap=0.1 \n",
    ")\n",
    "\n",
    "fig.show()"
   ]
  },
  {
   "cell_type": "code",
   "execution_count": 147,
   "id": "another-major",
   "metadata": {},
   "outputs": [
    {
     "name": "stdout",
     "output_type": "stream",
     "text": [
      "('dff_animals_skill', 5.0, 1)\n",
      "('game_cooperative_skill', 3.5, 6)\n",
      "('dff_sport_skill', 3.0833333333333335, 6)\n",
      "('book_skill', 2.9444444444444446, 9)\n",
      "('dff_food_skill', 2.0, 1)\n",
      "('dff_travel_skill', 2.0, 1)\n",
      "('school', 0, 0)\n",
      "('superheroes', 0, 0)\n",
      "('dff_music_skill', 0, 0)\n",
      "('dff_science_skill', 0, 0)\n",
      "('dff_gossip_skill', 0, 0)\n",
      "('dff_gaming_skill', 0, 0)\n",
      "('dff_movie_skill', 0, 0)\n"
     ]
    }
   ],
   "source": [
    "idxs = np.argsort(np.array([el[1] for el in rate_dict]))[::-1]\n",
    "for i in idxs:\n",
    "    print(rate_dict[i])"
   ]
  },
  {
   "cell_type": "code",
   "execution_count": 109,
   "id": "artistic-indonesian",
   "metadata": {},
   "outputs": [
    {
     "name": "stdout",
     "output_type": "stream",
     "text": [
      "v16.2.0 39.22527472527472\n",
      "dff_movie_skill 34.457142857142856 35\n",
      "book_skill 46.30434782608695 46\n",
      "game_cooperative_skill 38.72727272727273 55\n",
      "dff_gaming_skill 0 0\n",
      "dff_travel_skill 27.285714285714285 14\n",
      "dff_animals_skill 45.78260869565217 46\n",
      "dff_food_skill 39.93103448275862 29\n",
      "dff_sport_skill 33.62162162162162 37\n",
      "dff_gossip_skill 34.89655172413793 29\n",
      "dff_science_skill 41.09090909090909 33\n",
      "dff_music_skill 38.85 40\n",
      "superheroes 0 0\n",
      "school 0 0\n",
      "v16.9.0 41.4080459770115\n",
      "dff_movie_skill 0 0\n",
      "book_skill 37.39393939393939 33\n",
      "game_cooperative_skill 39.333333333333336 48\n",
      "dff_gaming_skill 0 0\n",
      "dff_travel_skill 41.529411764705884 17\n",
      "dff_animals_skill 64.0 4\n",
      "dff_food_skill 32.5 4\n",
      "dff_sport_skill 39.8125 32\n",
      "dff_gossip_skill 0 0\n",
      "dff_science_skill 47.69444444444444 36\n",
      "dff_music_skill 0 0\n",
      "superheroes 0 0\n",
      "school 0 0\n",
      "all 39.312035661218424\n",
      "dff_movie_skill 32.68181818181818 44\n",
      "book_skill 40.66 100\n",
      "game_cooperative_skill 38.2 120\n",
      "dff_gaming_skill 0 0\n",
      "dff_travel_skill 37.86363636363637 44\n",
      "dff_animals_skill 45.28813559322034 59\n",
      "dff_food_skill 36.18604651162791 43\n",
      "dff_sport_skill 39.494505494505496 91\n",
      "dff_gossip_skill 34.4390243902439 41\n",
      "dff_science_skill 43.375 88\n",
      "dff_music_skill 38.41860465116279 43\n",
      "superheroes 0 0\n",
      "school 0 0\n"
     ]
    },
    {
     "data": {
      "application/vnd.plotly.v1+json": {
       "config": {
        "plotlyServerURL": "https://plot.ly"
       },
       "data": [
        {
         "name": "v16.2.0",
         "opacity": 0.75,
         "type": "bar",
         "x": [
          "dff_movie_skill",
          "book_skill",
          "game_cooperative_skill",
          "dff_gaming_skill",
          "dff_travel_skill",
          "dff_animals_skill",
          "dff_food_skill",
          "dff_sport_skill",
          "dff_gossip_skill",
          "dff_science_skill",
          "dff_music_skill",
          "superheroes",
          "school"
         ],
         "y": [
          -4.768131868131867,
          7.079073100812231,
          -0.49800199800199607,
          0,
          -11.939560439560438,
          6.557333970377449,
          0.7057597574838965,
          -5.603653103653102,
          -4.328723001136794,
          1.8656343656343708,
          -0.3752747252747213,
          0,
          0
         ]
        },
        {
         "name": "v16.9.0",
         "opacity": 0.75,
         "type": "bar",
         "x": [
          "dff_movie_skill",
          "book_skill",
          "game_cooperative_skill",
          "dff_gaming_skill",
          "dff_travel_skill",
          "dff_animals_skill",
          "dff_food_skill",
          "dff_sport_skill",
          "dff_gossip_skill",
          "dff_science_skill",
          "dff_music_skill",
          "superheroes",
          "school"
         ],
         "y": [
          0,
          -4.014106583072106,
          -2.0747126436781613,
          0,
          0.121365787694387,
          22.591954022988503,
          -8.908045977011497,
          -1.595545977011497,
          0,
          6.286398467432946,
          0,
          0,
          0
         ]
        },
        {
         "name": "all",
         "opacity": 0.75,
         "type": "bar",
         "x": [
          "dff_movie_skill",
          "book_skill",
          "game_cooperative_skill",
          "dff_gaming_skill",
          "dff_travel_skill",
          "dff_animals_skill",
          "dff_food_skill",
          "dff_sport_skill",
          "dff_gossip_skill",
          "dff_science_skill",
          "dff_music_skill",
          "superheroes",
          "school"
         ],
         "y": [
          -6.630217479400244,
          1.3479643387815727,
          -1.112035661218421,
          0,
          -1.448399297582057,
          5.976099932001915,
          -3.1259891495905165,
          0.18246983328707245,
          -4.873011270974523,
          4.062964338781576,
          -0.893431010055636,
          0,
          0
         ]
        }
       ],
       "layout": {
        "bargap": 0.2,
        "bargroupgap": 0.1,
        "template": {
         "data": {
          "bar": [
           {
            "error_x": {
             "color": "#2a3f5f"
            },
            "error_y": {
             "color": "#2a3f5f"
            },
            "marker": {
             "line": {
              "color": "#E5ECF6",
              "width": 0.5
             }
            },
            "type": "bar"
           }
          ],
          "barpolar": [
           {
            "marker": {
             "line": {
              "color": "#E5ECF6",
              "width": 0.5
             }
            },
            "type": "barpolar"
           }
          ],
          "carpet": [
           {
            "aaxis": {
             "endlinecolor": "#2a3f5f",
             "gridcolor": "white",
             "linecolor": "white",
             "minorgridcolor": "white",
             "startlinecolor": "#2a3f5f"
            },
            "baxis": {
             "endlinecolor": "#2a3f5f",
             "gridcolor": "white",
             "linecolor": "white",
             "minorgridcolor": "white",
             "startlinecolor": "#2a3f5f"
            },
            "type": "carpet"
           }
          ],
          "choropleth": [
           {
            "colorbar": {
             "outlinewidth": 0,
             "ticks": ""
            },
            "type": "choropleth"
           }
          ],
          "contour": [
           {
            "colorbar": {
             "outlinewidth": 0,
             "ticks": ""
            },
            "colorscale": [
             [
              0,
              "#0d0887"
             ],
             [
              0.1111111111111111,
              "#46039f"
             ],
             [
              0.2222222222222222,
              "#7201a8"
             ],
             [
              0.3333333333333333,
              "#9c179e"
             ],
             [
              0.4444444444444444,
              "#bd3786"
             ],
             [
              0.5555555555555556,
              "#d8576b"
             ],
             [
              0.6666666666666666,
              "#ed7953"
             ],
             [
              0.7777777777777778,
              "#fb9f3a"
             ],
             [
              0.8888888888888888,
              "#fdca26"
             ],
             [
              1,
              "#f0f921"
             ]
            ],
            "type": "contour"
           }
          ],
          "contourcarpet": [
           {
            "colorbar": {
             "outlinewidth": 0,
             "ticks": ""
            },
            "type": "contourcarpet"
           }
          ],
          "heatmap": [
           {
            "colorbar": {
             "outlinewidth": 0,
             "ticks": ""
            },
            "colorscale": [
             [
              0,
              "#0d0887"
             ],
             [
              0.1111111111111111,
              "#46039f"
             ],
             [
              0.2222222222222222,
              "#7201a8"
             ],
             [
              0.3333333333333333,
              "#9c179e"
             ],
             [
              0.4444444444444444,
              "#bd3786"
             ],
             [
              0.5555555555555556,
              "#d8576b"
             ],
             [
              0.6666666666666666,
              "#ed7953"
             ],
             [
              0.7777777777777778,
              "#fb9f3a"
             ],
             [
              0.8888888888888888,
              "#fdca26"
             ],
             [
              1,
              "#f0f921"
             ]
            ],
            "type": "heatmap"
           }
          ],
          "heatmapgl": [
           {
            "colorbar": {
             "outlinewidth": 0,
             "ticks": ""
            },
            "colorscale": [
             [
              0,
              "#0d0887"
             ],
             [
              0.1111111111111111,
              "#46039f"
             ],
             [
              0.2222222222222222,
              "#7201a8"
             ],
             [
              0.3333333333333333,
              "#9c179e"
             ],
             [
              0.4444444444444444,
              "#bd3786"
             ],
             [
              0.5555555555555556,
              "#d8576b"
             ],
             [
              0.6666666666666666,
              "#ed7953"
             ],
             [
              0.7777777777777778,
              "#fb9f3a"
             ],
             [
              0.8888888888888888,
              "#fdca26"
             ],
             [
              1,
              "#f0f921"
             ]
            ],
            "type": "heatmapgl"
           }
          ],
          "histogram": [
           {
            "marker": {
             "colorbar": {
              "outlinewidth": 0,
              "ticks": ""
             }
            },
            "type": "histogram"
           }
          ],
          "histogram2d": [
           {
            "colorbar": {
             "outlinewidth": 0,
             "ticks": ""
            },
            "colorscale": [
             [
              0,
              "#0d0887"
             ],
             [
              0.1111111111111111,
              "#46039f"
             ],
             [
              0.2222222222222222,
              "#7201a8"
             ],
             [
              0.3333333333333333,
              "#9c179e"
             ],
             [
              0.4444444444444444,
              "#bd3786"
             ],
             [
              0.5555555555555556,
              "#d8576b"
             ],
             [
              0.6666666666666666,
              "#ed7953"
             ],
             [
              0.7777777777777778,
              "#fb9f3a"
             ],
             [
              0.8888888888888888,
              "#fdca26"
             ],
             [
              1,
              "#f0f921"
             ]
            ],
            "type": "histogram2d"
           }
          ],
          "histogram2dcontour": [
           {
            "colorbar": {
             "outlinewidth": 0,
             "ticks": ""
            },
            "colorscale": [
             [
              0,
              "#0d0887"
             ],
             [
              0.1111111111111111,
              "#46039f"
             ],
             [
              0.2222222222222222,
              "#7201a8"
             ],
             [
              0.3333333333333333,
              "#9c179e"
             ],
             [
              0.4444444444444444,
              "#bd3786"
             ],
             [
              0.5555555555555556,
              "#d8576b"
             ],
             [
              0.6666666666666666,
              "#ed7953"
             ],
             [
              0.7777777777777778,
              "#fb9f3a"
             ],
             [
              0.8888888888888888,
              "#fdca26"
             ],
             [
              1,
              "#f0f921"
             ]
            ],
            "type": "histogram2dcontour"
           }
          ],
          "mesh3d": [
           {
            "colorbar": {
             "outlinewidth": 0,
             "ticks": ""
            },
            "type": "mesh3d"
           }
          ],
          "parcoords": [
           {
            "line": {
             "colorbar": {
              "outlinewidth": 0,
              "ticks": ""
             }
            },
            "type": "parcoords"
           }
          ],
          "pie": [
           {
            "automargin": true,
            "type": "pie"
           }
          ],
          "scatter": [
           {
            "marker": {
             "colorbar": {
              "outlinewidth": 0,
              "ticks": ""
             }
            },
            "type": "scatter"
           }
          ],
          "scatter3d": [
           {
            "line": {
             "colorbar": {
              "outlinewidth": 0,
              "ticks": ""
             }
            },
            "marker": {
             "colorbar": {
              "outlinewidth": 0,
              "ticks": ""
             }
            },
            "type": "scatter3d"
           }
          ],
          "scattercarpet": [
           {
            "marker": {
             "colorbar": {
              "outlinewidth": 0,
              "ticks": ""
             }
            },
            "type": "scattercarpet"
           }
          ],
          "scattergeo": [
           {
            "marker": {
             "colorbar": {
              "outlinewidth": 0,
              "ticks": ""
             }
            },
            "type": "scattergeo"
           }
          ],
          "scattergl": [
           {
            "marker": {
             "colorbar": {
              "outlinewidth": 0,
              "ticks": ""
             }
            },
            "type": "scattergl"
           }
          ],
          "scattermapbox": [
           {
            "marker": {
             "colorbar": {
              "outlinewidth": 0,
              "ticks": ""
             }
            },
            "type": "scattermapbox"
           }
          ],
          "scatterpolar": [
           {
            "marker": {
             "colorbar": {
              "outlinewidth": 0,
              "ticks": ""
             }
            },
            "type": "scatterpolar"
           }
          ],
          "scatterpolargl": [
           {
            "marker": {
             "colorbar": {
              "outlinewidth": 0,
              "ticks": ""
             }
            },
            "type": "scatterpolargl"
           }
          ],
          "scatterternary": [
           {
            "marker": {
             "colorbar": {
              "outlinewidth": 0,
              "ticks": ""
             }
            },
            "type": "scatterternary"
           }
          ],
          "surface": [
           {
            "colorbar": {
             "outlinewidth": 0,
             "ticks": ""
            },
            "colorscale": [
             [
              0,
              "#0d0887"
             ],
             [
              0.1111111111111111,
              "#46039f"
             ],
             [
              0.2222222222222222,
              "#7201a8"
             ],
             [
              0.3333333333333333,
              "#9c179e"
             ],
             [
              0.4444444444444444,
              "#bd3786"
             ],
             [
              0.5555555555555556,
              "#d8576b"
             ],
             [
              0.6666666666666666,
              "#ed7953"
             ],
             [
              0.7777777777777778,
              "#fb9f3a"
             ],
             [
              0.8888888888888888,
              "#fdca26"
             ],
             [
              1,
              "#f0f921"
             ]
            ],
            "type": "surface"
           }
          ],
          "table": [
           {
            "cells": {
             "fill": {
              "color": "#EBF0F8"
             },
             "line": {
              "color": "white"
             }
            },
            "header": {
             "fill": {
              "color": "#C8D4E3"
             },
             "line": {
              "color": "white"
             }
            },
            "type": "table"
           }
          ]
         },
         "layout": {
          "annotationdefaults": {
           "arrowcolor": "#2a3f5f",
           "arrowhead": 0,
           "arrowwidth": 1
          },
          "autotypenumbers": "strict",
          "coloraxis": {
           "colorbar": {
            "outlinewidth": 0,
            "ticks": ""
           }
          },
          "colorscale": {
           "diverging": [
            [
             0,
             "#8e0152"
            ],
            [
             0.1,
             "#c51b7d"
            ],
            [
             0.2,
             "#de77ae"
            ],
            [
             0.3,
             "#f1b6da"
            ],
            [
             0.4,
             "#fde0ef"
            ],
            [
             0.5,
             "#f7f7f7"
            ],
            [
             0.6,
             "#e6f5d0"
            ],
            [
             0.7,
             "#b8e186"
            ],
            [
             0.8,
             "#7fbc41"
            ],
            [
             0.9,
             "#4d9221"
            ],
            [
             1,
             "#276419"
            ]
           ],
           "sequential": [
            [
             0,
             "#0d0887"
            ],
            [
             0.1111111111111111,
             "#46039f"
            ],
            [
             0.2222222222222222,
             "#7201a8"
            ],
            [
             0.3333333333333333,
             "#9c179e"
            ],
            [
             0.4444444444444444,
             "#bd3786"
            ],
            [
             0.5555555555555556,
             "#d8576b"
            ],
            [
             0.6666666666666666,
             "#ed7953"
            ],
            [
             0.7777777777777778,
             "#fb9f3a"
            ],
            [
             0.8888888888888888,
             "#fdca26"
            ],
            [
             1,
             "#f0f921"
            ]
           ],
           "sequentialminus": [
            [
             0,
             "#0d0887"
            ],
            [
             0.1111111111111111,
             "#46039f"
            ],
            [
             0.2222222222222222,
             "#7201a8"
            ],
            [
             0.3333333333333333,
             "#9c179e"
            ],
            [
             0.4444444444444444,
             "#bd3786"
            ],
            [
             0.5555555555555556,
             "#d8576b"
            ],
            [
             0.6666666666666666,
             "#ed7953"
            ],
            [
             0.7777777777777778,
             "#fb9f3a"
            ],
            [
             0.8888888888888888,
             "#fdca26"
            ],
            [
             1,
             "#f0f921"
            ]
           ]
          },
          "colorway": [
           "#636efa",
           "#EF553B",
           "#00cc96",
           "#ab63fa",
           "#FFA15A",
           "#19d3f3",
           "#FF6692",
           "#B6E880",
           "#FF97FF",
           "#FECB52"
          ],
          "font": {
           "color": "#2a3f5f"
          },
          "geo": {
           "bgcolor": "white",
           "lakecolor": "white",
           "landcolor": "#E5ECF6",
           "showlakes": true,
           "showland": true,
           "subunitcolor": "white"
          },
          "hoverlabel": {
           "align": "left"
          },
          "hovermode": "closest",
          "mapbox": {
           "style": "light"
          },
          "paper_bgcolor": "white",
          "plot_bgcolor": "#E5ECF6",
          "polar": {
           "angularaxis": {
            "gridcolor": "white",
            "linecolor": "white",
            "ticks": ""
           },
           "bgcolor": "#E5ECF6",
           "radialaxis": {
            "gridcolor": "white",
            "linecolor": "white",
            "ticks": ""
           }
          },
          "scene": {
           "xaxis": {
            "backgroundcolor": "#E5ECF6",
            "gridcolor": "white",
            "gridwidth": 2,
            "linecolor": "white",
            "showbackground": true,
            "ticks": "",
            "zerolinecolor": "white"
           },
           "yaxis": {
            "backgroundcolor": "#E5ECF6",
            "gridcolor": "white",
            "gridwidth": 2,
            "linecolor": "white",
            "showbackground": true,
            "ticks": "",
            "zerolinecolor": "white"
           },
           "zaxis": {
            "backgroundcolor": "#E5ECF6",
            "gridcolor": "white",
            "gridwidth": 2,
            "linecolor": "white",
            "showbackground": true,
            "ticks": "",
            "zerolinecolor": "white"
           }
          },
          "shapedefaults": {
           "line": {
            "color": "#2a3f5f"
           }
          },
          "ternary": {
           "aaxis": {
            "gridcolor": "white",
            "linecolor": "white",
            "ticks": ""
           },
           "baxis": {
            "gridcolor": "white",
            "linecolor": "white",
            "ticks": ""
           },
           "bgcolor": "#E5ECF6",
           "caxis": {
            "gridcolor": "white",
            "linecolor": "white",
            "ticks": ""
           }
          },
          "title": {
           "x": 0.05
          },
          "xaxis": {
           "automargin": true,
           "gridcolor": "white",
           "linecolor": "white",
           "ticks": "",
           "title": {
            "standoff": 15
           },
           "zerolinecolor": "white",
           "zerolinewidth": 2
          },
          "yaxis": {
           "automargin": true,
           "gridcolor": "white",
           "linecolor": "white",
           "ticks": "",
           "title": {
            "standoff": 15
           },
           "zerolinecolor": "white",
           "zerolinewidth": 2
          }
         }
        },
        "title": {
         "text": "Разница между средней длиной диалога по всем скиллам и конкретным скиллом без учета включения"
        },
        "xaxis": {
         "title": {
          "text": "Skill"
         }
        },
        "yaxis": {
         "title": {
          "text": "Length Difference"
         }
        }
       }
      },
      "text/html": [
       "<div>                            <div id=\"36405590-df32-4912-ad19-9ac1fe87b373\" class=\"plotly-graph-div\" style=\"height:525px; width:100%;\"></div>            <script type=\"text/javascript\">                require([\"plotly\"], function(Plotly) {                    window.PLOTLYENV=window.PLOTLYENV || {};                                    if (document.getElementById(\"36405590-df32-4912-ad19-9ac1fe87b373\")) {                    Plotly.newPlot(                        \"36405590-df32-4912-ad19-9ac1fe87b373\",                        [{\"name\": \"v16.2.0\", \"opacity\": 0.75, \"type\": \"bar\", \"x\": [\"dff_movie_skill\", \"book_skill\", \"game_cooperative_skill\", \"dff_gaming_skill\", \"dff_travel_skill\", \"dff_animals_skill\", \"dff_food_skill\", \"dff_sport_skill\", \"dff_gossip_skill\", \"dff_science_skill\", \"dff_music_skill\", \"superheroes\", \"school\"], \"y\": [-4.768131868131867, 7.079073100812231, -0.49800199800199607, 0, -11.939560439560438, 6.557333970377449, 0.7057597574838965, -5.603653103653102, -4.328723001136794, 1.8656343656343708, -0.3752747252747213, 0, 0]}, {\"name\": \"v16.9.0\", \"opacity\": 0.75, \"type\": \"bar\", \"x\": [\"dff_movie_skill\", \"book_skill\", \"game_cooperative_skill\", \"dff_gaming_skill\", \"dff_travel_skill\", \"dff_animals_skill\", \"dff_food_skill\", \"dff_sport_skill\", \"dff_gossip_skill\", \"dff_science_skill\", \"dff_music_skill\", \"superheroes\", \"school\"], \"y\": [0, -4.014106583072106, -2.0747126436781613, 0, 0.121365787694387, 22.591954022988503, -8.908045977011497, -1.595545977011497, 0, 6.286398467432946, 0, 0, 0]}, {\"name\": \"all\", \"opacity\": 0.75, \"type\": \"bar\", \"x\": [\"dff_movie_skill\", \"book_skill\", \"game_cooperative_skill\", \"dff_gaming_skill\", \"dff_travel_skill\", \"dff_animals_skill\", \"dff_food_skill\", \"dff_sport_skill\", \"dff_gossip_skill\", \"dff_science_skill\", \"dff_music_skill\", \"superheroes\", \"school\"], \"y\": [-6.630217479400244, 1.3479643387815727, -1.112035661218421, 0, -1.448399297582057, 5.976099932001915, -3.1259891495905165, 0.18246983328707245, -4.873011270974523, 4.062964338781576, -0.893431010055636, 0, 0]}],                        {\"bargap\": 0.2, \"bargroupgap\": 0.1, \"template\": {\"data\": {\"bar\": [{\"error_x\": {\"color\": \"#2a3f5f\"}, \"error_y\": {\"color\": \"#2a3f5f\"}, \"marker\": {\"line\": {\"color\": \"#E5ECF6\", \"width\": 0.5}}, \"type\": \"bar\"}], \"barpolar\": [{\"marker\": {\"line\": {\"color\": \"#E5ECF6\", \"width\": 0.5}}, \"type\": \"barpolar\"}], \"carpet\": [{\"aaxis\": {\"endlinecolor\": \"#2a3f5f\", \"gridcolor\": \"white\", \"linecolor\": \"white\", \"minorgridcolor\": \"white\", \"startlinecolor\": \"#2a3f5f\"}, \"baxis\": {\"endlinecolor\": \"#2a3f5f\", \"gridcolor\": \"white\", \"linecolor\": \"white\", \"minorgridcolor\": \"white\", \"startlinecolor\": \"#2a3f5f\"}, \"type\": \"carpet\"}], \"choropleth\": [{\"colorbar\": {\"outlinewidth\": 0, \"ticks\": \"\"}, \"type\": \"choropleth\"}], \"contour\": [{\"colorbar\": {\"outlinewidth\": 0, \"ticks\": \"\"}, \"colorscale\": [[0.0, \"#0d0887\"], [0.1111111111111111, \"#46039f\"], [0.2222222222222222, \"#7201a8\"], [0.3333333333333333, \"#9c179e\"], [0.4444444444444444, \"#bd3786\"], [0.5555555555555556, \"#d8576b\"], [0.6666666666666666, \"#ed7953\"], [0.7777777777777778, \"#fb9f3a\"], [0.8888888888888888, \"#fdca26\"], [1.0, \"#f0f921\"]], \"type\": \"contour\"}], \"contourcarpet\": [{\"colorbar\": {\"outlinewidth\": 0, \"ticks\": \"\"}, \"type\": \"contourcarpet\"}], \"heatmap\": [{\"colorbar\": {\"outlinewidth\": 0, \"ticks\": \"\"}, \"colorscale\": [[0.0, \"#0d0887\"], [0.1111111111111111, \"#46039f\"], [0.2222222222222222, \"#7201a8\"], [0.3333333333333333, \"#9c179e\"], [0.4444444444444444, \"#bd3786\"], [0.5555555555555556, \"#d8576b\"], [0.6666666666666666, \"#ed7953\"], [0.7777777777777778, \"#fb9f3a\"], [0.8888888888888888, \"#fdca26\"], [1.0, \"#f0f921\"]], \"type\": \"heatmap\"}], \"heatmapgl\": [{\"colorbar\": {\"outlinewidth\": 0, \"ticks\": \"\"}, \"colorscale\": [[0.0, \"#0d0887\"], [0.1111111111111111, \"#46039f\"], [0.2222222222222222, \"#7201a8\"], [0.3333333333333333, \"#9c179e\"], [0.4444444444444444, \"#bd3786\"], [0.5555555555555556, \"#d8576b\"], [0.6666666666666666, \"#ed7953\"], [0.7777777777777778, \"#fb9f3a\"], [0.8888888888888888, \"#fdca26\"], [1.0, \"#f0f921\"]], \"type\": \"heatmapgl\"}], \"histogram\": [{\"marker\": {\"colorbar\": {\"outlinewidth\": 0, \"ticks\": \"\"}}, \"type\": \"histogram\"}], \"histogram2d\": [{\"colorbar\": {\"outlinewidth\": 0, \"ticks\": \"\"}, \"colorscale\": [[0.0, \"#0d0887\"], [0.1111111111111111, \"#46039f\"], [0.2222222222222222, \"#7201a8\"], [0.3333333333333333, \"#9c179e\"], [0.4444444444444444, \"#bd3786\"], [0.5555555555555556, \"#d8576b\"], [0.6666666666666666, \"#ed7953\"], [0.7777777777777778, \"#fb9f3a\"], [0.8888888888888888, \"#fdca26\"], [1.0, \"#f0f921\"]], \"type\": \"histogram2d\"}], \"histogram2dcontour\": [{\"colorbar\": {\"outlinewidth\": 0, \"ticks\": \"\"}, \"colorscale\": [[0.0, \"#0d0887\"], [0.1111111111111111, \"#46039f\"], [0.2222222222222222, \"#7201a8\"], [0.3333333333333333, \"#9c179e\"], [0.4444444444444444, \"#bd3786\"], [0.5555555555555556, \"#d8576b\"], [0.6666666666666666, \"#ed7953\"], [0.7777777777777778, \"#fb9f3a\"], [0.8888888888888888, \"#fdca26\"], [1.0, \"#f0f921\"]], \"type\": \"histogram2dcontour\"}], \"mesh3d\": [{\"colorbar\": {\"outlinewidth\": 0, \"ticks\": \"\"}, \"type\": \"mesh3d\"}], \"parcoords\": [{\"line\": {\"colorbar\": {\"outlinewidth\": 0, \"ticks\": \"\"}}, \"type\": \"parcoords\"}], \"pie\": [{\"automargin\": true, \"type\": \"pie\"}], \"scatter\": [{\"marker\": {\"colorbar\": {\"outlinewidth\": 0, \"ticks\": \"\"}}, \"type\": \"scatter\"}], \"scatter3d\": [{\"line\": {\"colorbar\": {\"outlinewidth\": 0, \"ticks\": \"\"}}, \"marker\": {\"colorbar\": {\"outlinewidth\": 0, \"ticks\": \"\"}}, \"type\": \"scatter3d\"}], \"scattercarpet\": [{\"marker\": {\"colorbar\": {\"outlinewidth\": 0, \"ticks\": \"\"}}, \"type\": \"scattercarpet\"}], \"scattergeo\": [{\"marker\": {\"colorbar\": {\"outlinewidth\": 0, \"ticks\": \"\"}}, \"type\": \"scattergeo\"}], \"scattergl\": [{\"marker\": {\"colorbar\": {\"outlinewidth\": 0, \"ticks\": \"\"}}, \"type\": \"scattergl\"}], \"scattermapbox\": [{\"marker\": {\"colorbar\": {\"outlinewidth\": 0, \"ticks\": \"\"}}, \"type\": \"scattermapbox\"}], \"scatterpolar\": [{\"marker\": {\"colorbar\": {\"outlinewidth\": 0, \"ticks\": \"\"}}, \"type\": \"scatterpolar\"}], \"scatterpolargl\": [{\"marker\": {\"colorbar\": {\"outlinewidth\": 0, \"ticks\": \"\"}}, \"type\": \"scatterpolargl\"}], \"scatterternary\": [{\"marker\": {\"colorbar\": {\"outlinewidth\": 0, \"ticks\": \"\"}}, \"type\": \"scatterternary\"}], \"surface\": [{\"colorbar\": {\"outlinewidth\": 0, \"ticks\": \"\"}, \"colorscale\": [[0.0, \"#0d0887\"], [0.1111111111111111, \"#46039f\"], [0.2222222222222222, \"#7201a8\"], [0.3333333333333333, \"#9c179e\"], [0.4444444444444444, \"#bd3786\"], [0.5555555555555556, \"#d8576b\"], [0.6666666666666666, \"#ed7953\"], [0.7777777777777778, \"#fb9f3a\"], [0.8888888888888888, \"#fdca26\"], [1.0, \"#f0f921\"]], \"type\": \"surface\"}], \"table\": [{\"cells\": {\"fill\": {\"color\": \"#EBF0F8\"}, \"line\": {\"color\": \"white\"}}, \"header\": {\"fill\": {\"color\": \"#C8D4E3\"}, \"line\": {\"color\": \"white\"}}, \"type\": \"table\"}]}, \"layout\": {\"annotationdefaults\": {\"arrowcolor\": \"#2a3f5f\", \"arrowhead\": 0, \"arrowwidth\": 1}, \"autotypenumbers\": \"strict\", \"coloraxis\": {\"colorbar\": {\"outlinewidth\": 0, \"ticks\": \"\"}}, \"colorscale\": {\"diverging\": [[0, \"#8e0152\"], [0.1, \"#c51b7d\"], [0.2, \"#de77ae\"], [0.3, \"#f1b6da\"], [0.4, \"#fde0ef\"], [0.5, \"#f7f7f7\"], [0.6, \"#e6f5d0\"], [0.7, \"#b8e186\"], [0.8, \"#7fbc41\"], [0.9, \"#4d9221\"], [1, \"#276419\"]], \"sequential\": [[0.0, \"#0d0887\"], [0.1111111111111111, \"#46039f\"], [0.2222222222222222, \"#7201a8\"], [0.3333333333333333, \"#9c179e\"], [0.4444444444444444, \"#bd3786\"], [0.5555555555555556, \"#d8576b\"], [0.6666666666666666, \"#ed7953\"], [0.7777777777777778, \"#fb9f3a\"], [0.8888888888888888, \"#fdca26\"], [1.0, \"#f0f921\"]], \"sequentialminus\": [[0.0, \"#0d0887\"], [0.1111111111111111, \"#46039f\"], [0.2222222222222222, \"#7201a8\"], [0.3333333333333333, \"#9c179e\"], [0.4444444444444444, \"#bd3786\"], [0.5555555555555556, \"#d8576b\"], [0.6666666666666666, \"#ed7953\"], [0.7777777777777778, \"#fb9f3a\"], [0.8888888888888888, \"#fdca26\"], [1.0, \"#f0f921\"]]}, \"colorway\": [\"#636efa\", \"#EF553B\", \"#00cc96\", \"#ab63fa\", \"#FFA15A\", \"#19d3f3\", \"#FF6692\", \"#B6E880\", \"#FF97FF\", \"#FECB52\"], \"font\": {\"color\": \"#2a3f5f\"}, \"geo\": {\"bgcolor\": \"white\", \"lakecolor\": \"white\", \"landcolor\": \"#E5ECF6\", \"showlakes\": true, \"showland\": true, \"subunitcolor\": \"white\"}, \"hoverlabel\": {\"align\": \"left\"}, \"hovermode\": \"closest\", \"mapbox\": {\"style\": \"light\"}, \"paper_bgcolor\": \"white\", \"plot_bgcolor\": \"#E5ECF6\", \"polar\": {\"angularaxis\": {\"gridcolor\": \"white\", \"linecolor\": \"white\", \"ticks\": \"\"}, \"bgcolor\": \"#E5ECF6\", \"radialaxis\": {\"gridcolor\": \"white\", \"linecolor\": \"white\", \"ticks\": \"\"}}, \"scene\": {\"xaxis\": {\"backgroundcolor\": \"#E5ECF6\", \"gridcolor\": \"white\", \"gridwidth\": 2, \"linecolor\": \"white\", \"showbackground\": true, \"ticks\": \"\", \"zerolinecolor\": \"white\"}, \"yaxis\": {\"backgroundcolor\": \"#E5ECF6\", \"gridcolor\": \"white\", \"gridwidth\": 2, \"linecolor\": \"white\", \"showbackground\": true, \"ticks\": \"\", \"zerolinecolor\": \"white\"}, \"zaxis\": {\"backgroundcolor\": \"#E5ECF6\", \"gridcolor\": \"white\", \"gridwidth\": 2, \"linecolor\": \"white\", \"showbackground\": true, \"ticks\": \"\", \"zerolinecolor\": \"white\"}}, \"shapedefaults\": {\"line\": {\"color\": \"#2a3f5f\"}}, \"ternary\": {\"aaxis\": {\"gridcolor\": \"white\", \"linecolor\": \"white\", \"ticks\": \"\"}, \"baxis\": {\"gridcolor\": \"white\", \"linecolor\": \"white\", \"ticks\": \"\"}, \"bgcolor\": \"#E5ECF6\", \"caxis\": {\"gridcolor\": \"white\", \"linecolor\": \"white\", \"ticks\": \"\"}}, \"title\": {\"x\": 0.05}, \"xaxis\": {\"automargin\": true, \"gridcolor\": \"white\", \"linecolor\": \"white\", \"ticks\": \"\", \"title\": {\"standoff\": 15}, \"zerolinecolor\": \"white\", \"zerolinewidth\": 2}, \"yaxis\": {\"automargin\": true, \"gridcolor\": \"white\", \"linecolor\": \"white\", \"ticks\": \"\", \"title\": {\"standoff\": 15}, \"zerolinecolor\": \"white\", \"zerolinewidth\": 2}}}, \"title\": {\"text\": \"\\u0420\\u0430\\u0437\\u043d\\u0438\\u0446\\u0430 \\u043c\\u0435\\u0436\\u0434\\u0443 \\u0441\\u0440\\u0435\\u0434\\u043d\\u0435\\u0439 \\u0434\\u043b\\u0438\\u043d\\u043e\\u0439 \\u0434\\u0438\\u0430\\u043b\\u043e\\u0433\\u0430 \\u043f\\u043e \\u0432\\u0441\\u0435\\u043c \\u0441\\u043a\\u0438\\u043b\\u043b\\u0430\\u043c \\u0438 \\u043a\\u043e\\u043d\\u043a\\u0440\\u0435\\u0442\\u043d\\u044b\\u043c \\u0441\\u043a\\u0438\\u043b\\u043b\\u043e\\u043c \\u0431\\u0435\\u0437 \\u0443\\u0447\\u0435\\u0442\\u0430 \\u0432\\u043a\\u043b\\u044e\\u0447\\u0435\\u043d\\u0438\\u044f\"}, \"xaxis\": {\"title\": {\"text\": \"Skill\"}}, \"yaxis\": {\"title\": {\"text\": \"Length Difference\"}}},                        {\"responsive\": true}                    ).then(function(){\n",
       "                            \n",
       "var gd = document.getElementById('36405590-df32-4912-ad19-9ac1fe87b373');\n",
       "var x = new MutationObserver(function (mutations, observer) {{\n",
       "        var display = window.getComputedStyle(gd).display;\n",
       "        if (!display || display === 'none') {{\n",
       "            console.log([gd, 'removed!']);\n",
       "            Plotly.purge(gd);\n",
       "            observer.disconnect();\n",
       "        }}\n",
       "}});\n",
       "\n",
       "// Listen for the removal of the full notebook cells\n",
       "var notebookContainer = gd.closest('#notebook-container');\n",
       "if (notebookContainer) {{\n",
       "    x.observe(notebookContainer, {childList: true});\n",
       "}}\n",
       "\n",
       "// Listen for the clearing of the current output cell\n",
       "var outputEl = gd.closest('.output');\n",
       "if (outputEl) {{\n",
       "    x.observe(outputEl, {childList: true});\n",
       "}}\n",
       "\n",
       "                        })                };                });            </script>        </div>"
      ]
     },
     "metadata": {},
     "output_type": "display_data"
    }
   ],
   "source": [
    "fig = go.Figure()\n",
    "\n",
    "for version in graphics_dict.keys():\n",
    "    \n",
    "    x0, y0 = [], []\n",
    "        \n",
    "    for skill in graphics_dict[version].keys():\n",
    "        x0.append(skill)\n",
    "        y_skill = graphics_dict[version][skill][\"length\"]\n",
    "        y0.append(y_skill)\n",
    "    \n",
    "    y0_avg = [sum(y_skill) / len(y_skill) if len(y_skill) > 0 else 0 for y_skill in y0]\n",
    "    y0_all = [elem for y_skill in y0 for elem in y_skill]\n",
    "                \n",
    "    avg_length = sum(y0_all) / len(y0_all) if len(y0_all) > 0 else 0\n",
    "    \n",
    "    y1 = [elem - avg_length if elem > 0 else 0 for elem in y0_avg]\n",
    "    \n",
    "    print(version, avg_length)\n",
    "    \n",
    "    for x2, y2 in zip(x0, y0):\n",
    "        y2_avg = sum(y2) / len(y2) if len(y2) > 0 else 0\n",
    "        print(x2, y2_avg, len(y2))\n",
    "        if version == \"all\":\n",
    "            rate_dict.append((x2, y2_avg, len(y2)))\n",
    "                     \n",
    "    fig.add_trace(go.Bar(\n",
    "        x=x0,\n",
    "        y=y1,\n",
    "        name=version, \n",
    "        opacity=0.75\n",
    "    ))\n",
    "\n",
    "fig.update_layout(\n",
    "    title_text='Разница между средней длиной диалога по всем скиллам и конкретным скиллом без учета включения', \n",
    "    xaxis_title_text='Skill', \n",
    "    yaxis_title_text='Length Difference', \n",
    "    bargap=0.2, \n",
    "    bargroupgap=0.1 \n",
    ")\n",
    "\n",
    "fig.show()"
   ]
  },
  {
   "cell_type": "code",
   "execution_count": 144,
   "id": "patient-cliff",
   "metadata": {},
   "outputs": [
    {
     "name": "stdout",
     "output_type": "stream",
     "text": [
      "v16.2.0 41.27461139896373\n",
      "dff_movie_skill 36.666666666666664 30\n",
      "book_skill 53.47826086956522 23\n",
      "game_cooperative_skill 40.758620689655174 29\n",
      "dff_gaming_skill 0 0\n",
      "dff_travel_skill 25.714285714285715 7\n",
      "dff_animals_skill 46.63636363636363 44\n",
      "dff_food_skill 36.95652173913044 23\n",
      "dff_sport_skill 33.80952380952381 21\n",
      "dff_gossip_skill 46.0 2\n",
      "dff_science_skill 0 0\n",
      "dff_music_skill 40.714285714285715 14\n",
      "superheroes 0 0\n",
      "school 0 0\n",
      "v16.9.0 42.08450704225352\n",
      "dff_movie_skill 0 0\n",
      "book_skill 41.333333333333336 21\n",
      "game_cooperative_skill 37.1 20\n",
      "dff_gaming_skill 0 0\n",
      "dff_travel_skill 26.8 5\n",
      "dff_animals_skill 64.0 4\n",
      "dff_food_skill 39.333333333333336 3\n",
      "dff_sport_skill 48.333333333333336 18\n",
      "dff_gossip_skill 0 0\n",
      "dff_science_skill 0 0\n",
      "dff_music_skill 0 0\n",
      "superheroes 0 0\n",
      "school 0 0\n",
      "all 40.43613707165109\n",
      "dff_movie_skill 35.15151515151515 33\n",
      "book_skill 46.264150943396224 53\n",
      "game_cooperative_skill 36.43333333333333 60\n",
      "dff_gaming_skill 0 0\n",
      "dff_travel_skill 30.266666666666666 15\n",
      "dff_animals_skill 46.42857142857143 56\n",
      "dff_food_skill 34.94117647058823 34\n",
      "dff_sport_skill 42.18518518518518 54\n",
      "dff_gossip_skill 46.0 2\n",
      "dff_science_skill 0 0\n",
      "dff_music_skill 40.714285714285715 14\n",
      "superheroes 0 0\n",
      "school 0 0\n"
     ]
    },
    {
     "data": {
      "application/vnd.plotly.v1+json": {
       "config": {
        "plotlyServerURL": "https://plot.ly"
       },
       "data": [
        {
         "name": "v16.2.0",
         "opacity": 0.75,
         "type": "bar",
         "x": [
          "dff_movie_skill",
          "book_skill",
          "game_cooperative_skill",
          "dff_gaming_skill",
          "dff_travel_skill",
          "dff_animals_skill",
          "dff_food_skill",
          "dff_sport_skill",
          "dff_gossip_skill",
          "dff_science_skill",
          "dff_music_skill",
          "superheroes",
          "school"
         ],
         "y": [
          -4.607944732297064,
          12.20364947060149,
          -0.5159907093085536,
          0,
          -15.560325684678013,
          5.361752237399905,
          -4.318089659833291,
          -7.465087589439918,
          4.725388601036272,
          0,
          -0.5603256846780127,
          0,
          0
         ]
        },
        {
         "name": "v16.9.0",
         "opacity": 0.75,
         "type": "bar",
         "x": [
          "dff_movie_skill",
          "book_skill",
          "game_cooperative_skill",
          "dff_gaming_skill",
          "dff_travel_skill",
          "dff_animals_skill",
          "dff_food_skill",
          "dff_sport_skill",
          "dff_gossip_skill",
          "dff_science_skill",
          "dff_music_skill",
          "superheroes",
          "school"
         ],
         "y": [
          0,
          -0.7511737089201844,
          -4.984507042253519,
          0,
          -15.28450704225352,
          21.91549295774648,
          -2.7511737089201844,
          6.248826291079816,
          0,
          0,
          0,
          0,
          0
         ]
        },
        {
         "name": "all",
         "opacity": 0.75,
         "type": "bar",
         "x": [
          "dff_movie_skill",
          "book_skill",
          "game_cooperative_skill",
          "dff_gaming_skill",
          "dff_travel_skill",
          "dff_animals_skill",
          "dff_food_skill",
          "dff_sport_skill",
          "dff_gossip_skill",
          "dff_science_skill",
          "dff_music_skill",
          "superheroes",
          "school"
         ],
         "y": [
          -5.28462192013594,
          5.828013871745135,
          -4.002803738317759,
          0,
          -10.169470404984423,
          5.9924343569203415,
          -5.494960601062857,
          1.7490481135340943,
          5.563862928348911,
          0,
          0.27814864263462624,
          0,
          0
         ]
        }
       ],
       "layout": {
        "bargap": 0.2,
        "bargroupgap": 0.1,
        "template": {
         "data": {
          "bar": [
           {
            "error_x": {
             "color": "#2a3f5f"
            },
            "error_y": {
             "color": "#2a3f5f"
            },
            "marker": {
             "line": {
              "color": "#E5ECF6",
              "width": 0.5
             }
            },
            "type": "bar"
           }
          ],
          "barpolar": [
           {
            "marker": {
             "line": {
              "color": "#E5ECF6",
              "width": 0.5
             }
            },
            "type": "barpolar"
           }
          ],
          "carpet": [
           {
            "aaxis": {
             "endlinecolor": "#2a3f5f",
             "gridcolor": "white",
             "linecolor": "white",
             "minorgridcolor": "white",
             "startlinecolor": "#2a3f5f"
            },
            "baxis": {
             "endlinecolor": "#2a3f5f",
             "gridcolor": "white",
             "linecolor": "white",
             "minorgridcolor": "white",
             "startlinecolor": "#2a3f5f"
            },
            "type": "carpet"
           }
          ],
          "choropleth": [
           {
            "colorbar": {
             "outlinewidth": 0,
             "ticks": ""
            },
            "type": "choropleth"
           }
          ],
          "contour": [
           {
            "colorbar": {
             "outlinewidth": 0,
             "ticks": ""
            },
            "colorscale": [
             [
              0,
              "#0d0887"
             ],
             [
              0.1111111111111111,
              "#46039f"
             ],
             [
              0.2222222222222222,
              "#7201a8"
             ],
             [
              0.3333333333333333,
              "#9c179e"
             ],
             [
              0.4444444444444444,
              "#bd3786"
             ],
             [
              0.5555555555555556,
              "#d8576b"
             ],
             [
              0.6666666666666666,
              "#ed7953"
             ],
             [
              0.7777777777777778,
              "#fb9f3a"
             ],
             [
              0.8888888888888888,
              "#fdca26"
             ],
             [
              1,
              "#f0f921"
             ]
            ],
            "type": "contour"
           }
          ],
          "contourcarpet": [
           {
            "colorbar": {
             "outlinewidth": 0,
             "ticks": ""
            },
            "type": "contourcarpet"
           }
          ],
          "heatmap": [
           {
            "colorbar": {
             "outlinewidth": 0,
             "ticks": ""
            },
            "colorscale": [
             [
              0,
              "#0d0887"
             ],
             [
              0.1111111111111111,
              "#46039f"
             ],
             [
              0.2222222222222222,
              "#7201a8"
             ],
             [
              0.3333333333333333,
              "#9c179e"
             ],
             [
              0.4444444444444444,
              "#bd3786"
             ],
             [
              0.5555555555555556,
              "#d8576b"
             ],
             [
              0.6666666666666666,
              "#ed7953"
             ],
             [
              0.7777777777777778,
              "#fb9f3a"
             ],
             [
              0.8888888888888888,
              "#fdca26"
             ],
             [
              1,
              "#f0f921"
             ]
            ],
            "type": "heatmap"
           }
          ],
          "heatmapgl": [
           {
            "colorbar": {
             "outlinewidth": 0,
             "ticks": ""
            },
            "colorscale": [
             [
              0,
              "#0d0887"
             ],
             [
              0.1111111111111111,
              "#46039f"
             ],
             [
              0.2222222222222222,
              "#7201a8"
             ],
             [
              0.3333333333333333,
              "#9c179e"
             ],
             [
              0.4444444444444444,
              "#bd3786"
             ],
             [
              0.5555555555555556,
              "#d8576b"
             ],
             [
              0.6666666666666666,
              "#ed7953"
             ],
             [
              0.7777777777777778,
              "#fb9f3a"
             ],
             [
              0.8888888888888888,
              "#fdca26"
             ],
             [
              1,
              "#f0f921"
             ]
            ],
            "type": "heatmapgl"
           }
          ],
          "histogram": [
           {
            "marker": {
             "colorbar": {
              "outlinewidth": 0,
              "ticks": ""
             }
            },
            "type": "histogram"
           }
          ],
          "histogram2d": [
           {
            "colorbar": {
             "outlinewidth": 0,
             "ticks": ""
            },
            "colorscale": [
             [
              0,
              "#0d0887"
             ],
             [
              0.1111111111111111,
              "#46039f"
             ],
             [
              0.2222222222222222,
              "#7201a8"
             ],
             [
              0.3333333333333333,
              "#9c179e"
             ],
             [
              0.4444444444444444,
              "#bd3786"
             ],
             [
              0.5555555555555556,
              "#d8576b"
             ],
             [
              0.6666666666666666,
              "#ed7953"
             ],
             [
              0.7777777777777778,
              "#fb9f3a"
             ],
             [
              0.8888888888888888,
              "#fdca26"
             ],
             [
              1,
              "#f0f921"
             ]
            ],
            "type": "histogram2d"
           }
          ],
          "histogram2dcontour": [
           {
            "colorbar": {
             "outlinewidth": 0,
             "ticks": ""
            },
            "colorscale": [
             [
              0,
              "#0d0887"
             ],
             [
              0.1111111111111111,
              "#46039f"
             ],
             [
              0.2222222222222222,
              "#7201a8"
             ],
             [
              0.3333333333333333,
              "#9c179e"
             ],
             [
              0.4444444444444444,
              "#bd3786"
             ],
             [
              0.5555555555555556,
              "#d8576b"
             ],
             [
              0.6666666666666666,
              "#ed7953"
             ],
             [
              0.7777777777777778,
              "#fb9f3a"
             ],
             [
              0.8888888888888888,
              "#fdca26"
             ],
             [
              1,
              "#f0f921"
             ]
            ],
            "type": "histogram2dcontour"
           }
          ],
          "mesh3d": [
           {
            "colorbar": {
             "outlinewidth": 0,
             "ticks": ""
            },
            "type": "mesh3d"
           }
          ],
          "parcoords": [
           {
            "line": {
             "colorbar": {
              "outlinewidth": 0,
              "ticks": ""
             }
            },
            "type": "parcoords"
           }
          ],
          "pie": [
           {
            "automargin": true,
            "type": "pie"
           }
          ],
          "scatter": [
           {
            "marker": {
             "colorbar": {
              "outlinewidth": 0,
              "ticks": ""
             }
            },
            "type": "scatter"
           }
          ],
          "scatter3d": [
           {
            "line": {
             "colorbar": {
              "outlinewidth": 0,
              "ticks": ""
             }
            },
            "marker": {
             "colorbar": {
              "outlinewidth": 0,
              "ticks": ""
             }
            },
            "type": "scatter3d"
           }
          ],
          "scattercarpet": [
           {
            "marker": {
             "colorbar": {
              "outlinewidth": 0,
              "ticks": ""
             }
            },
            "type": "scattercarpet"
           }
          ],
          "scattergeo": [
           {
            "marker": {
             "colorbar": {
              "outlinewidth": 0,
              "ticks": ""
             }
            },
            "type": "scattergeo"
           }
          ],
          "scattergl": [
           {
            "marker": {
             "colorbar": {
              "outlinewidth": 0,
              "ticks": ""
             }
            },
            "type": "scattergl"
           }
          ],
          "scattermapbox": [
           {
            "marker": {
             "colorbar": {
              "outlinewidth": 0,
              "ticks": ""
             }
            },
            "type": "scattermapbox"
           }
          ],
          "scatterpolar": [
           {
            "marker": {
             "colorbar": {
              "outlinewidth": 0,
              "ticks": ""
             }
            },
            "type": "scatterpolar"
           }
          ],
          "scatterpolargl": [
           {
            "marker": {
             "colorbar": {
              "outlinewidth": 0,
              "ticks": ""
             }
            },
            "type": "scatterpolargl"
           }
          ],
          "scatterternary": [
           {
            "marker": {
             "colorbar": {
              "outlinewidth": 0,
              "ticks": ""
             }
            },
            "type": "scatterternary"
           }
          ],
          "surface": [
           {
            "colorbar": {
             "outlinewidth": 0,
             "ticks": ""
            },
            "colorscale": [
             [
              0,
              "#0d0887"
             ],
             [
              0.1111111111111111,
              "#46039f"
             ],
             [
              0.2222222222222222,
              "#7201a8"
             ],
             [
              0.3333333333333333,
              "#9c179e"
             ],
             [
              0.4444444444444444,
              "#bd3786"
             ],
             [
              0.5555555555555556,
              "#d8576b"
             ],
             [
              0.6666666666666666,
              "#ed7953"
             ],
             [
              0.7777777777777778,
              "#fb9f3a"
             ],
             [
              0.8888888888888888,
              "#fdca26"
             ],
             [
              1,
              "#f0f921"
             ]
            ],
            "type": "surface"
           }
          ],
          "table": [
           {
            "cells": {
             "fill": {
              "color": "#EBF0F8"
             },
             "line": {
              "color": "white"
             }
            },
            "header": {
             "fill": {
              "color": "#C8D4E3"
             },
             "line": {
              "color": "white"
             }
            },
            "type": "table"
           }
          ]
         },
         "layout": {
          "annotationdefaults": {
           "arrowcolor": "#2a3f5f",
           "arrowhead": 0,
           "arrowwidth": 1
          },
          "autotypenumbers": "strict",
          "coloraxis": {
           "colorbar": {
            "outlinewidth": 0,
            "ticks": ""
           }
          },
          "colorscale": {
           "diverging": [
            [
             0,
             "#8e0152"
            ],
            [
             0.1,
             "#c51b7d"
            ],
            [
             0.2,
             "#de77ae"
            ],
            [
             0.3,
             "#f1b6da"
            ],
            [
             0.4,
             "#fde0ef"
            ],
            [
             0.5,
             "#f7f7f7"
            ],
            [
             0.6,
             "#e6f5d0"
            ],
            [
             0.7,
             "#b8e186"
            ],
            [
             0.8,
             "#7fbc41"
            ],
            [
             0.9,
             "#4d9221"
            ],
            [
             1,
             "#276419"
            ]
           ],
           "sequential": [
            [
             0,
             "#0d0887"
            ],
            [
             0.1111111111111111,
             "#46039f"
            ],
            [
             0.2222222222222222,
             "#7201a8"
            ],
            [
             0.3333333333333333,
             "#9c179e"
            ],
            [
             0.4444444444444444,
             "#bd3786"
            ],
            [
             0.5555555555555556,
             "#d8576b"
            ],
            [
             0.6666666666666666,
             "#ed7953"
            ],
            [
             0.7777777777777778,
             "#fb9f3a"
            ],
            [
             0.8888888888888888,
             "#fdca26"
            ],
            [
             1,
             "#f0f921"
            ]
           ],
           "sequentialminus": [
            [
             0,
             "#0d0887"
            ],
            [
             0.1111111111111111,
             "#46039f"
            ],
            [
             0.2222222222222222,
             "#7201a8"
            ],
            [
             0.3333333333333333,
             "#9c179e"
            ],
            [
             0.4444444444444444,
             "#bd3786"
            ],
            [
             0.5555555555555556,
             "#d8576b"
            ],
            [
             0.6666666666666666,
             "#ed7953"
            ],
            [
             0.7777777777777778,
             "#fb9f3a"
            ],
            [
             0.8888888888888888,
             "#fdca26"
            ],
            [
             1,
             "#f0f921"
            ]
           ]
          },
          "colorway": [
           "#636efa",
           "#EF553B",
           "#00cc96",
           "#ab63fa",
           "#FFA15A",
           "#19d3f3",
           "#FF6692",
           "#B6E880",
           "#FF97FF",
           "#FECB52"
          ],
          "font": {
           "color": "#2a3f5f"
          },
          "geo": {
           "bgcolor": "white",
           "lakecolor": "white",
           "landcolor": "#E5ECF6",
           "showlakes": true,
           "showland": true,
           "subunitcolor": "white"
          },
          "hoverlabel": {
           "align": "left"
          },
          "hovermode": "closest",
          "mapbox": {
           "style": "light"
          },
          "paper_bgcolor": "white",
          "plot_bgcolor": "#E5ECF6",
          "polar": {
           "angularaxis": {
            "gridcolor": "white",
            "linecolor": "white",
            "ticks": ""
           },
           "bgcolor": "#E5ECF6",
           "radialaxis": {
            "gridcolor": "white",
            "linecolor": "white",
            "ticks": ""
           }
          },
          "scene": {
           "xaxis": {
            "backgroundcolor": "#E5ECF6",
            "gridcolor": "white",
            "gridwidth": 2,
            "linecolor": "white",
            "showbackground": true,
            "ticks": "",
            "zerolinecolor": "white"
           },
           "yaxis": {
            "backgroundcolor": "#E5ECF6",
            "gridcolor": "white",
            "gridwidth": 2,
            "linecolor": "white",
            "showbackground": true,
            "ticks": "",
            "zerolinecolor": "white"
           },
           "zaxis": {
            "backgroundcolor": "#E5ECF6",
            "gridcolor": "white",
            "gridwidth": 2,
            "linecolor": "white",
            "showbackground": true,
            "ticks": "",
            "zerolinecolor": "white"
           }
          },
          "shapedefaults": {
           "line": {
            "color": "#2a3f5f"
           }
          },
          "ternary": {
           "aaxis": {
            "gridcolor": "white",
            "linecolor": "white",
            "ticks": ""
           },
           "baxis": {
            "gridcolor": "white",
            "linecolor": "white",
            "ticks": ""
           },
           "bgcolor": "#E5ECF6",
           "caxis": {
            "gridcolor": "white",
            "linecolor": "white",
            "ticks": ""
           }
          },
          "title": {
           "x": 0.05
          },
          "xaxis": {
           "automargin": true,
           "gridcolor": "white",
           "linecolor": "white",
           "ticks": "",
           "title": {
            "standoff": 15
           },
           "zerolinecolor": "white",
           "zerolinewidth": 2
          },
          "yaxis": {
           "automargin": true,
           "gridcolor": "white",
           "linecolor": "white",
           "ticks": "",
           "title": {
            "standoff": 15
           },
           "zerolinecolor": "white",
           "zerolinewidth": 2
          }
         }
        },
        "title": {
         "text": "Разница между средней длиной диалога по всем скиллам и конкретным скиллом при включении скилла"
        },
        "xaxis": {
         "title": {
          "text": "Skill"
         }
        },
        "yaxis": {
         "title": {
          "text": "Length Difference"
         }
        }
       }
      },
      "text/html": [
       "<div>                            <div id=\"0fc8ffa0-bc3d-4ccc-877a-1d3878fb79d8\" class=\"plotly-graph-div\" style=\"height:525px; width:100%;\"></div>            <script type=\"text/javascript\">                require([\"plotly\"], function(Plotly) {                    window.PLOTLYENV=window.PLOTLYENV || {};                                    if (document.getElementById(\"0fc8ffa0-bc3d-4ccc-877a-1d3878fb79d8\")) {                    Plotly.newPlot(                        \"0fc8ffa0-bc3d-4ccc-877a-1d3878fb79d8\",                        [{\"name\": \"v16.2.0\", \"opacity\": 0.75, \"type\": \"bar\", \"x\": [\"dff_movie_skill\", \"book_skill\", \"game_cooperative_skill\", \"dff_gaming_skill\", \"dff_travel_skill\", \"dff_animals_skill\", \"dff_food_skill\", \"dff_sport_skill\", \"dff_gossip_skill\", \"dff_science_skill\", \"dff_music_skill\", \"superheroes\", \"school\"], \"y\": [-4.607944732297064, 12.20364947060149, -0.5159907093085536, 0, -15.560325684678013, 5.361752237399905, -4.318089659833291, -7.465087589439918, 4.725388601036272, 0, -0.5603256846780127, 0, 0]}, {\"name\": \"v16.9.0\", \"opacity\": 0.75, \"type\": \"bar\", \"x\": [\"dff_movie_skill\", \"book_skill\", \"game_cooperative_skill\", \"dff_gaming_skill\", \"dff_travel_skill\", \"dff_animals_skill\", \"dff_food_skill\", \"dff_sport_skill\", \"dff_gossip_skill\", \"dff_science_skill\", \"dff_music_skill\", \"superheroes\", \"school\"], \"y\": [0, -0.7511737089201844, -4.984507042253519, 0, -15.28450704225352, 21.91549295774648, -2.7511737089201844, 6.248826291079816, 0, 0, 0, 0, 0]}, {\"name\": \"all\", \"opacity\": 0.75, \"type\": \"bar\", \"x\": [\"dff_movie_skill\", \"book_skill\", \"game_cooperative_skill\", \"dff_gaming_skill\", \"dff_travel_skill\", \"dff_animals_skill\", \"dff_food_skill\", \"dff_sport_skill\", \"dff_gossip_skill\", \"dff_science_skill\", \"dff_music_skill\", \"superheroes\", \"school\"], \"y\": [-5.28462192013594, 5.828013871745135, -4.002803738317759, 0, -10.169470404984423, 5.9924343569203415, -5.494960601062857, 1.7490481135340943, 5.563862928348911, 0, 0.27814864263462624, 0, 0]}],                        {\"bargap\": 0.2, \"bargroupgap\": 0.1, \"template\": {\"data\": {\"bar\": [{\"error_x\": {\"color\": \"#2a3f5f\"}, \"error_y\": {\"color\": \"#2a3f5f\"}, \"marker\": {\"line\": {\"color\": \"#E5ECF6\", \"width\": 0.5}}, \"type\": \"bar\"}], \"barpolar\": [{\"marker\": {\"line\": {\"color\": \"#E5ECF6\", \"width\": 0.5}}, \"type\": \"barpolar\"}], \"carpet\": [{\"aaxis\": {\"endlinecolor\": \"#2a3f5f\", \"gridcolor\": \"white\", \"linecolor\": \"white\", \"minorgridcolor\": \"white\", \"startlinecolor\": \"#2a3f5f\"}, \"baxis\": {\"endlinecolor\": \"#2a3f5f\", \"gridcolor\": \"white\", \"linecolor\": \"white\", \"minorgridcolor\": \"white\", \"startlinecolor\": \"#2a3f5f\"}, \"type\": \"carpet\"}], \"choropleth\": [{\"colorbar\": {\"outlinewidth\": 0, \"ticks\": \"\"}, \"type\": \"choropleth\"}], \"contour\": [{\"colorbar\": {\"outlinewidth\": 0, \"ticks\": \"\"}, \"colorscale\": [[0.0, \"#0d0887\"], [0.1111111111111111, \"#46039f\"], [0.2222222222222222, \"#7201a8\"], [0.3333333333333333, \"#9c179e\"], [0.4444444444444444, \"#bd3786\"], [0.5555555555555556, \"#d8576b\"], [0.6666666666666666, \"#ed7953\"], [0.7777777777777778, \"#fb9f3a\"], [0.8888888888888888, \"#fdca26\"], [1.0, \"#f0f921\"]], \"type\": \"contour\"}], \"contourcarpet\": [{\"colorbar\": {\"outlinewidth\": 0, \"ticks\": \"\"}, \"type\": \"contourcarpet\"}], \"heatmap\": [{\"colorbar\": {\"outlinewidth\": 0, \"ticks\": \"\"}, \"colorscale\": [[0.0, \"#0d0887\"], [0.1111111111111111, \"#46039f\"], [0.2222222222222222, \"#7201a8\"], [0.3333333333333333, \"#9c179e\"], [0.4444444444444444, \"#bd3786\"], [0.5555555555555556, \"#d8576b\"], [0.6666666666666666, \"#ed7953\"], [0.7777777777777778, \"#fb9f3a\"], [0.8888888888888888, \"#fdca26\"], [1.0, \"#f0f921\"]], \"type\": \"heatmap\"}], \"heatmapgl\": [{\"colorbar\": {\"outlinewidth\": 0, \"ticks\": \"\"}, \"colorscale\": [[0.0, \"#0d0887\"], [0.1111111111111111, \"#46039f\"], [0.2222222222222222, \"#7201a8\"], [0.3333333333333333, \"#9c179e\"], [0.4444444444444444, \"#bd3786\"], [0.5555555555555556, \"#d8576b\"], [0.6666666666666666, \"#ed7953\"], [0.7777777777777778, \"#fb9f3a\"], [0.8888888888888888, \"#fdca26\"], [1.0, \"#f0f921\"]], \"type\": \"heatmapgl\"}], \"histogram\": [{\"marker\": {\"colorbar\": {\"outlinewidth\": 0, \"ticks\": \"\"}}, \"type\": \"histogram\"}], \"histogram2d\": [{\"colorbar\": {\"outlinewidth\": 0, \"ticks\": \"\"}, \"colorscale\": [[0.0, \"#0d0887\"], [0.1111111111111111, \"#46039f\"], [0.2222222222222222, \"#7201a8\"], [0.3333333333333333, \"#9c179e\"], [0.4444444444444444, \"#bd3786\"], [0.5555555555555556, \"#d8576b\"], [0.6666666666666666, \"#ed7953\"], [0.7777777777777778, \"#fb9f3a\"], [0.8888888888888888, \"#fdca26\"], [1.0, \"#f0f921\"]], \"type\": \"histogram2d\"}], \"histogram2dcontour\": [{\"colorbar\": {\"outlinewidth\": 0, \"ticks\": \"\"}, \"colorscale\": [[0.0, \"#0d0887\"], [0.1111111111111111, \"#46039f\"], [0.2222222222222222, \"#7201a8\"], [0.3333333333333333, \"#9c179e\"], [0.4444444444444444, \"#bd3786\"], [0.5555555555555556, \"#d8576b\"], [0.6666666666666666, \"#ed7953\"], [0.7777777777777778, \"#fb9f3a\"], [0.8888888888888888, \"#fdca26\"], [1.0, \"#f0f921\"]], \"type\": \"histogram2dcontour\"}], \"mesh3d\": [{\"colorbar\": {\"outlinewidth\": 0, \"ticks\": \"\"}, \"type\": \"mesh3d\"}], \"parcoords\": [{\"line\": {\"colorbar\": {\"outlinewidth\": 0, \"ticks\": \"\"}}, \"type\": \"parcoords\"}], \"pie\": [{\"automargin\": true, \"type\": \"pie\"}], \"scatter\": [{\"marker\": {\"colorbar\": {\"outlinewidth\": 0, \"ticks\": \"\"}}, \"type\": \"scatter\"}], \"scatter3d\": [{\"line\": {\"colorbar\": {\"outlinewidth\": 0, \"ticks\": \"\"}}, \"marker\": {\"colorbar\": {\"outlinewidth\": 0, \"ticks\": \"\"}}, \"type\": \"scatter3d\"}], \"scattercarpet\": [{\"marker\": {\"colorbar\": {\"outlinewidth\": 0, \"ticks\": \"\"}}, \"type\": \"scattercarpet\"}], \"scattergeo\": [{\"marker\": {\"colorbar\": {\"outlinewidth\": 0, \"ticks\": \"\"}}, \"type\": \"scattergeo\"}], \"scattergl\": [{\"marker\": {\"colorbar\": {\"outlinewidth\": 0, \"ticks\": \"\"}}, \"type\": \"scattergl\"}], \"scattermapbox\": [{\"marker\": {\"colorbar\": {\"outlinewidth\": 0, \"ticks\": \"\"}}, \"type\": \"scattermapbox\"}], \"scatterpolar\": [{\"marker\": {\"colorbar\": {\"outlinewidth\": 0, \"ticks\": \"\"}}, \"type\": \"scatterpolar\"}], \"scatterpolargl\": [{\"marker\": {\"colorbar\": {\"outlinewidth\": 0, \"ticks\": \"\"}}, \"type\": \"scatterpolargl\"}], \"scatterternary\": [{\"marker\": {\"colorbar\": {\"outlinewidth\": 0, \"ticks\": \"\"}}, \"type\": \"scatterternary\"}], \"surface\": [{\"colorbar\": {\"outlinewidth\": 0, \"ticks\": \"\"}, \"colorscale\": [[0.0, \"#0d0887\"], [0.1111111111111111, \"#46039f\"], [0.2222222222222222, \"#7201a8\"], [0.3333333333333333, \"#9c179e\"], [0.4444444444444444, \"#bd3786\"], [0.5555555555555556, \"#d8576b\"], [0.6666666666666666, \"#ed7953\"], [0.7777777777777778, \"#fb9f3a\"], [0.8888888888888888, \"#fdca26\"], [1.0, \"#f0f921\"]], \"type\": \"surface\"}], \"table\": [{\"cells\": {\"fill\": {\"color\": \"#EBF0F8\"}, \"line\": {\"color\": \"white\"}}, \"header\": {\"fill\": {\"color\": \"#C8D4E3\"}, \"line\": {\"color\": \"white\"}}, \"type\": \"table\"}]}, \"layout\": {\"annotationdefaults\": {\"arrowcolor\": \"#2a3f5f\", \"arrowhead\": 0, \"arrowwidth\": 1}, \"autotypenumbers\": \"strict\", \"coloraxis\": {\"colorbar\": {\"outlinewidth\": 0, \"ticks\": \"\"}}, \"colorscale\": {\"diverging\": [[0, \"#8e0152\"], [0.1, \"#c51b7d\"], [0.2, \"#de77ae\"], [0.3, \"#f1b6da\"], [0.4, \"#fde0ef\"], [0.5, \"#f7f7f7\"], [0.6, \"#e6f5d0\"], [0.7, \"#b8e186\"], [0.8, \"#7fbc41\"], [0.9, \"#4d9221\"], [1, \"#276419\"]], \"sequential\": [[0.0, \"#0d0887\"], [0.1111111111111111, \"#46039f\"], [0.2222222222222222, \"#7201a8\"], [0.3333333333333333, \"#9c179e\"], [0.4444444444444444, \"#bd3786\"], [0.5555555555555556, \"#d8576b\"], [0.6666666666666666, \"#ed7953\"], [0.7777777777777778, \"#fb9f3a\"], [0.8888888888888888, \"#fdca26\"], [1.0, \"#f0f921\"]], \"sequentialminus\": [[0.0, \"#0d0887\"], [0.1111111111111111, \"#46039f\"], [0.2222222222222222, \"#7201a8\"], [0.3333333333333333, \"#9c179e\"], [0.4444444444444444, \"#bd3786\"], [0.5555555555555556, \"#d8576b\"], [0.6666666666666666, \"#ed7953\"], [0.7777777777777778, \"#fb9f3a\"], [0.8888888888888888, \"#fdca26\"], [1.0, \"#f0f921\"]]}, \"colorway\": [\"#636efa\", \"#EF553B\", \"#00cc96\", \"#ab63fa\", \"#FFA15A\", \"#19d3f3\", \"#FF6692\", \"#B6E880\", \"#FF97FF\", \"#FECB52\"], \"font\": {\"color\": \"#2a3f5f\"}, \"geo\": {\"bgcolor\": \"white\", \"lakecolor\": \"white\", \"landcolor\": \"#E5ECF6\", \"showlakes\": true, \"showland\": true, \"subunitcolor\": \"white\"}, \"hoverlabel\": {\"align\": \"left\"}, \"hovermode\": \"closest\", \"mapbox\": {\"style\": \"light\"}, \"paper_bgcolor\": \"white\", \"plot_bgcolor\": \"#E5ECF6\", \"polar\": {\"angularaxis\": {\"gridcolor\": \"white\", \"linecolor\": \"white\", \"ticks\": \"\"}, \"bgcolor\": \"#E5ECF6\", \"radialaxis\": {\"gridcolor\": \"white\", \"linecolor\": \"white\", \"ticks\": \"\"}}, \"scene\": {\"xaxis\": {\"backgroundcolor\": \"#E5ECF6\", \"gridcolor\": \"white\", \"gridwidth\": 2, \"linecolor\": \"white\", \"showbackground\": true, \"ticks\": \"\", \"zerolinecolor\": \"white\"}, \"yaxis\": {\"backgroundcolor\": \"#E5ECF6\", \"gridcolor\": \"white\", \"gridwidth\": 2, \"linecolor\": \"white\", \"showbackground\": true, \"ticks\": \"\", \"zerolinecolor\": \"white\"}, \"zaxis\": {\"backgroundcolor\": \"#E5ECF6\", \"gridcolor\": \"white\", \"gridwidth\": 2, \"linecolor\": \"white\", \"showbackground\": true, \"ticks\": \"\", \"zerolinecolor\": \"white\"}}, \"shapedefaults\": {\"line\": {\"color\": \"#2a3f5f\"}}, \"ternary\": {\"aaxis\": {\"gridcolor\": \"white\", \"linecolor\": \"white\", \"ticks\": \"\"}, \"baxis\": {\"gridcolor\": \"white\", \"linecolor\": \"white\", \"ticks\": \"\"}, \"bgcolor\": \"#E5ECF6\", \"caxis\": {\"gridcolor\": \"white\", \"linecolor\": \"white\", \"ticks\": \"\"}}, \"title\": {\"x\": 0.05}, \"xaxis\": {\"automargin\": true, \"gridcolor\": \"white\", \"linecolor\": \"white\", \"ticks\": \"\", \"title\": {\"standoff\": 15}, \"zerolinecolor\": \"white\", \"zerolinewidth\": 2}, \"yaxis\": {\"automargin\": true, \"gridcolor\": \"white\", \"linecolor\": \"white\", \"ticks\": \"\", \"title\": {\"standoff\": 15}, \"zerolinecolor\": \"white\", \"zerolinewidth\": 2}}}, \"title\": {\"text\": \"\\u0420\\u0430\\u0437\\u043d\\u0438\\u0446\\u0430 \\u043c\\u0435\\u0436\\u0434\\u0443 \\u0441\\u0440\\u0435\\u0434\\u043d\\u0435\\u0439 \\u0434\\u043b\\u0438\\u043d\\u043e\\u0439 \\u0434\\u0438\\u0430\\u043b\\u043e\\u0433\\u0430 \\u043f\\u043e \\u0432\\u0441\\u0435\\u043c \\u0441\\u043a\\u0438\\u043b\\u043b\\u0430\\u043c \\u0438 \\u043a\\u043e\\u043d\\u043a\\u0440\\u0435\\u0442\\u043d\\u044b\\u043c \\u0441\\u043a\\u0438\\u043b\\u043b\\u043e\\u043c \\u043f\\u0440\\u0438 \\u0432\\u043a\\u043b\\u044e\\u0447\\u0435\\u043d\\u0438\\u0438 \\u0441\\u043a\\u0438\\u043b\\u043b\\u0430\"}, \"xaxis\": {\"title\": {\"text\": \"Skill\"}}, \"yaxis\": {\"title\": {\"text\": \"Length Difference\"}}},                        {\"responsive\": true}                    ).then(function(){\n",
       "                            \n",
       "var gd = document.getElementById('0fc8ffa0-bc3d-4ccc-877a-1d3878fb79d8');\n",
       "var x = new MutationObserver(function (mutations, observer) {{\n",
       "        var display = window.getComputedStyle(gd).display;\n",
       "        if (!display || display === 'none') {{\n",
       "            console.log([gd, 'removed!']);\n",
       "            Plotly.purge(gd);\n",
       "            observer.disconnect();\n",
       "        }}\n",
       "}});\n",
       "\n",
       "// Listen for the removal of the full notebook cells\n",
       "var notebookContainer = gd.closest('#notebook-container');\n",
       "if (notebookContainer) {{\n",
       "    x.observe(notebookContainer, {childList: true});\n",
       "}}\n",
       "\n",
       "// Listen for the clearing of the current output cell\n",
       "var outputEl = gd.closest('.output');\n",
       "if (outputEl) {{\n",
       "    x.observe(outputEl, {childList: true});\n",
       "}}\n",
       "\n",
       "                        })                };                });            </script>        </div>"
      ]
     },
     "metadata": {},
     "output_type": "display_data"
    }
   ],
   "source": [
    "fig = go.Figure()\n",
    "\n",
    "rate_dict = []\n",
    "\n",
    "\n",
    "\n",
    "for version in graphics_dict.keys():\n",
    "    \n",
    "    x0, y0 = [], []\n",
    "        \n",
    "    for skill in graphics_dict[version].keys():\n",
    "        x0.append(skill)\n",
    "        y_skill = []\n",
    "        for l, cont in zip(graphics_dict[version][skill][\"length\"], graphics_dict[version][skill][\"skill_continue\"]):\n",
    "            if cont == 1:\n",
    "                y_skill.append(l)\n",
    "        y0.append(y_skill)\n",
    "    \n",
    "    y0_avg = [sum(y_skill) / len(y_skill) if len(y_skill) > 0 else 0 for y_skill in y0]\n",
    "    y0_all = [elem for y_skill in y0 for elem in y_skill]\n",
    "                \n",
    "    avg_length = sum(y0_all) / len(y0_all) if len(y0_all) > 0 else 0\n",
    "    \n",
    "    y1 = [elem - avg_length if elem > 0 else 0 for elem in y0_avg]\n",
    "    \n",
    "    print(version, avg_length)\n",
    "        \n",
    "    for x2, y2 in zip(x0, y0):\n",
    "        y2_avg = sum(y2) / len(y2) if len(y2) > 0 else 0\n",
    "        print(x2, y2_avg, len(y2))\n",
    "        if version == \"v16.9.0\":\n",
    "            rate_dict.append((x2, y2_avg, len(y2)))\n",
    "                     \n",
    "    fig.add_trace(go.Bar(\n",
    "        x=x0,\n",
    "        y=y1,\n",
    "        name=version, \n",
    "        opacity=0.75\n",
    "    ))\n",
    "\n",
    "fig.update_layout(\n",
    "    title_text='Разница между средней длиной диалога по всем скиллам и конкретным скиллом при включении скилла', \n",
    "    xaxis_title_text='Skill', \n",
    "    yaxis_title_text='Length Difference', \n",
    "    bargap=0.2, \n",
    "    bargroupgap=0.1 \n",
    ")\n",
    "\n",
    "fig.show()"
   ]
  },
  {
   "cell_type": "code",
   "execution_count": 145,
   "id": "dress-working",
   "metadata": {},
   "outputs": [
    {
     "name": "stdout",
     "output_type": "stream",
     "text": [
      "('dff_animals_skill', 64.0, 4)\n",
      "('dff_sport_skill', 48.333333333333336, 18)\n",
      "('book_skill', 41.333333333333336, 21)\n",
      "('dff_food_skill', 39.333333333333336, 3)\n",
      "('game_cooperative_skill', 37.1, 20)\n",
      "('dff_travel_skill', 26.8, 5)\n",
      "('school', 0, 0)\n",
      "('superheroes', 0, 0)\n",
      "('dff_music_skill', 0, 0)\n",
      "('dff_science_skill', 0, 0)\n",
      "('dff_gossip_skill', 0, 0)\n",
      "('dff_gaming_skill', 0, 0)\n",
      "('dff_movie_skill', 0, 0)\n"
     ]
    }
   ],
   "source": [
    "idxs = np.argsort(np.array([el[1] for el in rate_dict]))[::-1]\n",
    "for i in idxs:\n",
    "    print(rate_dict[i])"
   ]
  },
  {
   "cell_type": "code",
   "execution_count": 101,
   "id": "disturbed-fifty",
   "metadata": {},
   "outputs": [
    {
     "data": {
      "text/plain": [
       "{'length': [34,\n",
       "  14,\n",
       "  22,\n",
       "  22,\n",
       "  42,\n",
       "  8,\n",
       "  28,\n",
       "  18,\n",
       "  28,\n",
       "  218,\n",
       "  28,\n",
       "  60,\n",
       "  58,\n",
       "  66,\n",
       "  18,\n",
       "  12,\n",
       "  30],\n",
       " 'skill_continue': [0, 0, 1, 0, 1, 0, 0, 0, 0, 0, 1, 0, 0, 0, 0, 1, 1],\n",
       " 'length_with_rating': [28, 218, 18, 30],\n",
       " 'rating': [5.0, 3.0, 2.0, 3.0],\n",
       " 'skill_continue_rating': [0, 0, 0, 1],\n",
       " 'active_length_correlation': -0.20185526182034566,\n",
       " 'active_rating_correlation': -0.13245323570650436}"
      ]
     },
     "execution_count": 101,
     "metadata": {},
     "output_type": "execute_result"
    }
   ],
   "source": [
    "graphics_dict[\"v16.9.0\"][\"dff_travel_skill\"]"
   ]
  },
  {
   "cell_type": "code",
   "execution_count": 72,
   "id": "reflected-syria",
   "metadata": {},
   "outputs": [
    {
     "ename": "KeyError",
     "evalue": "'all'",
     "output_type": "error",
     "traceback": [
      "\u001b[0;31m---------------------------------------------------------------------------\u001b[0m",
      "\u001b[0;31mKeyError\u001b[0m                                  Traceback (most recent call last)",
      "\u001b[0;32m<ipython-input-72-c34d75a74b6d>\u001b[0m in \u001b[0;36m<module>\u001b[0;34m\u001b[0m\n\u001b[1;32m      5\u001b[0m     \u001b[0mx0\u001b[0m\u001b[0;34m,\u001b[0m \u001b[0my0\u001b[0m \u001b[0;34m=\u001b[0m \u001b[0;34m[\u001b[0m\u001b[0;34m]\u001b[0m\u001b[0;34m,\u001b[0m \u001b[0;34m[\u001b[0m\u001b[0;34m]\u001b[0m\u001b[0;34m\u001b[0m\u001b[0;34m\u001b[0m\u001b[0m\n\u001b[1;32m      6\u001b[0m \u001b[0;34m\u001b[0m\u001b[0m\n\u001b[0;32m----> 7\u001b[0;31m     \u001b[0;32mfor\u001b[0m \u001b[0mskill\u001b[0m \u001b[0;32min\u001b[0m \u001b[0msupport_topic_count\u001b[0m\u001b[0;34m[\u001b[0m\u001b[0mversion\u001b[0m\u001b[0;34m]\u001b[0m\u001b[0;34m.\u001b[0m\u001b[0mkeys\u001b[0m\u001b[0;34m(\u001b[0m\u001b[0;34m)\u001b[0m\u001b[0;34m:\u001b[0m\u001b[0;34m\u001b[0m\u001b[0;34m\u001b[0m\u001b[0m\n\u001b[0m\u001b[1;32m      8\u001b[0m         \u001b[0mx0\u001b[0m\u001b[0;34m.\u001b[0m\u001b[0mappend\u001b[0m\u001b[0;34m(\u001b[0m\u001b[0mskill\u001b[0m\u001b[0;34m)\u001b[0m\u001b[0;34m\u001b[0m\u001b[0;34m\u001b[0m\u001b[0m\n\u001b[1;32m      9\u001b[0m         \u001b[0my0\u001b[0m\u001b[0;34m.\u001b[0m\u001b[0mappend\u001b[0m\u001b[0;34m(\u001b[0m\u001b[0msupport_topic_count\u001b[0m\u001b[0;34m[\u001b[0m\u001b[0mversion\u001b[0m\u001b[0;34m]\u001b[0m\u001b[0;34m[\u001b[0m\u001b[0mskill\u001b[0m\u001b[0;34m]\u001b[0m\u001b[0;34m[\u001b[0m\u001b[0;34m\"yes\"\u001b[0m\u001b[0;34m]\u001b[0m \u001b[0;34m+\u001b[0m \u001b[0msupport_topic_count\u001b[0m\u001b[0;34m[\u001b[0m\u001b[0mversion\u001b[0m\u001b[0;34m]\u001b[0m\u001b[0;34m[\u001b[0m\u001b[0mskill\u001b[0m\u001b[0;34m]\u001b[0m\u001b[0;34m[\u001b[0m\u001b[0;34m\"no\"\u001b[0m\u001b[0;34m]\u001b[0m\u001b[0;34m)\u001b[0m\u001b[0;34m\u001b[0m\u001b[0;34m\u001b[0m\u001b[0m\n",
      "\u001b[0;31mKeyError\u001b[0m: 'all'"
     ]
    }
   ],
   "source": [
    "fig = go.Figure()\n",
    "\n",
    "for version in custom_dict.keys():\n",
    "    \n",
    "    x0, y0 = [], []\n",
    "    \n",
    "    for skill in custom_dict[version].keys():\n",
    "        x0.append(skill)\n",
    "        y0.append(support_topic_count[version][skill][\"yes\"] + support_topic_count[version][skill][\"no\"])\n",
    "    \n",
    "    fig.add_trace(go.Bar(\n",
    "        x=x0,\n",
    "        y=y0,\n",
    "        name=version, # name used in legend and hover labels\n",
    "        opacity=0.75\n",
    "    ))\n",
    "\n",
    "fig.update_layout(\n",
    "    title_text='Количество линков на скилл',\n",
    "    xaxis_title_text='Skill',\n",
    "    yaxis_title_text='Count',\n",
    "    bargap=0.2,\n",
    "    bargroupgap=0.1 \n",
    ")\n",
    "\n",
    "fig.show()"
   ]
  },
  {
   "cell_type": "code",
   "execution_count": 79,
   "id": "color-cabinet",
   "metadata": {
    "scrolled": true
   },
   "outputs": [
    {
     "data": {
      "application/vnd.plotly.v1+json": {
       "config": {
        "plotlyServerURL": "https://plot.ly"
       },
       "data": [
        {
         "name": "v16.2.0",
         "opacity": 0.75,
         "type": "bar",
         "x": [
          "dff_movie_skill",
          "book_skill",
          "game_cooperative_skill",
          "dff_gaming_skill",
          "dff_travel_skill",
          "dff_animals_skill",
          "dff_food_skill",
          "dff_sport_skill",
          "dff_gossip_skill",
          "dff_science_skill",
          "dff_music_skill",
          "superheroes",
          "school"
         ],
         "y": [
          0.09615384615384616,
          0.12637362637362637,
          0.1510989010989011,
          0,
          0.038461538461538464,
          0.12637362637362637,
          0.07967032967032966,
          0.10164835164835165,
          0.07967032967032966,
          0.09065934065934066,
          0.10989010989010989,
          0,
          0
         ]
        },
        {
         "name": "v16.6.0",
         "opacity": 0.75,
         "type": "bar",
         "x": [
          "dff_movie_skill",
          "book_skill",
          "game_cooperative_skill",
          "dff_gaming_skill",
          "dff_travel_skill",
          "dff_animals_skill",
          "dff_food_skill",
          "dff_sport_skill",
          "dff_gossip_skill",
          "dff_science_skill",
          "dff_music_skill",
          "superheroes",
          "school"
         ],
         "y": [
          0.06896551724137931,
          0.10344827586206896,
          0.1724137931034483,
          0,
          0,
          0.06896551724137931,
          0.1724137931034483,
          0.06896551724137931,
          0.20689655172413793,
          0.034482758620689655,
          0.10344827586206896,
          0,
          0
         ]
        },
        {
         "name": "v16.7.1",
         "opacity": 0.75,
         "type": "bar",
         "x": [
          "dff_movie_skill",
          "book_skill",
          "game_cooperative_skill",
          "dff_gaming_skill",
          "dff_travel_skill",
          "dff_animals_skill",
          "dff_food_skill",
          "dff_sport_skill",
          "dff_gossip_skill",
          "dff_science_skill",
          "dff_music_skill",
          "superheroes",
          "school"
         ],
         "y": [
          0.17073170731707318,
          0.1951219512195122,
          0.0975609756097561,
          0,
          0.024390243902439025,
          0.12195121951219512,
          0.0975609756097561,
          0.0975609756097561,
          0.14634146341463414,
          0.04878048780487805,
          0,
          0,
          0
         ]
        },
        {
         "name": "v16.8.0",
         "opacity": 0.75,
         "type": "bar",
         "x": [
          "dff_movie_skill",
          "book_skill",
          "game_cooperative_skill",
          "dff_gaming_skill",
          "dff_travel_skill",
          "dff_animals_skill",
          "dff_food_skill",
          "dff_sport_skill",
          "dff_gossip_skill",
          "dff_science_skill",
          "dff_music_skill",
          "superheroes",
          "school"
         ],
         "y": [
          0,
          0.15384615384615385,
          0.12307692307692308,
          0,
          0.18461538461538463,
          0.03076923076923077,
          0.015384615384615385,
          0.24615384615384617,
          0,
          0.24615384615384617,
          0,
          0,
          0
         ]
        },
        {
         "name": "v16.9.0",
         "opacity": 0.75,
         "type": "bar",
         "x": [
          "dff_movie_skill",
          "book_skill",
          "game_cooperative_skill",
          "dff_gaming_skill",
          "dff_travel_skill",
          "dff_animals_skill",
          "dff_food_skill",
          "dff_sport_skill",
          "dff_gossip_skill",
          "dff_science_skill",
          "dff_music_skill",
          "superheroes",
          "school"
         ],
         "y": [
          0,
          0.1896551724137931,
          0.27586206896551724,
          0,
          0.09770114942528736,
          0.022988505747126436,
          0.022988505747126436,
          0.1839080459770115,
          0,
          0.20689655172413793,
          0,
          0,
          0
         ]
        }
       ],
       "layout": {
        "bargap": 0.2,
        "bargroupgap": 0.1,
        "template": {
         "data": {
          "bar": [
           {
            "error_x": {
             "color": "#2a3f5f"
            },
            "error_y": {
             "color": "#2a3f5f"
            },
            "marker": {
             "line": {
              "color": "#E5ECF6",
              "width": 0.5
             }
            },
            "type": "bar"
           }
          ],
          "barpolar": [
           {
            "marker": {
             "line": {
              "color": "#E5ECF6",
              "width": 0.5
             }
            },
            "type": "barpolar"
           }
          ],
          "carpet": [
           {
            "aaxis": {
             "endlinecolor": "#2a3f5f",
             "gridcolor": "white",
             "linecolor": "white",
             "minorgridcolor": "white",
             "startlinecolor": "#2a3f5f"
            },
            "baxis": {
             "endlinecolor": "#2a3f5f",
             "gridcolor": "white",
             "linecolor": "white",
             "minorgridcolor": "white",
             "startlinecolor": "#2a3f5f"
            },
            "type": "carpet"
           }
          ],
          "choropleth": [
           {
            "colorbar": {
             "outlinewidth": 0,
             "ticks": ""
            },
            "type": "choropleth"
           }
          ],
          "contour": [
           {
            "colorbar": {
             "outlinewidth": 0,
             "ticks": ""
            },
            "colorscale": [
             [
              0,
              "#0d0887"
             ],
             [
              0.1111111111111111,
              "#46039f"
             ],
             [
              0.2222222222222222,
              "#7201a8"
             ],
             [
              0.3333333333333333,
              "#9c179e"
             ],
             [
              0.4444444444444444,
              "#bd3786"
             ],
             [
              0.5555555555555556,
              "#d8576b"
             ],
             [
              0.6666666666666666,
              "#ed7953"
             ],
             [
              0.7777777777777778,
              "#fb9f3a"
             ],
             [
              0.8888888888888888,
              "#fdca26"
             ],
             [
              1,
              "#f0f921"
             ]
            ],
            "type": "contour"
           }
          ],
          "contourcarpet": [
           {
            "colorbar": {
             "outlinewidth": 0,
             "ticks": ""
            },
            "type": "contourcarpet"
           }
          ],
          "heatmap": [
           {
            "colorbar": {
             "outlinewidth": 0,
             "ticks": ""
            },
            "colorscale": [
             [
              0,
              "#0d0887"
             ],
             [
              0.1111111111111111,
              "#46039f"
             ],
             [
              0.2222222222222222,
              "#7201a8"
             ],
             [
              0.3333333333333333,
              "#9c179e"
             ],
             [
              0.4444444444444444,
              "#bd3786"
             ],
             [
              0.5555555555555556,
              "#d8576b"
             ],
             [
              0.6666666666666666,
              "#ed7953"
             ],
             [
              0.7777777777777778,
              "#fb9f3a"
             ],
             [
              0.8888888888888888,
              "#fdca26"
             ],
             [
              1,
              "#f0f921"
             ]
            ],
            "type": "heatmap"
           }
          ],
          "heatmapgl": [
           {
            "colorbar": {
             "outlinewidth": 0,
             "ticks": ""
            },
            "colorscale": [
             [
              0,
              "#0d0887"
             ],
             [
              0.1111111111111111,
              "#46039f"
             ],
             [
              0.2222222222222222,
              "#7201a8"
             ],
             [
              0.3333333333333333,
              "#9c179e"
             ],
             [
              0.4444444444444444,
              "#bd3786"
             ],
             [
              0.5555555555555556,
              "#d8576b"
             ],
             [
              0.6666666666666666,
              "#ed7953"
             ],
             [
              0.7777777777777778,
              "#fb9f3a"
             ],
             [
              0.8888888888888888,
              "#fdca26"
             ],
             [
              1,
              "#f0f921"
             ]
            ],
            "type": "heatmapgl"
           }
          ],
          "histogram": [
           {
            "marker": {
             "colorbar": {
              "outlinewidth": 0,
              "ticks": ""
             }
            },
            "type": "histogram"
           }
          ],
          "histogram2d": [
           {
            "colorbar": {
             "outlinewidth": 0,
             "ticks": ""
            },
            "colorscale": [
             [
              0,
              "#0d0887"
             ],
             [
              0.1111111111111111,
              "#46039f"
             ],
             [
              0.2222222222222222,
              "#7201a8"
             ],
             [
              0.3333333333333333,
              "#9c179e"
             ],
             [
              0.4444444444444444,
              "#bd3786"
             ],
             [
              0.5555555555555556,
              "#d8576b"
             ],
             [
              0.6666666666666666,
              "#ed7953"
             ],
             [
              0.7777777777777778,
              "#fb9f3a"
             ],
             [
              0.8888888888888888,
              "#fdca26"
             ],
             [
              1,
              "#f0f921"
             ]
            ],
            "type": "histogram2d"
           }
          ],
          "histogram2dcontour": [
           {
            "colorbar": {
             "outlinewidth": 0,
             "ticks": ""
            },
            "colorscale": [
             [
              0,
              "#0d0887"
             ],
             [
              0.1111111111111111,
              "#46039f"
             ],
             [
              0.2222222222222222,
              "#7201a8"
             ],
             [
              0.3333333333333333,
              "#9c179e"
             ],
             [
              0.4444444444444444,
              "#bd3786"
             ],
             [
              0.5555555555555556,
              "#d8576b"
             ],
             [
              0.6666666666666666,
              "#ed7953"
             ],
             [
              0.7777777777777778,
              "#fb9f3a"
             ],
             [
              0.8888888888888888,
              "#fdca26"
             ],
             [
              1,
              "#f0f921"
             ]
            ],
            "type": "histogram2dcontour"
           }
          ],
          "mesh3d": [
           {
            "colorbar": {
             "outlinewidth": 0,
             "ticks": ""
            },
            "type": "mesh3d"
           }
          ],
          "parcoords": [
           {
            "line": {
             "colorbar": {
              "outlinewidth": 0,
              "ticks": ""
             }
            },
            "type": "parcoords"
           }
          ],
          "pie": [
           {
            "automargin": true,
            "type": "pie"
           }
          ],
          "scatter": [
           {
            "marker": {
             "colorbar": {
              "outlinewidth": 0,
              "ticks": ""
             }
            },
            "type": "scatter"
           }
          ],
          "scatter3d": [
           {
            "line": {
             "colorbar": {
              "outlinewidth": 0,
              "ticks": ""
             }
            },
            "marker": {
             "colorbar": {
              "outlinewidth": 0,
              "ticks": ""
             }
            },
            "type": "scatter3d"
           }
          ],
          "scattercarpet": [
           {
            "marker": {
             "colorbar": {
              "outlinewidth": 0,
              "ticks": ""
             }
            },
            "type": "scattercarpet"
           }
          ],
          "scattergeo": [
           {
            "marker": {
             "colorbar": {
              "outlinewidth": 0,
              "ticks": ""
             }
            },
            "type": "scattergeo"
           }
          ],
          "scattergl": [
           {
            "marker": {
             "colorbar": {
              "outlinewidth": 0,
              "ticks": ""
             }
            },
            "type": "scattergl"
           }
          ],
          "scattermapbox": [
           {
            "marker": {
             "colorbar": {
              "outlinewidth": 0,
              "ticks": ""
             }
            },
            "type": "scattermapbox"
           }
          ],
          "scatterpolar": [
           {
            "marker": {
             "colorbar": {
              "outlinewidth": 0,
              "ticks": ""
             }
            },
            "type": "scatterpolar"
           }
          ],
          "scatterpolargl": [
           {
            "marker": {
             "colorbar": {
              "outlinewidth": 0,
              "ticks": ""
             }
            },
            "type": "scatterpolargl"
           }
          ],
          "scatterternary": [
           {
            "marker": {
             "colorbar": {
              "outlinewidth": 0,
              "ticks": ""
             }
            },
            "type": "scatterternary"
           }
          ],
          "surface": [
           {
            "colorbar": {
             "outlinewidth": 0,
             "ticks": ""
            },
            "colorscale": [
             [
              0,
              "#0d0887"
             ],
             [
              0.1111111111111111,
              "#46039f"
             ],
             [
              0.2222222222222222,
              "#7201a8"
             ],
             [
              0.3333333333333333,
              "#9c179e"
             ],
             [
              0.4444444444444444,
              "#bd3786"
             ],
             [
              0.5555555555555556,
              "#d8576b"
             ],
             [
              0.6666666666666666,
              "#ed7953"
             ],
             [
              0.7777777777777778,
              "#fb9f3a"
             ],
             [
              0.8888888888888888,
              "#fdca26"
             ],
             [
              1,
              "#f0f921"
             ]
            ],
            "type": "surface"
           }
          ],
          "table": [
           {
            "cells": {
             "fill": {
              "color": "#EBF0F8"
             },
             "line": {
              "color": "white"
             }
            },
            "header": {
             "fill": {
              "color": "#C8D4E3"
             },
             "line": {
              "color": "white"
             }
            },
            "type": "table"
           }
          ]
         },
         "layout": {
          "annotationdefaults": {
           "arrowcolor": "#2a3f5f",
           "arrowhead": 0,
           "arrowwidth": 1
          },
          "autotypenumbers": "strict",
          "coloraxis": {
           "colorbar": {
            "outlinewidth": 0,
            "ticks": ""
           }
          },
          "colorscale": {
           "diverging": [
            [
             0,
             "#8e0152"
            ],
            [
             0.1,
             "#c51b7d"
            ],
            [
             0.2,
             "#de77ae"
            ],
            [
             0.3,
             "#f1b6da"
            ],
            [
             0.4,
             "#fde0ef"
            ],
            [
             0.5,
             "#f7f7f7"
            ],
            [
             0.6,
             "#e6f5d0"
            ],
            [
             0.7,
             "#b8e186"
            ],
            [
             0.8,
             "#7fbc41"
            ],
            [
             0.9,
             "#4d9221"
            ],
            [
             1,
             "#276419"
            ]
           ],
           "sequential": [
            [
             0,
             "#0d0887"
            ],
            [
             0.1111111111111111,
             "#46039f"
            ],
            [
             0.2222222222222222,
             "#7201a8"
            ],
            [
             0.3333333333333333,
             "#9c179e"
            ],
            [
             0.4444444444444444,
             "#bd3786"
            ],
            [
             0.5555555555555556,
             "#d8576b"
            ],
            [
             0.6666666666666666,
             "#ed7953"
            ],
            [
             0.7777777777777778,
             "#fb9f3a"
            ],
            [
             0.8888888888888888,
             "#fdca26"
            ],
            [
             1,
             "#f0f921"
            ]
           ],
           "sequentialminus": [
            [
             0,
             "#0d0887"
            ],
            [
             0.1111111111111111,
             "#46039f"
            ],
            [
             0.2222222222222222,
             "#7201a8"
            ],
            [
             0.3333333333333333,
             "#9c179e"
            ],
            [
             0.4444444444444444,
             "#bd3786"
            ],
            [
             0.5555555555555556,
             "#d8576b"
            ],
            [
             0.6666666666666666,
             "#ed7953"
            ],
            [
             0.7777777777777778,
             "#fb9f3a"
            ],
            [
             0.8888888888888888,
             "#fdca26"
            ],
            [
             1,
             "#f0f921"
            ]
           ]
          },
          "colorway": [
           "#636efa",
           "#EF553B",
           "#00cc96",
           "#ab63fa",
           "#FFA15A",
           "#19d3f3",
           "#FF6692",
           "#B6E880",
           "#FF97FF",
           "#FECB52"
          ],
          "font": {
           "color": "#2a3f5f"
          },
          "geo": {
           "bgcolor": "white",
           "lakecolor": "white",
           "landcolor": "#E5ECF6",
           "showlakes": true,
           "showland": true,
           "subunitcolor": "white"
          },
          "hoverlabel": {
           "align": "left"
          },
          "hovermode": "closest",
          "mapbox": {
           "style": "light"
          },
          "paper_bgcolor": "white",
          "plot_bgcolor": "#E5ECF6",
          "polar": {
           "angularaxis": {
            "gridcolor": "white",
            "linecolor": "white",
            "ticks": ""
           },
           "bgcolor": "#E5ECF6",
           "radialaxis": {
            "gridcolor": "white",
            "linecolor": "white",
            "ticks": ""
           }
          },
          "scene": {
           "xaxis": {
            "backgroundcolor": "#E5ECF6",
            "gridcolor": "white",
            "gridwidth": 2,
            "linecolor": "white",
            "showbackground": true,
            "ticks": "",
            "zerolinecolor": "white"
           },
           "yaxis": {
            "backgroundcolor": "#E5ECF6",
            "gridcolor": "white",
            "gridwidth": 2,
            "linecolor": "white",
            "showbackground": true,
            "ticks": "",
            "zerolinecolor": "white"
           },
           "zaxis": {
            "backgroundcolor": "#E5ECF6",
            "gridcolor": "white",
            "gridwidth": 2,
            "linecolor": "white",
            "showbackground": true,
            "ticks": "",
            "zerolinecolor": "white"
           }
          },
          "shapedefaults": {
           "line": {
            "color": "#2a3f5f"
           }
          },
          "ternary": {
           "aaxis": {
            "gridcolor": "white",
            "linecolor": "white",
            "ticks": ""
           },
           "baxis": {
            "gridcolor": "white",
            "linecolor": "white",
            "ticks": ""
           },
           "bgcolor": "#E5ECF6",
           "caxis": {
            "gridcolor": "white",
            "linecolor": "white",
            "ticks": ""
           }
          },
          "title": {
           "x": 0.05
          },
          "xaxis": {
           "automargin": true,
           "gridcolor": "white",
           "linecolor": "white",
           "ticks": "",
           "title": {
            "standoff": 15
           },
           "zerolinecolor": "white",
           "zerolinewidth": 2
          },
          "yaxis": {
           "automargin": true,
           "gridcolor": "white",
           "linecolor": "white",
           "ticks": "",
           "title": {
            "standoff": 15
           },
           "zerolinecolor": "white",
           "zerolinewidth": 2
          }
         }
        },
        "title": {
         "text": "Процент линков на скилл от всех линков в данной версии"
        },
        "xaxis": {
         "title": {
          "text": "Skill"
         }
        },
        "yaxis": {
         "title": {
          "text": "Percent"
         }
        }
       }
      },
      "text/html": [
       "<div>                            <div id=\"8fc3bda9-cbbf-4db3-b35d-a738c4dc60f1\" class=\"plotly-graph-div\" style=\"height:525px; width:100%;\"></div>            <script type=\"text/javascript\">                require([\"plotly\"], function(Plotly) {                    window.PLOTLYENV=window.PLOTLYENV || {};                                    if (document.getElementById(\"8fc3bda9-cbbf-4db3-b35d-a738c4dc60f1\")) {                    Plotly.newPlot(                        \"8fc3bda9-cbbf-4db3-b35d-a738c4dc60f1\",                        [{\"name\": \"v16.2.0\", \"opacity\": 0.75, \"type\": \"bar\", \"x\": [\"dff_movie_skill\", \"book_skill\", \"game_cooperative_skill\", \"dff_gaming_skill\", \"dff_travel_skill\", \"dff_animals_skill\", \"dff_food_skill\", \"dff_sport_skill\", \"dff_gossip_skill\", \"dff_science_skill\", \"dff_music_skill\", \"superheroes\", \"school\"], \"y\": [0.09615384615384616, 0.12637362637362637, 0.1510989010989011, 0.0, 0.038461538461538464, 0.12637362637362637, 0.07967032967032966, 0.10164835164835165, 0.07967032967032966, 0.09065934065934066, 0.10989010989010989, 0.0, 0.0]}, {\"name\": \"v16.6.0\", \"opacity\": 0.75, \"type\": \"bar\", \"x\": [\"dff_movie_skill\", \"book_skill\", \"game_cooperative_skill\", \"dff_gaming_skill\", \"dff_travel_skill\", \"dff_animals_skill\", \"dff_food_skill\", \"dff_sport_skill\", \"dff_gossip_skill\", \"dff_science_skill\", \"dff_music_skill\", \"superheroes\", \"school\"], \"y\": [0.06896551724137931, 0.10344827586206896, 0.1724137931034483, 0.0, 0.0, 0.06896551724137931, 0.1724137931034483, 0.06896551724137931, 0.20689655172413793, 0.034482758620689655, 0.10344827586206896, 0.0, 0.0]}, {\"name\": \"v16.7.1\", \"opacity\": 0.75, \"type\": \"bar\", \"x\": [\"dff_movie_skill\", \"book_skill\", \"game_cooperative_skill\", \"dff_gaming_skill\", \"dff_travel_skill\", \"dff_animals_skill\", \"dff_food_skill\", \"dff_sport_skill\", \"dff_gossip_skill\", \"dff_science_skill\", \"dff_music_skill\", \"superheroes\", \"school\"], \"y\": [0.17073170731707318, 0.1951219512195122, 0.0975609756097561, 0.0, 0.024390243902439025, 0.12195121951219512, 0.0975609756097561, 0.0975609756097561, 0.14634146341463414, 0.04878048780487805, 0.0, 0.0, 0.0]}, {\"name\": \"v16.8.0\", \"opacity\": 0.75, \"type\": \"bar\", \"x\": [\"dff_movie_skill\", \"book_skill\", \"game_cooperative_skill\", \"dff_gaming_skill\", \"dff_travel_skill\", \"dff_animals_skill\", \"dff_food_skill\", \"dff_sport_skill\", \"dff_gossip_skill\", \"dff_science_skill\", \"dff_music_skill\", \"superheroes\", \"school\"], \"y\": [0.0, 0.15384615384615385, 0.12307692307692308, 0.0, 0.18461538461538463, 0.03076923076923077, 0.015384615384615385, 0.24615384615384617, 0.0, 0.24615384615384617, 0.0, 0.0, 0.0]}, {\"name\": \"v16.9.0\", \"opacity\": 0.75, \"type\": \"bar\", \"x\": [\"dff_movie_skill\", \"book_skill\", \"game_cooperative_skill\", \"dff_gaming_skill\", \"dff_travel_skill\", \"dff_animals_skill\", \"dff_food_skill\", \"dff_sport_skill\", \"dff_gossip_skill\", \"dff_science_skill\", \"dff_music_skill\", \"superheroes\", \"school\"], \"y\": [0.0, 0.1896551724137931, 0.27586206896551724, 0.0, 0.09770114942528736, 0.022988505747126436, 0.022988505747126436, 0.1839080459770115, 0.0, 0.20689655172413793, 0.0, 0.0, 0.0]}],                        {\"bargap\": 0.2, \"bargroupgap\": 0.1, \"template\": {\"data\": {\"bar\": [{\"error_x\": {\"color\": \"#2a3f5f\"}, \"error_y\": {\"color\": \"#2a3f5f\"}, \"marker\": {\"line\": {\"color\": \"#E5ECF6\", \"width\": 0.5}}, \"type\": \"bar\"}], \"barpolar\": [{\"marker\": {\"line\": {\"color\": \"#E5ECF6\", \"width\": 0.5}}, \"type\": \"barpolar\"}], \"carpet\": [{\"aaxis\": {\"endlinecolor\": \"#2a3f5f\", \"gridcolor\": \"white\", \"linecolor\": \"white\", \"minorgridcolor\": \"white\", \"startlinecolor\": \"#2a3f5f\"}, \"baxis\": {\"endlinecolor\": \"#2a3f5f\", \"gridcolor\": \"white\", \"linecolor\": \"white\", \"minorgridcolor\": \"white\", \"startlinecolor\": \"#2a3f5f\"}, \"type\": \"carpet\"}], \"choropleth\": [{\"colorbar\": {\"outlinewidth\": 0, \"ticks\": \"\"}, \"type\": \"choropleth\"}], \"contour\": [{\"colorbar\": {\"outlinewidth\": 0, \"ticks\": \"\"}, \"colorscale\": [[0.0, \"#0d0887\"], [0.1111111111111111, \"#46039f\"], [0.2222222222222222, \"#7201a8\"], [0.3333333333333333, \"#9c179e\"], [0.4444444444444444, \"#bd3786\"], [0.5555555555555556, \"#d8576b\"], [0.6666666666666666, \"#ed7953\"], [0.7777777777777778, \"#fb9f3a\"], [0.8888888888888888, \"#fdca26\"], [1.0, \"#f0f921\"]], \"type\": \"contour\"}], \"contourcarpet\": [{\"colorbar\": {\"outlinewidth\": 0, \"ticks\": \"\"}, \"type\": \"contourcarpet\"}], \"heatmap\": [{\"colorbar\": {\"outlinewidth\": 0, \"ticks\": \"\"}, \"colorscale\": [[0.0, \"#0d0887\"], [0.1111111111111111, \"#46039f\"], [0.2222222222222222, \"#7201a8\"], [0.3333333333333333, \"#9c179e\"], [0.4444444444444444, \"#bd3786\"], [0.5555555555555556, \"#d8576b\"], [0.6666666666666666, \"#ed7953\"], [0.7777777777777778, \"#fb9f3a\"], [0.8888888888888888, \"#fdca26\"], [1.0, \"#f0f921\"]], \"type\": \"heatmap\"}], \"heatmapgl\": [{\"colorbar\": {\"outlinewidth\": 0, \"ticks\": \"\"}, \"colorscale\": [[0.0, \"#0d0887\"], [0.1111111111111111, \"#46039f\"], [0.2222222222222222, \"#7201a8\"], [0.3333333333333333, \"#9c179e\"], [0.4444444444444444, \"#bd3786\"], [0.5555555555555556, \"#d8576b\"], [0.6666666666666666, \"#ed7953\"], [0.7777777777777778, \"#fb9f3a\"], [0.8888888888888888, \"#fdca26\"], [1.0, \"#f0f921\"]], \"type\": \"heatmapgl\"}], \"histogram\": [{\"marker\": {\"colorbar\": {\"outlinewidth\": 0, \"ticks\": \"\"}}, \"type\": \"histogram\"}], \"histogram2d\": [{\"colorbar\": {\"outlinewidth\": 0, \"ticks\": \"\"}, \"colorscale\": [[0.0, \"#0d0887\"], [0.1111111111111111, \"#46039f\"], [0.2222222222222222, \"#7201a8\"], [0.3333333333333333, \"#9c179e\"], [0.4444444444444444, \"#bd3786\"], [0.5555555555555556, \"#d8576b\"], [0.6666666666666666, \"#ed7953\"], [0.7777777777777778, \"#fb9f3a\"], [0.8888888888888888, \"#fdca26\"], [1.0, \"#f0f921\"]], \"type\": \"histogram2d\"}], \"histogram2dcontour\": [{\"colorbar\": {\"outlinewidth\": 0, \"ticks\": \"\"}, \"colorscale\": [[0.0, \"#0d0887\"], [0.1111111111111111, \"#46039f\"], [0.2222222222222222, \"#7201a8\"], [0.3333333333333333, \"#9c179e\"], [0.4444444444444444, \"#bd3786\"], [0.5555555555555556, \"#d8576b\"], [0.6666666666666666, \"#ed7953\"], [0.7777777777777778, \"#fb9f3a\"], [0.8888888888888888, \"#fdca26\"], [1.0, \"#f0f921\"]], \"type\": \"histogram2dcontour\"}], \"mesh3d\": [{\"colorbar\": {\"outlinewidth\": 0, \"ticks\": \"\"}, \"type\": \"mesh3d\"}], \"parcoords\": [{\"line\": {\"colorbar\": {\"outlinewidth\": 0, \"ticks\": \"\"}}, \"type\": \"parcoords\"}], \"pie\": [{\"automargin\": true, \"type\": \"pie\"}], \"scatter\": [{\"marker\": {\"colorbar\": {\"outlinewidth\": 0, \"ticks\": \"\"}}, \"type\": \"scatter\"}], \"scatter3d\": [{\"line\": {\"colorbar\": {\"outlinewidth\": 0, \"ticks\": \"\"}}, \"marker\": {\"colorbar\": {\"outlinewidth\": 0, \"ticks\": \"\"}}, \"type\": \"scatter3d\"}], \"scattercarpet\": [{\"marker\": {\"colorbar\": {\"outlinewidth\": 0, \"ticks\": \"\"}}, \"type\": \"scattercarpet\"}], \"scattergeo\": [{\"marker\": {\"colorbar\": {\"outlinewidth\": 0, \"ticks\": \"\"}}, \"type\": \"scattergeo\"}], \"scattergl\": [{\"marker\": {\"colorbar\": {\"outlinewidth\": 0, \"ticks\": \"\"}}, \"type\": \"scattergl\"}], \"scattermapbox\": [{\"marker\": {\"colorbar\": {\"outlinewidth\": 0, \"ticks\": \"\"}}, \"type\": \"scattermapbox\"}], \"scatterpolar\": [{\"marker\": {\"colorbar\": {\"outlinewidth\": 0, \"ticks\": \"\"}}, \"type\": \"scatterpolar\"}], \"scatterpolargl\": [{\"marker\": {\"colorbar\": {\"outlinewidth\": 0, \"ticks\": \"\"}}, \"type\": \"scatterpolargl\"}], \"scatterternary\": [{\"marker\": {\"colorbar\": {\"outlinewidth\": 0, \"ticks\": \"\"}}, \"type\": \"scatterternary\"}], \"surface\": [{\"colorbar\": {\"outlinewidth\": 0, \"ticks\": \"\"}, \"colorscale\": [[0.0, \"#0d0887\"], [0.1111111111111111, \"#46039f\"], [0.2222222222222222, \"#7201a8\"], [0.3333333333333333, \"#9c179e\"], [0.4444444444444444, \"#bd3786\"], [0.5555555555555556, \"#d8576b\"], [0.6666666666666666, \"#ed7953\"], [0.7777777777777778, \"#fb9f3a\"], [0.8888888888888888, \"#fdca26\"], [1.0, \"#f0f921\"]], \"type\": \"surface\"}], \"table\": [{\"cells\": {\"fill\": {\"color\": \"#EBF0F8\"}, \"line\": {\"color\": \"white\"}}, \"header\": {\"fill\": {\"color\": \"#C8D4E3\"}, \"line\": {\"color\": \"white\"}}, \"type\": \"table\"}]}, \"layout\": {\"annotationdefaults\": {\"arrowcolor\": \"#2a3f5f\", \"arrowhead\": 0, \"arrowwidth\": 1}, \"autotypenumbers\": \"strict\", \"coloraxis\": {\"colorbar\": {\"outlinewidth\": 0, \"ticks\": \"\"}}, \"colorscale\": {\"diverging\": [[0, \"#8e0152\"], [0.1, \"#c51b7d\"], [0.2, \"#de77ae\"], [0.3, \"#f1b6da\"], [0.4, \"#fde0ef\"], [0.5, \"#f7f7f7\"], [0.6, \"#e6f5d0\"], [0.7, \"#b8e186\"], [0.8, \"#7fbc41\"], [0.9, \"#4d9221\"], [1, \"#276419\"]], \"sequential\": [[0.0, \"#0d0887\"], [0.1111111111111111, \"#46039f\"], [0.2222222222222222, \"#7201a8\"], [0.3333333333333333, \"#9c179e\"], [0.4444444444444444, \"#bd3786\"], [0.5555555555555556, \"#d8576b\"], [0.6666666666666666, \"#ed7953\"], [0.7777777777777778, \"#fb9f3a\"], [0.8888888888888888, \"#fdca26\"], [1.0, \"#f0f921\"]], \"sequentialminus\": [[0.0, \"#0d0887\"], [0.1111111111111111, \"#46039f\"], [0.2222222222222222, \"#7201a8\"], [0.3333333333333333, \"#9c179e\"], [0.4444444444444444, \"#bd3786\"], [0.5555555555555556, \"#d8576b\"], [0.6666666666666666, \"#ed7953\"], [0.7777777777777778, \"#fb9f3a\"], [0.8888888888888888, \"#fdca26\"], [1.0, \"#f0f921\"]]}, \"colorway\": [\"#636efa\", \"#EF553B\", \"#00cc96\", \"#ab63fa\", \"#FFA15A\", \"#19d3f3\", \"#FF6692\", \"#B6E880\", \"#FF97FF\", \"#FECB52\"], \"font\": {\"color\": \"#2a3f5f\"}, \"geo\": {\"bgcolor\": \"white\", \"lakecolor\": \"white\", \"landcolor\": \"#E5ECF6\", \"showlakes\": true, \"showland\": true, \"subunitcolor\": \"white\"}, \"hoverlabel\": {\"align\": \"left\"}, \"hovermode\": \"closest\", \"mapbox\": {\"style\": \"light\"}, \"paper_bgcolor\": \"white\", \"plot_bgcolor\": \"#E5ECF6\", \"polar\": {\"angularaxis\": {\"gridcolor\": \"white\", \"linecolor\": \"white\", \"ticks\": \"\"}, \"bgcolor\": \"#E5ECF6\", \"radialaxis\": {\"gridcolor\": \"white\", \"linecolor\": \"white\", \"ticks\": \"\"}}, \"scene\": {\"xaxis\": {\"backgroundcolor\": \"#E5ECF6\", \"gridcolor\": \"white\", \"gridwidth\": 2, \"linecolor\": \"white\", \"showbackground\": true, \"ticks\": \"\", \"zerolinecolor\": \"white\"}, \"yaxis\": {\"backgroundcolor\": \"#E5ECF6\", \"gridcolor\": \"white\", \"gridwidth\": 2, \"linecolor\": \"white\", \"showbackground\": true, \"ticks\": \"\", \"zerolinecolor\": \"white\"}, \"zaxis\": {\"backgroundcolor\": \"#E5ECF6\", \"gridcolor\": \"white\", \"gridwidth\": 2, \"linecolor\": \"white\", \"showbackground\": true, \"ticks\": \"\", \"zerolinecolor\": \"white\"}}, \"shapedefaults\": {\"line\": {\"color\": \"#2a3f5f\"}}, \"ternary\": {\"aaxis\": {\"gridcolor\": \"white\", \"linecolor\": \"white\", \"ticks\": \"\"}, \"baxis\": {\"gridcolor\": \"white\", \"linecolor\": \"white\", \"ticks\": \"\"}, \"bgcolor\": \"#E5ECF6\", \"caxis\": {\"gridcolor\": \"white\", \"linecolor\": \"white\", \"ticks\": \"\"}}, \"title\": {\"x\": 0.05}, \"xaxis\": {\"automargin\": true, \"gridcolor\": \"white\", \"linecolor\": \"white\", \"ticks\": \"\", \"title\": {\"standoff\": 15}, \"zerolinecolor\": \"white\", \"zerolinewidth\": 2}, \"yaxis\": {\"automargin\": true, \"gridcolor\": \"white\", \"linecolor\": \"white\", \"ticks\": \"\", \"title\": {\"standoff\": 15}, \"zerolinecolor\": \"white\", \"zerolinewidth\": 2}}}, \"title\": {\"text\": \"\\u041f\\u0440\\u043e\\u0446\\u0435\\u043d\\u0442 \\u043b\\u0438\\u043d\\u043a\\u043e\\u0432 \\u043d\\u0430 \\u0441\\u043a\\u0438\\u043b\\u043b \\u043e\\u0442 \\u0432\\u0441\\u0435\\u0445 \\u043b\\u0438\\u043d\\u043a\\u043e\\u0432 \\u0432 \\u0434\\u0430\\u043d\\u043d\\u043e\\u0439 \\u0432\\u0435\\u0440\\u0441\\u0438\\u0438\"}, \"xaxis\": {\"title\": {\"text\": \"Skill\"}}, \"yaxis\": {\"title\": {\"text\": \"Percent\"}}},                        {\"responsive\": true}                    ).then(function(){\n",
       "                            \n",
       "var gd = document.getElementById('8fc3bda9-cbbf-4db3-b35d-a738c4dc60f1');\n",
       "var x = new MutationObserver(function (mutations, observer) {{\n",
       "        var display = window.getComputedStyle(gd).display;\n",
       "        if (!display || display === 'none') {{\n",
       "            console.log([gd, 'removed!']);\n",
       "            Plotly.purge(gd);\n",
       "            observer.disconnect();\n",
       "        }}\n",
       "}});\n",
       "\n",
       "// Listen for the removal of the full notebook cells\n",
       "var notebookContainer = gd.closest('#notebook-container');\n",
       "if (notebookContainer) {{\n",
       "    x.observe(notebookContainer, {childList: true});\n",
       "}}\n",
       "\n",
       "// Listen for the clearing of the current output cell\n",
       "var outputEl = gd.closest('.output');\n",
       "if (outputEl) {{\n",
       "    x.observe(outputEl, {childList: true});\n",
       "}}\n",
       "\n",
       "                        })                };                });            </script>        </div>"
      ]
     },
     "metadata": {},
     "output_type": "display_data"
    }
   ],
   "source": [
    "fig = go.Figure()\n",
    "\n",
    "for version in support_topic_count.keys():\n",
    "    \n",
    "    x0, y0 = [], []\n",
    "    \n",
    "    total = sum([support_topic_count[version][skill][\"yes\"] + support_topic_count[version][skill][\"no\"] \n",
    "                 for skill in support_topic_count[version].keys()])\n",
    "    \n",
    "    for skill in support_topic_count[version].keys():\n",
    "        x0.append(skill)\n",
    "        y0.append((support_topic_count[version][skill][\"yes\"] + support_topic_count[version][skill][\"no\"]) / total if total != 0 else 0)\n",
    "    \n",
    "    fig.add_trace(go.Bar(\n",
    "        x=x0,\n",
    "        y=y0,\n",
    "        name=version, \n",
    "        opacity=0.75\n",
    "    ))\n",
    "\n",
    "fig.update_layout(\n",
    "    title_text='Процент линков на скилл от всех линков в данной версии',\n",
    "    xaxis_title_text='Skill',\n",
    "    yaxis_title_text='Percent', \n",
    "    bargap=0.2,\n",
    "    bargroupgap=0.1 \n",
    ")\n",
    "\n",
    "fig.show()"
   ]
  }
 ],
 "metadata": {
  "kernelspec": {
   "display_name": "Python 3",
   "language": "python",
   "name": "python3"
  },
  "language_info": {
   "codemirror_mode": {
    "name": "ipython",
    "version": 3
   },
   "file_extension": ".py",
   "mimetype": "text/x-python",
   "name": "python",
   "nbconvert_exporter": "python",
   "pygments_lexer": "ipython3",
   "version": "3.8.4"
  }
 },
 "nbformat": 4,
 "nbformat_minor": 5
}
