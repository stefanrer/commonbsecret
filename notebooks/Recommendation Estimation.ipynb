{
 "cells": [
  {
   "cell_type": "markdown",
   "id": "joint-wednesday",
   "metadata": {},
   "source": [
    "## Подсчет количества согласий/несогласий пользователя продолжить диалог на заданную с помощью link_to тему для анализа работы рекомендательной системы"
   ]
  },
  {
   "cell_type": "code",
   "execution_count": 3,
   "id": "leading-devil",
   "metadata": {},
   "outputs": [],
   "source": [
    "import json"
   ]
  },
  {
   "cell_type": "code",
   "execution_count": 6,
   "id": "metric-double",
   "metadata": {},
   "outputs": [],
   "source": [
    "recommended_data = []\n",
    "\n",
    "for i in [15, 16, 17, 18, 19, 20]:\n",
    "    data = json.load(open(\"Downloads/alexaprize-export-\" + str(i) + \".json\", \"r\"))\n",
    "    clear_data = []\n",
    "    for d in data:\n",
    "        if d['utterances'][0]['attributes'].get('version', \"\") in ['v17.3.0', 'v17.4.0', 'v17.5.0', 'v17.6.0']:\n",
    "            clear_data.append(d)\n",
    "    recommended_data += clear_data"
   ]
  },
  {
   "cell_type": "code",
   "execution_count": 7,
   "id": "correct-jurisdiction",
   "metadata": {},
   "outputs": [
    {
     "data": {
      "text/plain": [
       "3093"
      ]
     },
     "execution_count": 7,
     "metadata": {},
     "output_type": "execute_result"
    }
   ],
   "source": [
    "len(recommended_data)"
   ]
  },
  {
   "cell_type": "code",
   "execution_count": null,
   "id": "compatible-attendance",
   "metadata": {},
   "outputs": [],
   "source": [
    "recommended_data "
   ]
  },
  {
   "cell_type": "code",
   "execution_count": 25,
   "id": "compatible-trouble",
   "metadata": {},
   "outputs": [],
   "source": [
    "recommended_data = recommended_data[:len(recommended_data)//2]"
   ]
  },
  {
   "cell_type": "code",
   "execution_count": 20,
   "id": "waiting-worst",
   "metadata": {},
   "outputs": [],
   "source": [
    "link_to = {\"dff_movie_skill\": [\"Great idea! Cinemas are closed because of the pandemic but I watch a lot of movies online. What is the recent movie you've watched?\", 'What is the name of the last movie you watched?', 'What is the best movie you have seen recently?', 'What movie you could watch over and over again?', 'What is your favorite TV series?', 'What TV series did you watch on weekends?', 'What movie did you watch on weekends?'],\n",
    " \"book_skill\": [\"What is the last book you've read?\", 'What is your favorite book?', 'What book do you like to read?', \"What's a book you would recommend to your friend?\", 'What is the longest book you have ever read?', \"What's a book you like to recommend to other people?\", 'What is a book that was recommended to you?'],\n",
    " \"game_cooperative_skill\": ['do you love video games?'],\n",
    " \"dff_travel_skill\": ['Do you like travel?', 'What is your view on travel?', 'What is your opinion of travel?', 'Do you think travel is cool?', 'Do you think travel is a great thing?'],\n",
    " \"dff_animals_skill\": ['Do you like animals?', 'Do you have pets?', 'Would you like to talk about animals?', \"Let's chat about animals. Do you agree?\", \"I'd like to talk about animals, would you?\", 'I think that pets are a great source of entertainment. Do you have pets at home?', 'We all know that pets are remarkable for their capacity to love. Do you have pets at home?'],\n",
    " \"dff_food_skill\": ['Do you like cooking?', 'Do you think cooking is cool?', 'Many people say they adore cooking. Do you agree?', 'Do you think cooking is a great thing?'],\n",
    " \"dff_sport_skill\": ['Do you like sports?', 'Do you like fitness?', 'Would you like to chat about sport?', 'Would you like to talk about your favorite athletes? ', 'Do you have a sports idol?', 'Well, Do you want to talk about sports competitions?'],\n",
    " \"dff_gossip_skill\": ['Would you want to hear the latest gossip?', 'Are you interested in the latest gossip?', 'Would you be interested in the latest gossip?', 'What is your favourite celebrity?'],\n",
    " \"dff_science_skill\":['Do you like science?', 'Do you think science is cool?', 'Many people say they adore science. Do you agree?', 'Do you think science is a great thing?', 'Would you like to chat about science?', 'Would you like to talk about science?', \"I'd like to talk about science, would you?\"],\n",
    " \"dff_music_skill\": ['What kind of music do you like?', 'What kind of music do you listen to to cheer you up?', 'What kind of music do you usually listen to?', 'Who is your favorite singer?', 'What song do you like to sing?', 'What is your favorite album?', 'Who do you think is the best band ever?'],\n",
    " \"news_api_skill\": ['Would you like to hear the latest news?'],\n",
    " \"personal_info_skill\": [\"What is your name?\", \"Where are you from?\"],\n",
    " \"emotion_skill\": ['How do you feel?', 'How are you?', 'How are things?', 'How are you doing today?', 'How is the day going so far for you?']\n",
    "} "
   ]
  },
  {
   "cell_type": "code",
   "execution_count": 28,
   "id": "crude-psychology",
   "metadata": {},
   "outputs": [],
   "source": [
    "yes_count, no_count = 0, 0\n",
    "h_count, t_count = 0, 0\n",
    "topic_recommendations = []\n",
    "\n",
    "for j, d in enumerate(recommended_data):\n",
    "    for i, el in enumerate(d['utterances']):\n",
    "        topic_text, text = \"gfdsa\", \"gfdsa\"\n",
    "        hyp = el.get(\"hypotheses\", \"\")\n",
    "        used_annotation = False\n",
    "        if len(hyp) > 0:\n",
    "            for h in hyp:\n",
    "                if h['skill_name'] == 'dummy_skill' and h['type'] == 'link_to_for_response_selector':\n",
    "                    #for k, v in h.items():\n",
    "                    #    print(k, v)\n",
    "                    #print(\"__________\")\n",
    "                    text = h['text'] \n",
    "                    if el[\"annotations\"].get(\"topic_recommendation\", \"123\") != \"123\":\n",
    "                        topic_text = h['text']\n",
    "                        topic_recommendations += el[\"annotations\"][\"topic_recommendation\"]\n",
    "                        for k, v in link_to.items():\n",
    "                            for phrase in v:\n",
    "                                if phrase in topic_text:\n",
    "                                    for rec in el[\"annotations\"][\"topic_recommendation\"]:\n",
    "                                        if rec == k:\n",
    "                                            used_annotation = True\n",
    "                    break\n",
    "        if i < len(d['utterances']) - 2:\n",
    "            if topic_text in d['utterances'][i+1]['text'] and used_annotation:\n",
    "                h_count += 1\n",
    "                if len(d['utterances'][i+2][\"annotations\"].get(\"intent_catcher\", \"\")) > 0:\n",
    "                    yes_reaction = d['utterances'][i+2][\"annotations\"][\"intent_catcher\"][\"yes\"][\"detected\"]\n",
    "                    no_reaction = d['utterances'][i+2][\"annotations\"][\"intent_catcher\"][\"no\"][\"detected\"]\n",
    "                else:\n",
    "                    yes_reaction = 0\n",
    "                    no_reaction = 0\n",
    "                if len(d['utterances'][i+2][\"annotations\"].get('combined_classification', \"\")) > 0:\n",
    "                    if len(d['utterances'][i+2][\"annotations\"]['combined_classification'].get(\"sentiment_classification\", \"\")) > 0:\n",
    "                        yes_sentiment = bool(d['utterances'][i+2][\"annotations\"]['combined_classification'][\"sentiment_classification\"].get(\"positive\", \"\"))\n",
    "                        no_sentiment = bool(d['utterances'][i+2][\"annotations\"]['combined_classification'][\"sentiment_classification\"].get(\"negative\", \"\"))\n",
    "                else:\n",
    "                    yes_sentiment = 0\n",
    "                    no_sentiment = 0\n",
    "                if yes_reaction or yes_sentiment:\n",
    "                    yes_count += 1\n",
    "                if no_reaction or no_sentiment:\n",
    "                    no_count += 1\n",
    "            if topic_text in d['utterances'][i+1]['text']:\n",
    "                t_count += 1"
   ]
  },
  {
   "cell_type": "code",
   "execution_count": 22,
   "id": "determined-squad",
   "metadata": {},
   "outputs": [
    {
     "data": {
      "text/plain": [
       "(476, 301)"
      ]
     },
     "execution_count": 22,
     "metadata": {},
     "output_type": "execute_result"
    }
   ],
   "source": [
    "yes_count, no_count"
   ]
  },
  {
   "cell_type": "code",
   "execution_count": 12,
   "id": "functional-richards",
   "metadata": {},
   "outputs": [
    {
     "data": {
      "text/plain": [
       "(543, 350)"
      ]
     },
     "execution_count": 12,
     "metadata": {},
     "output_type": "execute_result"
    }
   ],
   "source": [
    "yes_count, no_count"
   ]
  },
  {
   "cell_type": "code",
   "execution_count": 27,
   "id": "spatial-somewhere",
   "metadata": {},
   "outputs": [
    {
     "data": {
      "text/plain": [
       "777"
      ]
     },
     "execution_count": 27,
     "metadata": {},
     "output_type": "execute_result"
    }
   ],
   "source": [
    "476 + 301"
   ]
  },
  {
   "cell_type": "code",
   "execution_count": 23,
   "id": "shared-rouge",
   "metadata": {},
   "outputs": [
    {
     "data": {
      "text/plain": [
       "0.6126126126126126"
      ]
     },
     "execution_count": 23,
     "metadata": {},
     "output_type": "execute_result"
    }
   ],
   "source": [
    "yes_count/(yes_count + no_count)"
   ]
  }
 ],
 "metadata": {
  "kernelspec": {
   "display_name": "Python 3",
   "language": "python",
   "name": "python3"
  },
  "language_info": {
   "codemirror_mode": {
    "name": "ipython",
    "version": 3
   },
   "file_extension": ".py",
   "mimetype": "text/x-python",
   "name": "python",
   "nbconvert_exporter": "python",
   "pygments_lexer": "ipython3",
   "version": "3.8.4"
  }
 },
 "nbformat": 4,
 "nbformat_minor": 5
}
